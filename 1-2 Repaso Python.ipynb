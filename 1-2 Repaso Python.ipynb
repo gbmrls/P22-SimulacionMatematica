{
 "cells": [
  {
   "cell_type": "markdown",
   "id": "9bfebc99",
   "metadata": {},
   "source": [
    "# Repaso de estructuras básicas de programación"
   ]
  },
  {
   "cell_type": "markdown",
   "id": "3533234b",
   "metadata": {},
   "source": [
    "## Sintaxis y control de flujo"
   ]
  },
  {
   "cell_type": "code",
   "execution_count": 2,
   "id": "db1a102e",
   "metadata": {},
   "outputs": [],
   "source": [
    "a = 2\n",
    "b = 3"
   ]
  },
  {
   "cell_type": "code",
   "execution_count": 3,
   "id": "32354f61",
   "metadata": {},
   "outputs": [
    {
     "data": {
      "text/plain": [
       "2"
      ]
     },
     "execution_count": 3,
     "metadata": {},
     "output_type": "execute_result"
    }
   ],
   "source": [
    "a"
   ]
  },
  {
   "cell_type": "code",
   "execution_count": 4,
   "id": "6188e494",
   "metadata": {},
   "outputs": [
    {
     "data": {
      "text/plain": [
       "3"
      ]
     },
     "execution_count": 4,
     "metadata": {},
     "output_type": "execute_result"
    }
   ],
   "source": [
    "b"
   ]
  },
  {
   "cell_type": "markdown",
   "id": "09b12518",
   "metadata": {},
   "source": [
    "### if - else"
   ]
  },
  {
   "cell_type": "code",
   "execution_count": 6,
   "id": "373aed69",
   "metadata": {},
   "outputs": [
    {
     "name": "stdout",
     "output_type": "stream",
     "text": [
      "Flujo 2\n"
     ]
    }
   ],
   "source": [
    "condicion = False\n",
    "\n",
    "if(condicion == True) :\n",
    "    print(\"Flujo 1\")\n",
    "else :\n",
    "    print(\"Flujo 2\")\n"
   ]
  },
  {
   "cell_type": "markdown",
   "id": "88f34dae",
   "metadata": {},
   "source": [
    "### bucle/ciclo"
   ]
  },
  {
   "cell_type": "code",
   "execution_count": 8,
   "id": "1c721c16",
   "metadata": {},
   "outputs": [
    {
     "name": "stdout",
     "output_type": "stream",
     "text": [
      "Estoy en la iteración 0\n",
      "Estoy en la iteración 1\n",
      "Estoy en la iteración 2\n",
      "Estoy en la iteración 3\n",
      "Estoy en la iteración 4\n"
     ]
    }
   ],
   "source": [
    "contador = 0\n",
    "\n",
    "while(contador < 5) :\n",
    "    print(\"Estoy en la iteración \" + str(contador))\n",
    "    contador += 1 # contador = contador + 1"
   ]
  },
  {
   "cell_type": "code",
   "execution_count": 12,
   "id": "63cb3b77",
   "metadata": {},
   "outputs": [
    {
     "name": "stdout",
     "output_type": "stream",
     "text": [
      "Estoy en la iteración 0\n",
      "Estoy en la iteración 1\n",
      "Estoy en la iteración 2\n",
      "Estoy en la iteración 3\n",
      "Estoy en la iteración 4\n"
     ]
    }
   ],
   "source": [
    "for contador in range(5) :\n",
    "    print(\"Estoy en la iteración \" + str(contador))"
   ]
  },
  {
   "cell_type": "code",
   "execution_count": 13,
   "id": "618ddab0",
   "metadata": {},
   "outputs": [
    {
     "name": "stdout",
     "output_type": "stream",
     "text": [
      "Estoy en la iteración 0\n",
      "Estoy en la iteración 2\n",
      "Estoy en la iteración 4\n",
      "Estoy en la iteración 6\n",
      "Estoy en la iteración 8\n"
     ]
    }
   ],
   "source": [
    "for contador in range(10) :\n",
    "    if (contador%2 == 0) :\n",
    "        print(\"Estoy en la iteración \" + str(contador))"
   ]
  },
  {
   "cell_type": "markdown",
   "id": "e5e8c6c5",
   "metadata": {},
   "source": [
    "## Operadores"
   ]
  },
  {
   "cell_type": "markdown",
   "id": "efb0e63e",
   "metadata": {},
   "source": [
    "### Matemáticos"
   ]
  },
  {
   "cell_type": "code",
   "execution_count": 14,
   "id": "164da951",
   "metadata": {},
   "outputs": [
    {
     "data": {
      "text/plain": [
       "5"
      ]
     },
     "execution_count": 14,
     "metadata": {},
     "output_type": "execute_result"
    }
   ],
   "source": [
    "a = 2\n",
    "b = 3\n",
    "\n",
    "a + b"
   ]
  },
  {
   "cell_type": "code",
   "execution_count": 15,
   "id": "c456e962",
   "metadata": {},
   "outputs": [
    {
     "data": {
      "text/plain": [
       "-1"
      ]
     },
     "execution_count": 15,
     "metadata": {},
     "output_type": "execute_result"
    }
   ],
   "source": [
    "a - b"
   ]
  },
  {
   "cell_type": "code",
   "execution_count": 16,
   "id": "d0acde19",
   "metadata": {},
   "outputs": [
    {
     "data": {
      "text/plain": [
       "6"
      ]
     },
     "execution_count": 16,
     "metadata": {},
     "output_type": "execute_result"
    }
   ],
   "source": [
    "a*b"
   ]
  },
  {
   "cell_type": "code",
   "execution_count": 17,
   "id": "fd329b06",
   "metadata": {},
   "outputs": [
    {
     "data": {
      "text/plain": [
       "8"
      ]
     },
     "execution_count": 17,
     "metadata": {},
     "output_type": "execute_result"
    }
   ],
   "source": [
    "a**b"
   ]
  },
  {
   "cell_type": "code",
   "execution_count": 18,
   "id": "d406c5ea",
   "metadata": {},
   "outputs": [
    {
     "data": {
      "text/plain": [
       "0.6666666666666666"
      ]
     },
     "execution_count": 18,
     "metadata": {},
     "output_type": "execute_result"
    }
   ],
   "source": [
    "a/b"
   ]
  },
  {
   "cell_type": "code",
   "execution_count": 19,
   "id": "21ee4220",
   "metadata": {},
   "outputs": [
    {
     "data": {
      "text/plain": [
       "2"
      ]
     },
     "execution_count": 19,
     "metadata": {},
     "output_type": "execute_result"
    }
   ],
   "source": [
    "a%b # residuo de 2/3"
   ]
  },
  {
   "cell_type": "markdown",
   "id": "a74ef898",
   "metadata": {},
   "source": [
    "### Booleanos"
   ]
  },
  {
   "cell_type": "code",
   "execution_count": 20,
   "id": "84f467a8",
   "metadata": {},
   "outputs": [
    {
     "data": {
      "text/plain": [
       "False"
      ]
     },
     "execution_count": 20,
     "metadata": {},
     "output_type": "execute_result"
    }
   ],
   "source": [
    "a = 2\n",
    "b = 3\n",
    "\n",
    "a == b"
   ]
  },
  {
   "cell_type": "code",
   "execution_count": 21,
   "id": "8bcdba57",
   "metadata": {},
   "outputs": [
    {
     "data": {
      "text/plain": [
       "True"
      ]
     },
     "execution_count": 21,
     "metadata": {},
     "output_type": "execute_result"
    }
   ],
   "source": [
    "a != b"
   ]
  },
  {
   "cell_type": "code",
   "execution_count": 22,
   "id": "37f7e147",
   "metadata": {},
   "outputs": [
    {
     "data": {
      "text/plain": [
       "False"
      ]
     },
     "execution_count": 22,
     "metadata": {},
     "output_type": "execute_result"
    }
   ],
   "source": [
    "a > b"
   ]
  },
  {
   "cell_type": "code",
   "execution_count": 23,
   "id": "5ada0a29",
   "metadata": {},
   "outputs": [
    {
     "data": {
      "text/plain": [
       "True"
      ]
     },
     "execution_count": 23,
     "metadata": {},
     "output_type": "execute_result"
    }
   ],
   "source": [
    "a < b"
   ]
  },
  {
   "cell_type": "code",
   "execution_count": 24,
   "id": "1752c00c",
   "metadata": {},
   "outputs": [
    {
     "data": {
      "text/plain": [
       "False"
      ]
     },
     "execution_count": 24,
     "metadata": {},
     "output_type": "execute_result"
    }
   ],
   "source": [
    "a >= b"
   ]
  },
  {
   "cell_type": "code",
   "execution_count": 25,
   "id": "1c0a0e8a",
   "metadata": {},
   "outputs": [
    {
     "data": {
      "text/plain": [
       "True"
      ]
     },
     "execution_count": 25,
     "metadata": {},
     "output_type": "execute_result"
    }
   ],
   "source": [
    "a <= b"
   ]
  },
  {
   "cell_type": "markdown",
   "id": "abde8384",
   "metadata": {},
   "source": [
    "## Hilos"
   ]
  },
  {
   "cell_type": "code",
   "execution_count": 27,
   "id": "87c4615d",
   "metadata": {},
   "outputs": [
    {
     "name": "stdout",
     "output_type": "stream",
     "text": [
      "Un ejemplo de hilo.\n"
     ]
    }
   ],
   "source": [
    "hilo1 = \"Un ejemplo de hilo.\"\n",
    "\n",
    "print(hilo1)"
   ]
  },
  {
   "cell_type": "code",
   "execution_count": 29,
   "id": "7f30cdd4",
   "metadata": {},
   "outputs": [
    {
     "name": "stdout",
     "output_type": "stream",
     "text": [
      "Otro ejemplo de hilo.\n"
     ]
    }
   ],
   "source": [
    "hilo2 = \"Otro ejemplo de hilo.\"\n",
    "\n",
    "print(hilo2)"
   ]
  },
  {
   "cell_type": "code",
   "execution_count": 31,
   "id": "26732cbe",
   "metadata": {},
   "outputs": [
    {
     "data": {
      "text/plain": [
       "'Un ejemplo de hilo. Otro ejemplo de hilo.'"
      ]
     },
     "execution_count": 31,
     "metadata": {},
     "output_type": "execute_result"
    }
   ],
   "source": [
    "hilo1 + \" \" + hilo2"
   ]
  },
  {
   "cell_type": "code",
   "execution_count": 32,
   "id": "c923926e",
   "metadata": {},
   "outputs": [
    {
     "name": "stdout",
     "output_type": "stream",
     "text": [
      "3.141592653589793\n"
     ]
    }
   ],
   "source": [
    "import numpy as np\n",
    "print(np.pi)"
   ]
  },
  {
   "cell_type": "code",
   "execution_count": 33,
   "id": "217262a8",
   "metadata": {},
   "outputs": [
    {
     "name": "stdout",
     "output_type": "stream",
     "text": [
      "El valor de pi es: 3.141592653589793\n"
     ]
    }
   ],
   "source": [
    "print(\"El valor de pi es: \" + str(np.pi))"
   ]
  },
  {
   "cell_type": "markdown",
   "id": "8414638a",
   "metadata": {},
   "source": [
    "## Listas"
   ]
  },
  {
   "cell_type": "code",
   "execution_count": 34,
   "id": "cb1918af",
   "metadata": {},
   "outputs": [],
   "source": [
    "a = [1, 2, 3]\n",
    "b = [4, 5, 6]"
   ]
  },
  {
   "cell_type": "code",
   "execution_count": 35,
   "id": "7779f518",
   "metadata": {},
   "outputs": [
    {
     "name": "stdout",
     "output_type": "stream",
     "text": [
      "[1, 2, 3]\n"
     ]
    }
   ],
   "source": [
    "print(a)"
   ]
  },
  {
   "cell_type": "code",
   "execution_count": 36,
   "id": "f96df428",
   "metadata": {},
   "outputs": [
    {
     "name": "stdout",
     "output_type": "stream",
     "text": [
      "[4, 5, 6]\n"
     ]
    }
   ],
   "source": [
    "print(b)"
   ]
  },
  {
   "cell_type": "code",
   "execution_count": 37,
   "id": "e4ad6593",
   "metadata": {},
   "outputs": [
    {
     "data": {
      "text/plain": [
       "[1, 2, 3, 4, 5, 6]"
      ]
     },
     "execution_count": 37,
     "metadata": {},
     "output_type": "execute_result"
    }
   ],
   "source": [
    "a + b"
   ]
  },
  {
   "cell_type": "code",
   "execution_count": 38,
   "id": "ead065b3",
   "metadata": {},
   "outputs": [
    {
     "name": "stdout",
     "output_type": "stream",
     "text": [
      "[1, 2, 3, 6, 5, 4]\n"
     ]
    }
   ],
   "source": [
    "a.append(6)\n",
    "a.append(5)\n",
    "a.append(4)\n",
    "\n",
    "print(a)"
   ]
  },
  {
   "cell_type": "code",
   "execution_count": 39,
   "id": "383e3843",
   "metadata": {},
   "outputs": [
    {
     "data": {
      "text/plain": [
       "6"
      ]
     },
     "execution_count": 39,
     "metadata": {},
     "output_type": "execute_result"
    }
   ],
   "source": [
    "a[3]"
   ]
  },
  {
   "cell_type": "code",
   "execution_count": 40,
   "id": "24cbd1cd",
   "metadata": {},
   "outputs": [
    {
     "data": {
      "text/plain": [
       "4"
      ]
     },
     "execution_count": 40,
     "metadata": {},
     "output_type": "execute_result"
    }
   ],
   "source": [
    "a[5]"
   ]
  },
  {
   "cell_type": "code",
   "execution_count": 41,
   "id": "3a3efac5",
   "metadata": {},
   "outputs": [
    {
     "data": {
      "text/plain": [
       "4"
      ]
     },
     "execution_count": 41,
     "metadata": {},
     "output_type": "execute_result"
    }
   ],
   "source": [
    "a[-1]"
   ]
  },
  {
   "cell_type": "code",
   "execution_count": 42,
   "id": "208ae9a1",
   "metadata": {},
   "outputs": [
    {
     "data": {
      "text/plain": [
       "5"
      ]
     },
     "execution_count": 42,
     "metadata": {},
     "output_type": "execute_result"
    }
   ],
   "source": [
    "a[-2]"
   ]
  },
  {
   "cell_type": "code",
   "execution_count": 43,
   "id": "ba612de1",
   "metadata": {},
   "outputs": [
    {
     "data": {
      "text/plain": [
       "False"
      ]
     },
     "execution_count": 43,
     "metadata": {},
     "output_type": "execute_result"
    }
   ],
   "source": [
    "3 in b"
   ]
  },
  {
   "cell_type": "code",
   "execution_count": 44,
   "id": "61094427",
   "metadata": {},
   "outputs": [
    {
     "data": {
      "text/plain": [
       "True"
      ]
     },
     "execution_count": 44,
     "metadata": {},
     "output_type": "execute_result"
    }
   ],
   "source": [
    "3 in a"
   ]
  },
  {
   "cell_type": "code",
   "execution_count": 45,
   "id": "09916d40",
   "metadata": {},
   "outputs": [
    {
     "name": "stdout",
     "output_type": "stream",
     "text": [
      "Sí. Hay un 5 en a\n"
     ]
    }
   ],
   "source": [
    "if (5 in a) :\n",
    "    print(\"Sí. Hay un 5 en a\")"
   ]
  },
  {
   "cell_type": "code",
   "execution_count": 46,
   "id": "01921b67",
   "metadata": {},
   "outputs": [
    {
     "name": "stdout",
     "output_type": "stream",
     "text": [
      "['hilo1', 'hilo2', 'hilo3']\n"
     ]
    }
   ],
   "source": [
    "lista_de_hilos = [\"hilo1\", \"hilo2\", \"hilo3\"]\n",
    "print(lista_de_hilos)"
   ]
  },
  {
   "cell_type": "code",
   "execution_count": 47,
   "id": "627c8f28",
   "metadata": {},
   "outputs": [
    {
     "name": "stdout",
     "output_type": "stream",
     "text": [
      "['hilo', 4, 3.141592653589793]\n"
     ]
    }
   ],
   "source": [
    "lista_mezclada = [\"hilo\", 4, np.pi]\n",
    "print(lista_mezclada)"
   ]
  },
  {
   "cell_type": "code",
   "execution_count": 48,
   "id": "99f6a219",
   "metadata": {},
   "outputs": [
    {
     "name": "stdout",
     "output_type": "stream",
     "text": [
      "[[1, 2, 3, 6, 5, 4], [4, 5, 6], ['hilo1', 'hilo2', 'hilo3'], ['hilo', 4, 3.141592653589793]]\n"
     ]
    }
   ],
   "source": [
    "lista_de_listas = []\n",
    "lista_de_listas.append(a)\n",
    "lista_de_listas.append(b)\n",
    "lista_de_listas.append(lista_de_hilos)\n",
    "lista_de_listas.append(lista_mezclada)\n",
    "print(lista_de_listas)"
   ]
  },
  {
   "cell_type": "code",
   "execution_count": 50,
   "id": "643c02ab",
   "metadata": {},
   "outputs": [
    {
     "data": {
      "text/plain": [
       "'hilo'"
      ]
     },
     "execution_count": 50,
     "metadata": {},
     "output_type": "execute_result"
    }
   ],
   "source": [
    "lista_de_listas[-1][0]"
   ]
  },
  {
   "cell_type": "markdown",
   "id": "76ba072e",
   "metadata": {},
   "source": [
    "## Diccionarios"
   ]
  },
  {
   "cell_type": "code",
   "execution_count": 51,
   "id": "92c9efc7",
   "metadata": {},
   "outputs": [
    {
     "name": "stdout",
     "output_type": "stream",
     "text": [
      "{0: 'Elemento con llave cero', 1: 'Elemento con llave uno'}\n"
     ]
    }
   ],
   "source": [
    "d = {0 : \"Elemento con llave cero\",\n",
    "     1 : \"Elemento con llave uno\"}\n",
    "print(d)"
   ]
  },
  {
   "cell_type": "code",
   "execution_count": 52,
   "id": "ce95f88d",
   "metadata": {},
   "outputs": [
    {
     "data": {
      "text/plain": [
       "'Elemento con llave cero'"
      ]
     },
     "execution_count": 52,
     "metadata": {},
     "output_type": "execute_result"
    }
   ],
   "source": [
    "d[0]"
   ]
  },
  {
   "cell_type": "code",
   "execution_count": 53,
   "id": "15bd8c3a",
   "metadata": {},
   "outputs": [],
   "source": [
    "d = {0 : \"Elemento con llave cero\",\n",
    "     1 : \"Elemento con llave uno\",\n",
    "    \"hilo\": np.pi}"
   ]
  },
  {
   "cell_type": "code",
   "execution_count": 55,
   "id": "218d7bb4",
   "metadata": {},
   "outputs": [
    {
     "data": {
      "text/plain": [
       "3.141592653589793"
      ]
     },
     "execution_count": 55,
     "metadata": {},
     "output_type": "execute_result"
    }
   ],
   "source": [
    "d[\"hilo\"]"
   ]
  },
  {
   "cell_type": "markdown",
   "id": "eafd42dd",
   "metadata": {},
   "source": [
    "## Funciones"
   ]
  },
  {
   "cell_type": "code",
   "execution_count": 56,
   "id": "139b2979",
   "metadata": {},
   "outputs": [
    {
     "name": "stdout",
     "output_type": "stream",
     "text": [
      "Estoy dentro de la función 1.\n"
     ]
    }
   ],
   "source": [
    "def funcion1() :\n",
    "    print(\"Estoy dentro de la función 1.\")\n",
    "\n",
    "funcion1()"
   ]
  },
  {
   "cell_type": "code",
   "execution_count": 57,
   "id": "59aa68b5",
   "metadata": {},
   "outputs": [
    {
     "name": "stdout",
     "output_type": "stream",
     "text": [
      "45\n"
     ]
    }
   ],
   "source": [
    "def funcion_con_parametros(a, b, c) :\n",
    "    print(a + b + c)\n",
    "    \n",
    "funcion_con_parametros(10, 15, 20)"
   ]
  },
  {
   "cell_type": "code",
   "execution_count": 58,
   "id": "217dd44f",
   "metadata": {},
   "outputs": [
    {
     "ename": "TypeError",
     "evalue": "funcion_con_parametros() missing 1 required positional argument: 'c'",
     "output_type": "error",
     "traceback": [
      "\u001b[1;31m---------------------------------------------------------------------------\u001b[0m",
      "\u001b[1;31mTypeError\u001b[0m                                 Traceback (most recent call last)",
      "\u001b[1;32m<ipython-input-58-771400286431>\u001b[0m in \u001b[0;36m<module>\u001b[1;34m\u001b[0m\n\u001b[1;32m----> 1\u001b[1;33m \u001b[0mfuncion_con_parametros\u001b[0m\u001b[1;33m(\u001b[0m\u001b[1;36m10\u001b[0m\u001b[1;33m,\u001b[0m \u001b[1;36m15\u001b[0m\u001b[1;33m)\u001b[0m\u001b[1;33m\u001b[0m\u001b[1;33m\u001b[0m\u001b[0m\n\u001b[0m",
      "\u001b[1;31mTypeError\u001b[0m: funcion_con_parametros() missing 1 required positional argument: 'c'"
     ]
    }
   ],
   "source": [
    "funcion_con_parametros(10, 15)"
   ]
  },
  {
   "cell_type": "code",
   "execution_count": 60,
   "id": "1591caea",
   "metadata": {},
   "outputs": [
    {
     "name": "stdout",
     "output_type": "stream",
     "text": [
      "111\n"
     ]
    }
   ],
   "source": [
    "def funcion_con_parametros_predefinidos(a=1, b=10, c=100) :\n",
    "    print(a + b + c)\n",
    "\n",
    "funcion_con_parametros_predefinidos()"
   ]
  },
  {
   "cell_type": "code",
   "execution_count": 63,
   "id": "d962a71c",
   "metadata": {},
   "outputs": [
    {
     "name": "stdout",
     "output_type": "stream",
     "text": [
      "151\n"
     ]
    }
   ],
   "source": [
    "funcion_con_parametros_predefinidos(b=50)"
   ]
  },
  {
   "cell_type": "code",
   "execution_count": 62,
   "id": "0649effe",
   "metadata": {},
   "outputs": [
    {
     "data": {
      "text/plain": [
       "[4, 5, 6]"
      ]
     },
     "execution_count": 62,
     "metadata": {},
     "output_type": "execute_result"
    }
   ],
   "source": [
    "b"
   ]
  },
  {
   "cell_type": "markdown",
   "id": "96595599",
   "metadata": {},
   "source": [
    "## Lectura rápida de archivos"
   ]
  },
  {
   "cell_type": "code",
   "execution_count": 1,
   "id": "c971a8a8",
   "metadata": {},
   "outputs": [],
   "source": [
    "import pandas as pd\n",
    "data = pd.read_excel(\"datosPE.xlsx\")"
   ]
  },
  {
   "cell_type": "code",
   "execution_count": 65,
   "id": "e321aa57",
   "metadata": {},
   "outputs": [
    {
     "data": {
      "text/html": [
       "<div>\n",
       "<style scoped>\n",
       "    .dataframe tbody tr th:only-of-type {\n",
       "        vertical-align: middle;\n",
       "    }\n",
       "\n",
       "    .dataframe tbody tr th {\n",
       "        vertical-align: top;\n",
       "    }\n",
       "\n",
       "    .dataframe thead th {\n",
       "        text-align: right;\n",
       "    }\n",
       "</style>\n",
       "<table border=\"1\" class=\"dataframe\">\n",
       "  <thead>\n",
       "    <tr style=\"text-align: right;\">\n",
       "      <th></th>\n",
       "      <th>ID Persona</th>\n",
       "      <th>Peso</th>\n",
       "      <th>Estatura</th>\n",
       "    </tr>\n",
       "  </thead>\n",
       "  <tbody>\n",
       "    <tr>\n",
       "      <th>0</th>\n",
       "      <td>1</td>\n",
       "      <td>67</td>\n",
       "      <td>1.41</td>\n",
       "    </tr>\n",
       "    <tr>\n",
       "      <th>1</th>\n",
       "      <td>2</td>\n",
       "      <td>99</td>\n",
       "      <td>1.83</td>\n",
       "    </tr>\n",
       "    <tr>\n",
       "      <th>2</th>\n",
       "      <td>3</td>\n",
       "      <td>86</td>\n",
       "      <td>1.90</td>\n",
       "    </tr>\n",
       "    <tr>\n",
       "      <th>3</th>\n",
       "      <td>4</td>\n",
       "      <td>118</td>\n",
       "      <td>1.65</td>\n",
       "    </tr>\n",
       "    <tr>\n",
       "      <th>4</th>\n",
       "      <td>5</td>\n",
       "      <td>109</td>\n",
       "      <td>1.67</td>\n",
       "    </tr>\n",
       "    <tr>\n",
       "      <th>...</th>\n",
       "      <td>...</td>\n",
       "      <td>...</td>\n",
       "      <td>...</td>\n",
       "    </tr>\n",
       "    <tr>\n",
       "      <th>95</th>\n",
       "      <td>96</td>\n",
       "      <td>88</td>\n",
       "      <td>1.49</td>\n",
       "    </tr>\n",
       "    <tr>\n",
       "      <th>96</th>\n",
       "      <td>97</td>\n",
       "      <td>98</td>\n",
       "      <td>1.54</td>\n",
       "    </tr>\n",
       "    <tr>\n",
       "      <th>97</th>\n",
       "      <td>98</td>\n",
       "      <td>95</td>\n",
       "      <td>1.57</td>\n",
       "    </tr>\n",
       "    <tr>\n",
       "      <th>98</th>\n",
       "      <td>99</td>\n",
       "      <td>61</td>\n",
       "      <td>1.61</td>\n",
       "    </tr>\n",
       "    <tr>\n",
       "      <th>99</th>\n",
       "      <td>100</td>\n",
       "      <td>107</td>\n",
       "      <td>1.62</td>\n",
       "    </tr>\n",
       "  </tbody>\n",
       "</table>\n",
       "<p>100 rows × 3 columns</p>\n",
       "</div>"
      ],
      "text/plain": [
       "    ID Persona  Peso  Estatura\n",
       "0            1    67      1.41\n",
       "1            2    99      1.83\n",
       "2            3    86      1.90\n",
       "3            4   118      1.65\n",
       "4            5   109      1.67\n",
       "..         ...   ...       ...\n",
       "95          96    88      1.49\n",
       "96          97    98      1.54\n",
       "97          98    95      1.57\n",
       "98          99    61      1.61\n",
       "99         100   107      1.62\n",
       "\n",
       "[100 rows x 3 columns]"
      ]
     },
     "execution_count": 65,
     "metadata": {},
     "output_type": "execute_result"
    }
   ],
   "source": [
    "data"
   ]
  },
  {
   "cell_type": "code",
   "execution_count": 66,
   "id": "ffb08688",
   "metadata": {},
   "outputs": [
    {
     "data": {
      "text/plain": [
       "Index(['ID Persona', 'Peso', 'Estatura'], dtype='object')"
      ]
     },
     "execution_count": 66,
     "metadata": {},
     "output_type": "execute_result"
    }
   ],
   "source": [
    "data.columns"
   ]
  },
  {
   "cell_type": "code",
   "execution_count": 67,
   "id": "f310dfb9",
   "metadata": {},
   "outputs": [
    {
     "data": {
      "text/plain": [
       "0      67\n",
       "1      99\n",
       "2      86\n",
       "3     118\n",
       "4     109\n",
       "     ... \n",
       "95     88\n",
       "96     98\n",
       "97     95\n",
       "98     61\n",
       "99    107\n",
       "Name: Peso, Length: 100, dtype: int64"
      ]
     },
     "execution_count": 67,
     "metadata": {},
     "output_type": "execute_result"
    }
   ],
   "source": [
    "data[\"Peso\"]"
   ]
  },
  {
   "cell_type": "code",
   "execution_count": 68,
   "id": "a85e8675",
   "metadata": {},
   "outputs": [
    {
     "data": {
      "text/plain": [
       "8558"
      ]
     },
     "execution_count": 68,
     "metadata": {},
     "output_type": "execute_result"
    }
   ],
   "source": [
    "data[\"Peso\"].sum()"
   ]
  },
  {
   "cell_type": "code",
   "execution_count": 69,
   "id": "bd753c2e",
   "metadata": {},
   "outputs": [
    {
     "data": {
      "text/plain": [
       "0     1.41\n",
       "1     1.83\n",
       "2     1.90\n",
       "3     1.65\n",
       "4     1.67\n",
       "      ... \n",
       "95    1.49\n",
       "96    1.54\n",
       "97    1.57\n",
       "98    1.61\n",
       "99    1.62\n",
       "Name: Estatura, Length: 100, dtype: float64"
      ]
     },
     "execution_count": 69,
     "metadata": {},
     "output_type": "execute_result"
    }
   ],
   "source": [
    "data[\"Estatura\"]"
   ]
  },
  {
   "cell_type": "code",
   "execution_count": 70,
   "id": "28a9bf49",
   "metadata": {},
   "outputs": [
    {
     "data": {
      "text/plain": [
       "1.6610999999999998"
      ]
     },
     "execution_count": 70,
     "metadata": {},
     "output_type": "execute_result"
    }
   ],
   "source": [
    "data[\"Estatura\"].mean()"
   ]
  },
  {
   "cell_type": "code",
   "execution_count": 71,
   "id": "8bc4ff0b",
   "metadata": {},
   "outputs": [],
   "source": [
    "data[\"Peso en libras\"] = data[\"Peso\"]*2.205"
   ]
  },
  {
   "cell_type": "code",
   "execution_count": 72,
   "id": "016ee578",
   "metadata": {},
   "outputs": [
    {
     "data": {
      "text/html": [
       "<div>\n",
       "<style scoped>\n",
       "    .dataframe tbody tr th:only-of-type {\n",
       "        vertical-align: middle;\n",
       "    }\n",
       "\n",
       "    .dataframe tbody tr th {\n",
       "        vertical-align: top;\n",
       "    }\n",
       "\n",
       "    .dataframe thead th {\n",
       "        text-align: right;\n",
       "    }\n",
       "</style>\n",
       "<table border=\"1\" class=\"dataframe\">\n",
       "  <thead>\n",
       "    <tr style=\"text-align: right;\">\n",
       "      <th></th>\n",
       "      <th>ID Persona</th>\n",
       "      <th>Peso</th>\n",
       "      <th>Estatura</th>\n",
       "      <th>Peso en libras</th>\n",
       "    </tr>\n",
       "  </thead>\n",
       "  <tbody>\n",
       "    <tr>\n",
       "      <th>0</th>\n",
       "      <td>1</td>\n",
       "      <td>67</td>\n",
       "      <td>1.41</td>\n",
       "      <td>147.735</td>\n",
       "    </tr>\n",
       "    <tr>\n",
       "      <th>1</th>\n",
       "      <td>2</td>\n",
       "      <td>99</td>\n",
       "      <td>1.83</td>\n",
       "      <td>218.295</td>\n",
       "    </tr>\n",
       "    <tr>\n",
       "      <th>2</th>\n",
       "      <td>3</td>\n",
       "      <td>86</td>\n",
       "      <td>1.90</td>\n",
       "      <td>189.630</td>\n",
       "    </tr>\n",
       "    <tr>\n",
       "      <th>3</th>\n",
       "      <td>4</td>\n",
       "      <td>118</td>\n",
       "      <td>1.65</td>\n",
       "      <td>260.190</td>\n",
       "    </tr>\n",
       "    <tr>\n",
       "      <th>4</th>\n",
       "      <td>5</td>\n",
       "      <td>109</td>\n",
       "      <td>1.67</td>\n",
       "      <td>240.345</td>\n",
       "    </tr>\n",
       "    <tr>\n",
       "      <th>...</th>\n",
       "      <td>...</td>\n",
       "      <td>...</td>\n",
       "      <td>...</td>\n",
       "      <td>...</td>\n",
       "    </tr>\n",
       "    <tr>\n",
       "      <th>95</th>\n",
       "      <td>96</td>\n",
       "      <td>88</td>\n",
       "      <td>1.49</td>\n",
       "      <td>194.040</td>\n",
       "    </tr>\n",
       "    <tr>\n",
       "      <th>96</th>\n",
       "      <td>97</td>\n",
       "      <td>98</td>\n",
       "      <td>1.54</td>\n",
       "      <td>216.090</td>\n",
       "    </tr>\n",
       "    <tr>\n",
       "      <th>97</th>\n",
       "      <td>98</td>\n",
       "      <td>95</td>\n",
       "      <td>1.57</td>\n",
       "      <td>209.475</td>\n",
       "    </tr>\n",
       "    <tr>\n",
       "      <th>98</th>\n",
       "      <td>99</td>\n",
       "      <td>61</td>\n",
       "      <td>1.61</td>\n",
       "      <td>134.505</td>\n",
       "    </tr>\n",
       "    <tr>\n",
       "      <th>99</th>\n",
       "      <td>100</td>\n",
       "      <td>107</td>\n",
       "      <td>1.62</td>\n",
       "      <td>235.935</td>\n",
       "    </tr>\n",
       "  </tbody>\n",
       "</table>\n",
       "<p>100 rows × 4 columns</p>\n",
       "</div>"
      ],
      "text/plain": [
       "    ID Persona  Peso  Estatura  Peso en libras\n",
       "0            1    67      1.41         147.735\n",
       "1            2    99      1.83         218.295\n",
       "2            3    86      1.90         189.630\n",
       "3            4   118      1.65         260.190\n",
       "4            5   109      1.67         240.345\n",
       "..         ...   ...       ...             ...\n",
       "95          96    88      1.49         194.040\n",
       "96          97    98      1.54         216.090\n",
       "97          98    95      1.57         209.475\n",
       "98          99    61      1.61         134.505\n",
       "99         100   107      1.62         235.935\n",
       "\n",
       "[100 rows x 4 columns]"
      ]
     },
     "execution_count": 72,
     "metadata": {},
     "output_type": "execute_result"
    }
   ],
   "source": [
    "data"
   ]
  },
  {
   "cell_type": "code",
   "execution_count": 73,
   "id": "aeb1929a",
   "metadata": {},
   "outputs": [],
   "source": [
    "data.to_excel(\"ejemplo_con_libras.xlsx\")"
   ]
  },
  {
   "cell_type": "markdown",
   "id": "257b32db",
   "metadata": {},
   "source": []
  },
  {
   "cell_type": "markdown",
   "id": "e31201a0",
   "metadata": {},
   "source": []
  },
  {
   "cell_type": "code",
   "execution_count": 2,
   "id": "36fa097f",
   "metadata": {},
   "outputs": [
    {
     "name": "stdout",
     "output_type": "stream",
     "text": [
      "67\n",
      "99\n",
      "86\n",
      "118\n",
      "109\n",
      "81\n",
      "74\n",
      "69\n",
      "51\n",
      "104\n",
      "84\n",
      "63\n",
      "79\n",
      "66\n",
      "91\n",
      "119\n",
      "56\n",
      "61\n",
      "66\n",
      "72\n",
      "66\n",
      "94\n",
      "55\n",
      "94\n",
      "102\n",
      "82\n",
      "103\n",
      "102\n",
      "75\n",
      "88\n",
      "114\n",
      "74\n",
      "76\n",
      "73\n",
      "63\n",
      "101\n",
      "101\n",
      "89\n",
      "81\n",
      "110\n",
      "101\n",
      "118\n",
      "102\n",
      "59\n",
      "74\n",
      "91\n",
      "58\n",
      "60\n",
      "85\n",
      "107\n",
      "111\n",
      "65\n",
      "110\n",
      "114\n",
      "70\n",
      "62\n",
      "99\n",
      "80\n",
      "54\n",
      "108\n",
      "56\n",
      "68\n",
      "108\n",
      "116\n",
      "117\n",
      "67\n",
      "65\n",
      "118\n",
      "86\n",
      "95\n",
      "70\n",
      "80\n",
      "62\n",
      "80\n",
      "92\n",
      "117\n",
      "72\n",
      "111\n",
      "53\n",
      "69\n",
      "52\n",
      "77\n",
      "115\n",
      "58\n",
      "106\n",
      "117\n",
      "77\n",
      "115\n",
      "71\n",
      "76\n",
      "87\n",
      "98\n",
      "104\n",
      "112\n",
      "56\n",
      "88\n",
      "98\n",
      "95\n",
      "61\n",
      "107\n"
     ]
    }
   ],
   "source": [
    "for valor in data[\"Peso\"] :\n",
    "    print(valor)"
   ]
  },
  {
   "cell_type": "markdown",
   "id": "e08eb8a6",
   "metadata": {},
   "source": []
  }
 ],
 "metadata": {
  "kernelspec": {
   "display_name": "Python 3",
   "language": "python",
   "name": "python3"
  },
  "language_info": {
   "codemirror_mode": {
    "name": "ipython",
    "version": 3
   },
   "file_extension": ".py",
   "mimetype": "text/x-python",
   "name": "python",
   "nbconvert_exporter": "python",
   "pygments_lexer": "ipython3",
   "version": "3.8.5"
  }
 },
 "nbformat": 4,
 "nbformat_minor": 5
}

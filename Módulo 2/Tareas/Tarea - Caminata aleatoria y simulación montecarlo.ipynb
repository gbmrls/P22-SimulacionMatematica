{
 "cells": [
  {
   "cell_type": "markdown",
   "metadata": {},
   "source": [
    "# Tarea - Caminata aleatoria y simulación montecarlo"
   ]
  },
  {
   "cell_type": "markdown",
   "metadata": {},
   "source": [
    "#### 1. Simulación del movimiento browniano\n",
    "\n",
    "El movimiento browniano es el movimiento aleatorio que se observa en las partículas que se hallan en un medio fluido, como resultado de choques contra las moléculas de dicho fluido [(referencia)].\n",
    "\n",
    "[(referencia)]: https://es.wikipedia.org/wiki/Movimiento_browniano\n",
    "\n",
    "Para simular el movimiento, en lugar de usar las ecuaciones integro-diferenciales que describe Einstein, use una caminta aleatoria para los tres ejes $x$, $y$, $z$ de la siguiente forma\n",
    "$$\n",
    "W_i=W_{i-1}+X_i\\sqrt{\\Delta t}\n",
    "$$\n",
    "donde, $\\Delta t$ es un intervalo de tiempo y \n",
    "$$\n",
    "X_i=\\left\\{\\begin{array}{l}\n",
    "1\\\\\n",
    "-1\n",
    "\\end{array}\\right.,\n",
    "$$\n",
    "se escoge de forma aleatoria con la misma probabilidad.\n",
    "\n",
    "Simule $10$ segundos con un $\\Delta t=0.001$ y represéntelo en un gráfico 3D (Puede ver el archivo de Ejemplo 3D)."
   ]
  },
  {
   "cell_type": "code",
   "execution_count": null,
   "metadata": {},
   "outputs": [],
   "source": []
  },
  {
   "cell_type": "markdown",
   "metadata": {},
   "source": [
    "#### 2. Apuesta arriesgada\n",
    "\n",
    "Un jugador, con 20 pesos de capital inicial, decide apostar a un volado (con una moneda perfectamente nivelada) la mitad de su capital si éste es mayor o igual a 6 pesos, de lo contrario, solo 2. Esto es, el capital $C_i$ en cada volado $V_i$ se describe como\n",
    "$$\n",
    "C_{i+1}=C_i+V_iA_i\n",
    "$$\n",
    "donde la apuesta es \n",
    "$$\n",
    "A_i=\\left\\{\\begin{array}{l}\n",
    "C_i/2,\\quad \\mbox{si }C_i\\geq 6\\\\\n",
    "2,\\quad \\mbox{de lo contrario.}\n",
    "\\end{array}\\right.\n",
    "$$\n",
    "\n",
    "1. Grafique la evolución del capital hasta quedar en cero.\n",
    "2. Determine el número de volados promedio para quedar en quiebra usando la simulación montecarlo para 10,000 apostadores.\n",
    "3. Muestre un histograma del número de volados."
   ]
  },
  {
   "cell_type": "code",
   "execution_count": null,
   "metadata": {},
   "outputs": [],
   "source": []
  }
 ],
 "metadata": {
  "kernelspec": {
   "display_name": "Python 3",
   "language": "python",
   "name": "python3"
  },
  "language_info": {
   "codemirror_mode": {
    "name": "ipython",
    "version": 3
   },
   "file_extension": ".py",
   "mimetype": "text/x-python",
   "name": "python",
   "nbconvert_exporter": "python",
   "pygments_lexer": "ipython3",
   "version": "3.8.8"
  }
 },
 "nbformat": 4,
 "nbformat_minor": 2
}

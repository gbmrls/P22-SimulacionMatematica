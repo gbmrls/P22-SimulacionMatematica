{
 "cells": [
  {
   "cell_type": "markdown",
   "metadata": {},
   "source": [
    "# Aplicando Python para análisis de precios: descarga, manejo y análisis de datos"
   ]
  },
  {
   "cell_type": "markdown",
   "metadata": {},
   "source": [
    "<img style=\"float: right; margin: 0px 0px 15px 15px;\" src=\"https://upload.wikimedia.org/wikipedia/commons/0/0a/Python.svg\" width=\"300px\" height=\"100px\" />\n",
    "\n",
    "> Veremos un caso de aplicación de simulación montecarlo en la toma de decisiones. Para lograr este objetivo, primero veremos como manipular datos con *pandas*, tanto desde un archivo local de excel como remotamente desde Yahoo Finance.\n",
    "\n",
    "> Python Data Analysis Library: pandas es una librería de código abierto, fácil de usar y que provee alto rendimiento en structuras de datos y herramientas de análisis de datos para el lenguaje de programación Python.\n",
    "\n",
    "**Referencias:**\n",
    "- http://pandas.pydata.org/\n",
    "- http://www.learndatasci.com/python-finance-part-yahoo-finance-api-pandas-matplotlib/\n",
    "- https://www.datacamp.com/community/tutorials/python-excel-tutorial"
   ]
  },
  {
   "cell_type": "markdown",
   "metadata": {},
   "source": [
    "## 0. Motivación\n",
    "\n",
    "<img style=\"float: right; margin: 0px 0px 15px 15px;\" src=\"https://upload.wikimedia.org/wikipedia/commons/d/d7/Philippine-stock-market-board.jpg\" width=\"400px\" height=\"125px\" />\n",
    "\n",
    "Hace una década, los instrumentos financieros estaban en la cúspide de la popularidad. Las instituciones financieras de todo el mundo estaban negociando miles de millones de dólares de estos instrumentos a diario, y los analistas cuantitativos estaban modelándolos utilizando el cálculo estocástico y el poderoso `C++`.\n",
    "\n",
    "Sin embargo, el avance en los últimos años ha sido impresionante y las cosas han cambiado. Por una parte, la [crisis financiera del 2008](https://es.wikipedia.org/wiki/Crisis_financiera_de_2008) fue producida por los instrumentos financieros llamados *derivados*. Por otra parte, los volúmenes transaccionales han bajado y la demanda de modelado con `C++` se ha marchitado con ellos. Además, un nuevo jugador entró en la competencia... `¡Python!`\n",
    "\n",
    "`Python` ha estado ganando muchos seguidores en la industria financiera en los últimos años y con razón. No en vano, junto a `R` son los lenguajes de programación más utilizados en cuanto a análisis financiero."
   ]
  },
  {
   "cell_type": "markdown",
   "metadata": {},
   "source": [
    "## 1. Descarga de datos de Yahoo! Finance\n",
    "Para esto utilizaremos el paquete *pandas_datareader*.\n",
    "\n",
    "**Nota**: Usualmente, las distribuciones de Python no cuentan, por defecto, con el paquete *pandas_datareader*. Por lo que será necesario instalarlo aparte:\n",
    "- buscar en inicio \"Anaconda prompt\" y ejecutarlo como administrador;\n",
    "- el siguiente comando instala el paquete en Anaconda: *conda install pandas-datareader*;\n",
    "- una vez finalice la instalación correr el comando: *conda list*, y buscar que sí se haya instalado pandas-datareader"
   ]
  },
  {
   "cell_type": "code",
   "execution_count": 1,
   "metadata": {},
   "outputs": [],
   "source": [
    "import pandas_datareader.data as web"
   ]
  },
  {
   "cell_type": "markdown",
   "metadata": {},
   "source": [
    "Primero importaremos datos desde un archivo con extensión `.csv`"
   ]
  },
  {
   "cell_type": "code",
   "execution_count": 2,
   "metadata": {},
   "outputs": [
    {
     "data": {
      "text/html": [
       "<div>\n",
       "<style scoped>\n",
       "    .dataframe tbody tr th:only-of-type {\n",
       "        vertical-align: middle;\n",
       "    }\n",
       "\n",
       "    .dataframe tbody tr th {\n",
       "        vertical-align: top;\n",
       "    }\n",
       "\n",
       "    .dataframe thead th {\n",
       "        text-align: right;\n",
       "    }\n",
       "</style>\n",
       "<table border=\"1\" class=\"dataframe\">\n",
       "  <thead>\n",
       "    <tr style=\"text-align: right;\">\n",
       "      <th></th>\n",
       "      <th>Date</th>\n",
       "      <th>Open</th>\n",
       "      <th>High</th>\n",
       "      <th>Low</th>\n",
       "      <th>Close</th>\n",
       "      <th>Adj Close</th>\n",
       "      <th>Volume</th>\n",
       "    </tr>\n",
       "  </thead>\n",
       "  <tbody>\n",
       "    <tr>\n",
       "      <th>0</th>\n",
       "      <td>2015-01-02</td>\n",
       "      <td>78.580002</td>\n",
       "      <td>78.930000</td>\n",
       "      <td>77.699997</td>\n",
       "      <td>78.449997</td>\n",
       "      <td>78.449997</td>\n",
       "      <td>18177500</td>\n",
       "    </tr>\n",
       "    <tr>\n",
       "      <th>1</th>\n",
       "      <td>2015-01-05</td>\n",
       "      <td>77.980003</td>\n",
       "      <td>79.250000</td>\n",
       "      <td>76.860001</td>\n",
       "      <td>77.190002</td>\n",
       "      <td>77.190002</td>\n",
       "      <td>26452200</td>\n",
       "    </tr>\n",
       "    <tr>\n",
       "      <th>2</th>\n",
       "      <td>2015-01-06</td>\n",
       "      <td>77.230003</td>\n",
       "      <td>77.589996</td>\n",
       "      <td>75.360001</td>\n",
       "      <td>76.150002</td>\n",
       "      <td>76.150002</td>\n",
       "      <td>27399300</td>\n",
       "    </tr>\n",
       "    <tr>\n",
       "      <th>3</th>\n",
       "      <td>2015-01-07</td>\n",
       "      <td>76.760002</td>\n",
       "      <td>77.360001</td>\n",
       "      <td>75.820000</td>\n",
       "      <td>76.150002</td>\n",
       "      <td>76.150002</td>\n",
       "      <td>22045300</td>\n",
       "    </tr>\n",
       "    <tr>\n",
       "      <th>4</th>\n",
       "      <td>2015-01-08</td>\n",
       "      <td>76.739998</td>\n",
       "      <td>78.230003</td>\n",
       "      <td>76.080002</td>\n",
       "      <td>78.180000</td>\n",
       "      <td>78.180000</td>\n",
       "      <td>23961000</td>\n",
       "    </tr>\n",
       "    <tr>\n",
       "      <th>...</th>\n",
       "      <td>...</td>\n",
       "      <td>...</td>\n",
       "      <td>...</td>\n",
       "      <td>...</td>\n",
       "      <td>...</td>\n",
       "      <td>...</td>\n",
       "      <td>...</td>\n",
       "    </tr>\n",
       "    <tr>\n",
       "      <th>1001</th>\n",
       "      <td>2018-12-24</td>\n",
       "      <td>123.099998</td>\n",
       "      <td>129.740005</td>\n",
       "      <td>123.019997</td>\n",
       "      <td>124.059998</td>\n",
       "      <td>124.059998</td>\n",
       "      <td>22066000</td>\n",
       "    </tr>\n",
       "    <tr>\n",
       "      <th>1002</th>\n",
       "      <td>2018-12-26</td>\n",
       "      <td>126.000000</td>\n",
       "      <td>134.240005</td>\n",
       "      <td>125.889999</td>\n",
       "      <td>134.179993</td>\n",
       "      <td>134.179993</td>\n",
       "      <td>39723400</td>\n",
       "    </tr>\n",
       "    <tr>\n",
       "      <th>1003</th>\n",
       "      <td>2018-12-27</td>\n",
       "      <td>132.440002</td>\n",
       "      <td>134.990005</td>\n",
       "      <td>129.669998</td>\n",
       "      <td>134.520004</td>\n",
       "      <td>134.520004</td>\n",
       "      <td>31202500</td>\n",
       "    </tr>\n",
       "    <tr>\n",
       "      <th>1004</th>\n",
       "      <td>2018-12-28</td>\n",
       "      <td>135.339996</td>\n",
       "      <td>135.919998</td>\n",
       "      <td>132.199997</td>\n",
       "      <td>133.199997</td>\n",
       "      <td>133.199997</td>\n",
       "      <td>22627600</td>\n",
       "    </tr>\n",
       "    <tr>\n",
       "      <th>1005</th>\n",
       "      <td>2018-12-31</td>\n",
       "      <td>134.449997</td>\n",
       "      <td>134.639999</td>\n",
       "      <td>129.949997</td>\n",
       "      <td>131.089996</td>\n",
       "      <td>131.089996</td>\n",
       "      <td>24625300</td>\n",
       "    </tr>\n",
       "  </tbody>\n",
       "</table>\n",
       "<p>1006 rows × 7 columns</p>\n",
       "</div>"
      ],
      "text/plain": [
       "            Date        Open        High         Low       Close   Adj Close  \\\n",
       "0     2015-01-02   78.580002   78.930000   77.699997   78.449997   78.449997   \n",
       "1     2015-01-05   77.980003   79.250000   76.860001   77.190002   77.190002   \n",
       "2     2015-01-06   77.230003   77.589996   75.360001   76.150002   76.150002   \n",
       "3     2015-01-07   76.760002   77.360001   75.820000   76.150002   76.150002   \n",
       "4     2015-01-08   76.739998   78.230003   76.080002   78.180000   78.180000   \n",
       "...          ...         ...         ...         ...         ...         ...   \n",
       "1001  2018-12-24  123.099998  129.740005  123.019997  124.059998  124.059998   \n",
       "1002  2018-12-26  126.000000  134.240005  125.889999  134.179993  134.179993   \n",
       "1003  2018-12-27  132.440002  134.990005  129.669998  134.520004  134.520004   \n",
       "1004  2018-12-28  135.339996  135.919998  132.199997  133.199997  133.199997   \n",
       "1005  2018-12-31  134.449997  134.639999  129.949997  131.089996  131.089996   \n",
       "\n",
       "        Volume  \n",
       "0     18177500  \n",
       "1     26452200  \n",
       "2     27399300  \n",
       "3     22045300  \n",
       "4     23961000  \n",
       "...        ...  \n",
       "1001  22066000  \n",
       "1002  39723400  \n",
       "1003  31202500  \n",
       "1004  22627600  \n",
       "1005  24625300  \n",
       "\n",
       "[1006 rows x 7 columns]"
      ]
     },
     "execution_count": 2,
     "metadata": {},
     "output_type": "execute_result"
    }
   ],
   "source": [
    "import pandas as pd\n",
    "\n",
    "data = pd.read_csv(\"FB.csv\")\n",
    "data"
   ]
  },
  {
   "cell_type": "code",
   "execution_count": 3,
   "metadata": {},
   "outputs": [
    {
     "data": {
      "text/html": [
       "<div>\n",
       "<style scoped>\n",
       "    .dataframe tbody tr th:only-of-type {\n",
       "        vertical-align: middle;\n",
       "    }\n",
       "\n",
       "    .dataframe tbody tr th {\n",
       "        vertical-align: top;\n",
       "    }\n",
       "\n",
       "    .dataframe thead th {\n",
       "        text-align: right;\n",
       "    }\n",
       "</style>\n",
       "<table border=\"1\" class=\"dataframe\">\n",
       "  <thead>\n",
       "    <tr style=\"text-align: right;\">\n",
       "      <th></th>\n",
       "      <th>Date</th>\n",
       "      <th>Open</th>\n",
       "      <th>High</th>\n",
       "      <th>Low</th>\n",
       "      <th>Close</th>\n",
       "      <th>Adj Close</th>\n",
       "      <th>Volume</th>\n",
       "    </tr>\n",
       "  </thead>\n",
       "  <tbody>\n",
       "    <tr>\n",
       "      <th>0</th>\n",
       "      <td>2015-01-02</td>\n",
       "      <td>78.580002</td>\n",
       "      <td>78.930000</td>\n",
       "      <td>77.699997</td>\n",
       "      <td>78.449997</td>\n",
       "      <td>78.449997</td>\n",
       "      <td>18177500</td>\n",
       "    </tr>\n",
       "    <tr>\n",
       "      <th>1</th>\n",
       "      <td>2015-01-05</td>\n",
       "      <td>77.980003</td>\n",
       "      <td>79.250000</td>\n",
       "      <td>76.860001</td>\n",
       "      <td>77.190002</td>\n",
       "      <td>77.190002</td>\n",
       "      <td>26452200</td>\n",
       "    </tr>\n",
       "    <tr>\n",
       "      <th>2</th>\n",
       "      <td>2015-01-06</td>\n",
       "      <td>77.230003</td>\n",
       "      <td>77.589996</td>\n",
       "      <td>75.360001</td>\n",
       "      <td>76.150002</td>\n",
       "      <td>76.150002</td>\n",
       "      <td>27399300</td>\n",
       "    </tr>\n",
       "    <tr>\n",
       "      <th>3</th>\n",
       "      <td>2015-01-07</td>\n",
       "      <td>76.760002</td>\n",
       "      <td>77.360001</td>\n",
       "      <td>75.820000</td>\n",
       "      <td>76.150002</td>\n",
       "      <td>76.150002</td>\n",
       "      <td>22045300</td>\n",
       "    </tr>\n",
       "    <tr>\n",
       "      <th>4</th>\n",
       "      <td>2015-01-08</td>\n",
       "      <td>76.739998</td>\n",
       "      <td>78.230003</td>\n",
       "      <td>76.080002</td>\n",
       "      <td>78.180000</td>\n",
       "      <td>78.180000</td>\n",
       "      <td>23961000</td>\n",
       "    </tr>\n",
       "  </tbody>\n",
       "</table>\n",
       "</div>"
      ],
      "text/plain": [
       "         Date       Open       High        Low      Close  Adj Close    Volume\n",
       "0  2015-01-02  78.580002  78.930000  77.699997  78.449997  78.449997  18177500\n",
       "1  2015-01-05  77.980003  79.250000  76.860001  77.190002  77.190002  26452200\n",
       "2  2015-01-06  77.230003  77.589996  75.360001  76.150002  76.150002  27399300\n",
       "3  2015-01-07  76.760002  77.360001  75.820000  76.150002  76.150002  22045300\n",
       "4  2015-01-08  76.739998  78.230003  76.080002  78.180000  78.180000  23961000"
      ]
     },
     "execution_count": 3,
     "metadata": {},
     "output_type": "execute_result"
    }
   ],
   "source": [
    "data.head() # Muestra los primeros cinco datos"
   ]
  },
  {
   "cell_type": "code",
   "execution_count": 5,
   "metadata": {},
   "outputs": [
    {
     "data": {
      "text/html": [
       "<div>\n",
       "<style scoped>\n",
       "    .dataframe tbody tr th:only-of-type {\n",
       "        vertical-align: middle;\n",
       "    }\n",
       "\n",
       "    .dataframe tbody tr th {\n",
       "        vertical-align: top;\n",
       "    }\n",
       "\n",
       "    .dataframe thead th {\n",
       "        text-align: right;\n",
       "    }\n",
       "</style>\n",
       "<table border=\"1\" class=\"dataframe\">\n",
       "  <thead>\n",
       "    <tr style=\"text-align: right;\">\n",
       "      <th></th>\n",
       "      <th>Date</th>\n",
       "      <th>Open</th>\n",
       "      <th>High</th>\n",
       "      <th>Low</th>\n",
       "      <th>Close</th>\n",
       "      <th>Adj Close</th>\n",
       "      <th>Volume</th>\n",
       "    </tr>\n",
       "  </thead>\n",
       "  <tbody>\n",
       "    <tr>\n",
       "      <th>0</th>\n",
       "      <td>2015-01-02</td>\n",
       "      <td>78.580002</td>\n",
       "      <td>78.930000</td>\n",
       "      <td>77.699997</td>\n",
       "      <td>78.449997</td>\n",
       "      <td>78.449997</td>\n",
       "      <td>18177500</td>\n",
       "    </tr>\n",
       "    <tr>\n",
       "      <th>1</th>\n",
       "      <td>2015-01-05</td>\n",
       "      <td>77.980003</td>\n",
       "      <td>79.250000</td>\n",
       "      <td>76.860001</td>\n",
       "      <td>77.190002</td>\n",
       "      <td>77.190002</td>\n",
       "      <td>26452200</td>\n",
       "    </tr>\n",
       "    <tr>\n",
       "      <th>2</th>\n",
       "      <td>2015-01-06</td>\n",
       "      <td>77.230003</td>\n",
       "      <td>77.589996</td>\n",
       "      <td>75.360001</td>\n",
       "      <td>76.150002</td>\n",
       "      <td>76.150002</td>\n",
       "      <td>27399300</td>\n",
       "    </tr>\n",
       "  </tbody>\n",
       "</table>\n",
       "</div>"
      ],
      "text/plain": [
       "         Date       Open       High        Low      Close  Adj Close    Volume\n",
       "0  2015-01-02  78.580002  78.930000  77.699997  78.449997  78.449997  18177500\n",
       "1  2015-01-05  77.980003  79.250000  76.860001  77.190002  77.190002  26452200\n",
       "2  2015-01-06  77.230003  77.589996  75.360001  76.150002  76.150002  27399300"
      ]
     },
     "execution_count": 5,
     "metadata": {},
     "output_type": "execute_result"
    }
   ],
   "source": [
    "data.head(3)"
   ]
  },
  {
   "cell_type": "code",
   "execution_count": 6,
   "metadata": {},
   "outputs": [
    {
     "data": {
      "text/html": [
       "<div>\n",
       "<style scoped>\n",
       "    .dataframe tbody tr th:only-of-type {\n",
       "        vertical-align: middle;\n",
       "    }\n",
       "\n",
       "    .dataframe tbody tr th {\n",
       "        vertical-align: top;\n",
       "    }\n",
       "\n",
       "    .dataframe thead th {\n",
       "        text-align: right;\n",
       "    }\n",
       "</style>\n",
       "<table border=\"1\" class=\"dataframe\">\n",
       "  <thead>\n",
       "    <tr style=\"text-align: right;\">\n",
       "      <th></th>\n",
       "      <th>Date</th>\n",
       "      <th>Open</th>\n",
       "      <th>High</th>\n",
       "      <th>Low</th>\n",
       "      <th>Close</th>\n",
       "      <th>Adj Close</th>\n",
       "      <th>Volume</th>\n",
       "    </tr>\n",
       "  </thead>\n",
       "  <tbody>\n",
       "    <tr>\n",
       "      <th>1001</th>\n",
       "      <td>2018-12-24</td>\n",
       "      <td>123.099998</td>\n",
       "      <td>129.740005</td>\n",
       "      <td>123.019997</td>\n",
       "      <td>124.059998</td>\n",
       "      <td>124.059998</td>\n",
       "      <td>22066000</td>\n",
       "    </tr>\n",
       "    <tr>\n",
       "      <th>1002</th>\n",
       "      <td>2018-12-26</td>\n",
       "      <td>126.000000</td>\n",
       "      <td>134.240005</td>\n",
       "      <td>125.889999</td>\n",
       "      <td>134.179993</td>\n",
       "      <td>134.179993</td>\n",
       "      <td>39723400</td>\n",
       "    </tr>\n",
       "    <tr>\n",
       "      <th>1003</th>\n",
       "      <td>2018-12-27</td>\n",
       "      <td>132.440002</td>\n",
       "      <td>134.990005</td>\n",
       "      <td>129.669998</td>\n",
       "      <td>134.520004</td>\n",
       "      <td>134.520004</td>\n",
       "      <td>31202500</td>\n",
       "    </tr>\n",
       "    <tr>\n",
       "      <th>1004</th>\n",
       "      <td>2018-12-28</td>\n",
       "      <td>135.339996</td>\n",
       "      <td>135.919998</td>\n",
       "      <td>132.199997</td>\n",
       "      <td>133.199997</td>\n",
       "      <td>133.199997</td>\n",
       "      <td>22627600</td>\n",
       "    </tr>\n",
       "    <tr>\n",
       "      <th>1005</th>\n",
       "      <td>2018-12-31</td>\n",
       "      <td>134.449997</td>\n",
       "      <td>134.639999</td>\n",
       "      <td>129.949997</td>\n",
       "      <td>131.089996</td>\n",
       "      <td>131.089996</td>\n",
       "      <td>24625300</td>\n",
       "    </tr>\n",
       "  </tbody>\n",
       "</table>\n",
       "</div>"
      ],
      "text/plain": [
       "            Date        Open        High         Low       Close   Adj Close  \\\n",
       "1001  2018-12-24  123.099998  129.740005  123.019997  124.059998  124.059998   \n",
       "1002  2018-12-26  126.000000  134.240005  125.889999  134.179993  134.179993   \n",
       "1003  2018-12-27  132.440002  134.990005  129.669998  134.520004  134.520004   \n",
       "1004  2018-12-28  135.339996  135.919998  132.199997  133.199997  133.199997   \n",
       "1005  2018-12-31  134.449997  134.639999  129.949997  131.089996  131.089996   \n",
       "\n",
       "        Volume  \n",
       "1001  22066000  \n",
       "1002  39723400  \n",
       "1003  31202500  \n",
       "1004  22627600  \n",
       "1005  24625300  "
      ]
     },
     "execution_count": 6,
     "metadata": {},
     "output_type": "execute_result"
    }
   ],
   "source": [
    "data.tail() # Muestra los últimos cinco datos"
   ]
  },
  {
   "cell_type": "code",
   "execution_count": 8,
   "metadata": {},
   "outputs": [
    {
     "data": {
      "text/html": [
       "<div>\n",
       "<style scoped>\n",
       "    .dataframe tbody tr th:only-of-type {\n",
       "        vertical-align: middle;\n",
       "    }\n",
       "\n",
       "    .dataframe tbody tr th {\n",
       "        vertical-align: top;\n",
       "    }\n",
       "\n",
       "    .dataframe thead th {\n",
       "        text-align: right;\n",
       "    }\n",
       "</style>\n",
       "<table border=\"1\" class=\"dataframe\">\n",
       "  <thead>\n",
       "    <tr style=\"text-align: right;\">\n",
       "      <th></th>\n",
       "      <th>Date</th>\n",
       "      <th>Open</th>\n",
       "      <th>High</th>\n",
       "      <th>Low</th>\n",
       "      <th>Close</th>\n",
       "      <th>Adj Close</th>\n",
       "      <th>Volume</th>\n",
       "    </tr>\n",
       "  </thead>\n",
       "  <tbody>\n",
       "    <tr>\n",
       "      <th>1003</th>\n",
       "      <td>2018-12-27</td>\n",
       "      <td>132.440002</td>\n",
       "      <td>134.990005</td>\n",
       "      <td>129.669998</td>\n",
       "      <td>134.520004</td>\n",
       "      <td>134.520004</td>\n",
       "      <td>31202500</td>\n",
       "    </tr>\n",
       "    <tr>\n",
       "      <th>1004</th>\n",
       "      <td>2018-12-28</td>\n",
       "      <td>135.339996</td>\n",
       "      <td>135.919998</td>\n",
       "      <td>132.199997</td>\n",
       "      <td>133.199997</td>\n",
       "      <td>133.199997</td>\n",
       "      <td>22627600</td>\n",
       "    </tr>\n",
       "    <tr>\n",
       "      <th>1005</th>\n",
       "      <td>2018-12-31</td>\n",
       "      <td>134.449997</td>\n",
       "      <td>134.639999</td>\n",
       "      <td>129.949997</td>\n",
       "      <td>131.089996</td>\n",
       "      <td>131.089996</td>\n",
       "      <td>24625300</td>\n",
       "    </tr>\n",
       "  </tbody>\n",
       "</table>\n",
       "</div>"
      ],
      "text/plain": [
       "            Date        Open        High         Low       Close   Adj Close  \\\n",
       "1003  2018-12-27  132.440002  134.990005  129.669998  134.520004  134.520004   \n",
       "1004  2018-12-28  135.339996  135.919998  132.199997  133.199997  133.199997   \n",
       "1005  2018-12-31  134.449997  134.639999  129.949997  131.089996  131.089996   \n",
       "\n",
       "        Volume  \n",
       "1003  31202500  \n",
       "1004  22627600  \n",
       "1005  24625300  "
      ]
     },
     "execution_count": 8,
     "metadata": {},
     "output_type": "execute_result"
    }
   ],
   "source": [
    "data.tail(3)"
   ]
  },
  {
   "cell_type": "code",
   "execution_count": null,
   "metadata": {},
   "outputs": [],
   "source": []
  },
  {
   "cell_type": "code",
   "execution_count": null,
   "metadata": {},
   "outputs": [],
   "source": []
  },
  {
   "cell_type": "code",
   "execution_count": null,
   "metadata": {},
   "outputs": [],
   "source": []
  },
  {
   "cell_type": "code",
   "execution_count": null,
   "metadata": {},
   "outputs": [],
   "source": []
  },
  {
   "cell_type": "markdown",
   "metadata": {},
   "source": [
    "Ahora lo haremos desde Yahoo Finance"
   ]
  },
  {
   "cell_type": "code",
   "execution_count": 11,
   "metadata": {},
   "outputs": [],
   "source": [
    "web.DataReader?"
   ]
  },
  {
   "cell_type": "code",
   "execution_count": 13,
   "metadata": {},
   "outputs": [
    {
     "data": {
      "text/html": [
       "<div>\n",
       "<style scoped>\n",
       "    .dataframe tbody tr th:only-of-type {\n",
       "        vertical-align: middle;\n",
       "    }\n",
       "\n",
       "    .dataframe tbody tr th {\n",
       "        vertical-align: top;\n",
       "    }\n",
       "\n",
       "    .dataframe thead th {\n",
       "        text-align: right;\n",
       "    }\n",
       "</style>\n",
       "<table border=\"1\" class=\"dataframe\">\n",
       "  <thead>\n",
       "    <tr style=\"text-align: right;\">\n",
       "      <th></th>\n",
       "      <th>High</th>\n",
       "      <th>Low</th>\n",
       "      <th>Open</th>\n",
       "      <th>Close</th>\n",
       "      <th>Volume</th>\n",
       "      <th>Adj Close</th>\n",
       "    </tr>\n",
       "    <tr>\n",
       "      <th>Date</th>\n",
       "      <th></th>\n",
       "      <th></th>\n",
       "      <th></th>\n",
       "      <th></th>\n",
       "      <th></th>\n",
       "      <th></th>\n",
       "    </tr>\n",
       "  </thead>\n",
       "  <tbody>\n",
       "    <tr>\n",
       "      <th>2022-03-21</th>\n",
       "      <td>214.710007</td>\n",
       "      <td>207.630005</td>\n",
       "      <td>214.500000</td>\n",
       "      <td>211.490005</td>\n",
       "      <td>30142300</td>\n",
       "      <td>211.490005</td>\n",
       "    </tr>\n",
       "    <tr>\n",
       "      <th>2022-03-22</th>\n",
       "      <td>219.460007</td>\n",
       "      <td>210.179993</td>\n",
       "      <td>211.369995</td>\n",
       "      <td>216.649994</td>\n",
       "      <td>31998800</td>\n",
       "      <td>216.649994</td>\n",
       "    </tr>\n",
       "    <tr>\n",
       "      <th>2022-03-23</th>\n",
       "      <td>216.800003</td>\n",
       "      <td>212.160004</td>\n",
       "      <td>213.330002</td>\n",
       "      <td>213.460007</td>\n",
       "      <td>23717300</td>\n",
       "      <td>213.460007</td>\n",
       "    </tr>\n",
       "    <tr>\n",
       "      <th>2022-03-24</th>\n",
       "      <td>220.669998</td>\n",
       "      <td>214.789993</td>\n",
       "      <td>215.000000</td>\n",
       "      <td>219.570007</td>\n",
       "      <td>31502300</td>\n",
       "      <td>219.570007</td>\n",
       "    </tr>\n",
       "    <tr>\n",
       "      <th>2022-03-25</th>\n",
       "      <td>225.500000</td>\n",
       "      <td>218.889999</td>\n",
       "      <td>220.509995</td>\n",
       "      <td>221.820007</td>\n",
       "      <td>40010500</td>\n",
       "      <td>221.820007</td>\n",
       "    </tr>\n",
       "  </tbody>\n",
       "</table>\n",
       "</div>"
      ],
      "text/plain": [
       "                  High         Low        Open       Close    Volume  \\\n",
       "Date                                                                   \n",
       "2022-03-21  214.710007  207.630005  214.500000  211.490005  30142300   \n",
       "2022-03-22  219.460007  210.179993  211.369995  216.649994  31998800   \n",
       "2022-03-23  216.800003  212.160004  213.330002  213.460007  23717300   \n",
       "2022-03-24  220.669998  214.789993  215.000000  219.570007  31502300   \n",
       "2022-03-25  225.500000  218.889999  220.509995  221.820007  40010500   \n",
       "\n",
       "             Adj Close  \n",
       "Date                    \n",
       "2022-03-21  211.490005  \n",
       "2022-03-22  216.649994  \n",
       "2022-03-23  213.460007  \n",
       "2022-03-24  219.570007  \n",
       "2022-03-25  221.820007  "
      ]
     },
     "execution_count": 13,
     "metadata": {},
     "output_type": "execute_result"
    }
   ],
   "source": [
    "data = web.DataReader(\"FB\", \"yahoo\", \"2020-03-14\", \"2022-03-27\")\n",
    "data.tail()"
   ]
  },
  {
   "cell_type": "markdown",
   "metadata": {},
   "source": [
    "#### La api de yahoo es inestable. Puede ser que nos toque intentar varias veces antes de tener éxito"
   ]
  },
  {
   "cell_type": "code",
   "execution_count": 14,
   "metadata": {},
   "outputs": [
    {
     "data": {
      "text/plain": [
       "Date\n",
       "2020-03-16    152.320007\n",
       "2020-03-17    150.740005\n",
       "2020-03-18    139.750000\n",
       "2020-03-19    146.619995\n",
       "2020-03-20    156.020004\n",
       "                 ...    \n",
       "2022-03-21    214.500000\n",
       "2022-03-22    211.369995\n",
       "2022-03-23    213.330002\n",
       "2022-03-24    215.000000\n",
       "2022-03-25    220.509995\n",
       "Name: Open, Length: 513, dtype: float64"
      ]
     },
     "execution_count": 14,
     "metadata": {},
     "output_type": "execute_result"
    }
   ],
   "source": [
    "data[\"Open\"]"
   ]
  },
  {
   "cell_type": "code",
   "execution_count": 15,
   "metadata": {},
   "outputs": [],
   "source": [
    "def getClose(name, start, end) :\n",
    "    return web.DataReader(name, \"yahoo\", start, end)[\"Adj Close\"]"
   ]
  },
  {
   "cell_type": "code",
   "execution_count": 18,
   "metadata": {},
   "outputs": [],
   "source": [
    "data = getClose(\"FB\", \"2022-01-01\", \"2022-02-01\")"
   ]
  },
  {
   "cell_type": "markdown",
   "metadata": {},
   "source": [
    "¿Cómo lucen estos datos?"
   ]
  },
  {
   "cell_type": "code",
   "execution_count": 41,
   "metadata": {},
   "outputs": [
    {
     "data": {
      "text/html": [
       "<div>\n",
       "<style scoped>\n",
       "    .dataframe tbody tr th:only-of-type {\n",
       "        vertical-align: middle;\n",
       "    }\n",
       "\n",
       "    .dataframe tbody tr th {\n",
       "        vertical-align: top;\n",
       "    }\n",
       "\n",
       "    .dataframe thead th {\n",
       "        text-align: right;\n",
       "    }\n",
       "</style>\n",
       "<table border=\"1\" class=\"dataframe\">\n",
       "  <thead>\n",
       "    <tr style=\"text-align: right;\">\n",
       "      <th>Symbols</th>\n",
       "      <th>FB</th>\n",
       "      <th>NFLX</th>\n",
       "      <th>TSLA</th>\n",
       "    </tr>\n",
       "    <tr>\n",
       "      <th>Date</th>\n",
       "      <th></th>\n",
       "      <th></th>\n",
       "      <th></th>\n",
       "    </tr>\n",
       "  </thead>\n",
       "  <tbody>\n",
       "    <tr>\n",
       "      <th>2019-01-02</th>\n",
       "      <td>135.679993</td>\n",
       "      <td>267.660004</td>\n",
       "      <td>62.023998</td>\n",
       "    </tr>\n",
       "    <tr>\n",
       "      <th>2019-01-03</th>\n",
       "      <td>131.740005</td>\n",
       "      <td>271.200012</td>\n",
       "      <td>60.071999</td>\n",
       "    </tr>\n",
       "    <tr>\n",
       "      <th>2019-01-04</th>\n",
       "      <td>137.949997</td>\n",
       "      <td>297.570007</td>\n",
       "      <td>63.537998</td>\n",
       "    </tr>\n",
       "    <tr>\n",
       "      <th>2019-01-07</th>\n",
       "      <td>138.050003</td>\n",
       "      <td>315.339996</td>\n",
       "      <td>66.991997</td>\n",
       "    </tr>\n",
       "    <tr>\n",
       "      <th>2019-01-08</th>\n",
       "      <td>142.529999</td>\n",
       "      <td>320.269989</td>\n",
       "      <td>67.070000</td>\n",
       "    </tr>\n",
       "  </tbody>\n",
       "</table>\n",
       "</div>"
      ],
      "text/plain": [
       "Symbols             FB        NFLX       TSLA\n",
       "Date                                         \n",
       "2019-01-02  135.679993  267.660004  62.023998\n",
       "2019-01-03  131.740005  271.200012  60.071999\n",
       "2019-01-04  137.949997  297.570007  63.537998\n",
       "2019-01-07  138.050003  315.339996  66.991997\n",
       "2019-01-08  142.529999  320.269989  67.070000"
      ]
     },
     "execution_count": 41,
     "metadata": {},
     "output_type": "execute_result"
    }
   ],
   "source": [
    "names = [\"FB\", \"NFLX\", \"TSLA\"]\n",
    "data = getClose(names, \"2019-01-01\", \"2022-03-27\")\n",
    "data.head()"
   ]
  },
  {
   "cell_type": "code",
   "execution_count": 42,
   "metadata": {},
   "outputs": [
    {
     "data": {
      "text/plain": [
       "Symbols\n",
       "FB      246.183657\n",
       "NFLX    442.797079\n",
       "TSLA    413.845030\n",
       "dtype: float64"
      ]
     },
     "execution_count": 42,
     "metadata": {},
     "output_type": "execute_result"
    }
   ],
   "source": [
    "data.mean()"
   ]
  },
  {
   "cell_type": "code",
   "execution_count": 43,
   "metadata": {},
   "outputs": [
    {
     "data": {
      "text/plain": [
       "Symbols\n",
       "FB       64.830265\n",
       "NFLX    105.901159\n",
       "TSLA    349.693893\n",
       "dtype: float64"
      ]
     },
     "execution_count": 43,
     "metadata": {},
     "output_type": "execute_result"
    }
   ],
   "source": [
    "data.std()"
   ]
  },
  {
   "cell_type": "code",
   "execution_count": null,
   "metadata": {},
   "outputs": [],
   "source": []
  },
  {
   "cell_type": "code",
   "execution_count": null,
   "metadata": {},
   "outputs": [],
   "source": []
  },
  {
   "cell_type": "code",
   "execution_count": null,
   "metadata": {},
   "outputs": [],
   "source": []
  },
  {
   "cell_type": "markdown",
   "metadata": {},
   "source": [
    "Una vez tenemos los datos, podemos operar con ellos. Por ejemplo un resumen de datos estadísticos se podría obtener con"
   ]
  },
  {
   "cell_type": "code",
   "execution_count": 44,
   "metadata": {},
   "outputs": [
    {
     "data": {
      "text/html": [
       "<div>\n",
       "<style scoped>\n",
       "    .dataframe tbody tr th:only-of-type {\n",
       "        vertical-align: middle;\n",
       "    }\n",
       "\n",
       "    .dataframe tbody tr th {\n",
       "        vertical-align: top;\n",
       "    }\n",
       "\n",
       "    .dataframe thead th {\n",
       "        text-align: right;\n",
       "    }\n",
       "</style>\n",
       "<table border=\"1\" class=\"dataframe\">\n",
       "  <thead>\n",
       "    <tr style=\"text-align: right;\">\n",
       "      <th>Symbols</th>\n",
       "      <th>FB</th>\n",
       "      <th>NFLX</th>\n",
       "      <th>TSLA</th>\n",
       "    </tr>\n",
       "  </thead>\n",
       "  <tbody>\n",
       "    <tr>\n",
       "      <th>count</th>\n",
       "      <td>815.000000</td>\n",
       "      <td>815.000000</td>\n",
       "      <td>815.000000</td>\n",
       "    </tr>\n",
       "    <tr>\n",
       "      <th>mean</th>\n",
       "      <td>246.183657</td>\n",
       "      <td>442.797079</td>\n",
       "      <td>413.845030</td>\n",
       "    </tr>\n",
       "    <tr>\n",
       "      <th>std</th>\n",
       "      <td>64.830265</td>\n",
       "      <td>105.901159</td>\n",
       "      <td>349.693893</td>\n",
       "    </tr>\n",
       "    <tr>\n",
       "      <th>min</th>\n",
       "      <td>131.740005</td>\n",
       "      <td>254.589996</td>\n",
       "      <td>35.793999</td>\n",
       "    </tr>\n",
       "    <tr>\n",
       "      <th>25%</th>\n",
       "      <td>189.165001</td>\n",
       "      <td>354.529999</td>\n",
       "      <td>65.429001</td>\n",
       "    </tr>\n",
       "    <tr>\n",
       "      <th>50%</th>\n",
       "      <td>234.500000</td>\n",
       "      <td>443.399994</td>\n",
       "      <td>328.600006</td>\n",
       "    </tr>\n",
       "    <tr>\n",
       "      <th>75%</th>\n",
       "      <td>302.599991</td>\n",
       "      <td>520.804993</td>\n",
       "      <td>707.880005</td>\n",
       "    </tr>\n",
       "    <tr>\n",
       "      <th>max</th>\n",
       "      <td>382.179993</td>\n",
       "      <td>691.690002</td>\n",
       "      <td>1229.910034</td>\n",
       "    </tr>\n",
       "  </tbody>\n",
       "</table>\n",
       "</div>"
      ],
      "text/plain": [
       "Symbols          FB        NFLX         TSLA\n",
       "count    815.000000  815.000000   815.000000\n",
       "mean     246.183657  442.797079   413.845030\n",
       "std       64.830265  105.901159   349.693893\n",
       "min      131.740005  254.589996    35.793999\n",
       "25%      189.165001  354.529999    65.429001\n",
       "50%      234.500000  443.399994   328.600006\n",
       "75%      302.599991  520.804993   707.880005\n",
       "max      382.179993  691.690002  1229.910034"
      ]
     },
     "execution_count": 44,
     "metadata": {},
     "output_type": "execute_result"
    }
   ],
   "source": [
    "data.describe()"
   ]
  },
  {
   "cell_type": "code",
   "execution_count": 45,
   "metadata": {},
   "outputs": [
    {
     "data": {
      "text/plain": [
       "Date\n",
       "2019-01-02    267.660004\n",
       "2019-01-03    271.200012\n",
       "2019-01-04    297.570007\n",
       "2019-01-07    315.339996\n",
       "2019-01-08    320.269989\n",
       "                 ...    \n",
       "2022-03-21    374.589996\n",
       "2022-03-22    382.920013\n",
       "2022-03-23    374.489990\n",
       "2022-03-24    375.709991\n",
       "2022-03-25    373.850006\n",
       "Name: NFLX, Length: 815, dtype: float64"
      ]
     },
     "execution_count": 45,
     "metadata": {},
     "output_type": "execute_result"
    }
   ],
   "source": [
    "data[\"NFLX\"] # Extraer datos por columna"
   ]
  },
  {
   "cell_type": "code",
   "execution_count": 46,
   "metadata": {},
   "outputs": [
    {
     "data": {
      "text/plain": [
       "Symbols\n",
       "FB      300.149994\n",
       "NFLX    366.420013\n",
       "TSLA    918.400024\n",
       "Name: 2022-01-25 00:00:00, dtype: float64"
      ]
     },
     "execution_count": 46,
     "metadata": {},
     "output_type": "execute_result"
    }
   ],
   "source": [
    "data.loc[\"2022-01-25\"]"
   ]
  },
  {
   "cell_type": "code",
   "execution_count": 47,
   "metadata": {},
   "outputs": [
    {
     "data": {
      "text/plain": [
       "Symbols\n",
       "FB      135.679993\n",
       "NFLX    267.660004\n",
       "TSLA     62.023998\n",
       "Name: 2019-01-02 00:00:00, dtype: float64"
      ]
     },
     "execution_count": 47,
     "metadata": {},
     "output_type": "execute_result"
    }
   ],
   "source": [
    "data.iloc[0] # Primer dato"
   ]
  },
  {
   "cell_type": "code",
   "execution_count": 48,
   "metadata": {},
   "outputs": [
    {
     "data": {
      "text/plain": [
       "Symbols\n",
       "FB       221.820007\n",
       "NFLX     373.850006\n",
       "TSLA    1010.640015\n",
       "Name: 2022-03-25 00:00:00, dtype: float64"
      ]
     },
     "execution_count": 48,
     "metadata": {},
     "output_type": "execute_result"
    }
   ],
   "source": [
    "data.iloc[-1] # Último dato"
   ]
  },
  {
   "cell_type": "code",
   "execution_count": 69,
   "metadata": {},
   "outputs": [
    {
     "data": {
      "text/plain": [
       "<AxesSubplot:xlabel='Date'>"
      ]
     },
     "execution_count": 69,
     "metadata": {},
     "output_type": "execute_result"
    },
    {
     "data": {
      "image/png": "[encoded data removed]",
      "text/plain": [
       "<Figure size 432x288 with 1 Axes>"
      ]
     },
     "metadata": {
      "needs_background": "light"
     },
     "output_type": "display_data"
    }
   ],
   "source": [
    "%matplotlib inline\n",
    "data.loc[\"2020-11-01\" : \"2021-11-01\"].plot(grid=True)"
   ]
  },
  {
   "cell_type": "code",
   "execution_count": 53,
   "metadata": {},
   "outputs": [
    {
     "data": {
      "text/plain": [
       "183"
      ]
     },
     "execution_count": 53,
     "metadata": {},
     "output_type": "execute_result"
    }
   ],
   "source": [
    "import numpy as np\n",
    "np.argmin(data[\"NFLX\"])"
   ]
  },
  {
   "cell_type": "code",
   "execution_count": 56,
   "metadata": {},
   "outputs": [
    {
     "data": {
      "text/plain": [
       "Symbols\n",
       "FB      181.279999\n",
       "NFLX    254.589996\n",
       "TSLA     44.641998\n",
       "Name: 2019-09-24 00:00:00, dtype: float64"
      ]
     },
     "execution_count": 56,
     "metadata": {},
     "output_type": "execute_result"
    }
   ],
   "source": [
    "data.iloc[183]"
   ]
  },
  {
   "cell_type": "code",
   "execution_count": 68,
   "metadata": {},
   "outputs": [
    {
     "data": {
      "text/plain": [
       "array([[<AxesSubplot:title={'center':'FB'}>,\n",
       "        <AxesSubplot:title={'center':'NFLX'}>],\n",
       "       [<AxesSubplot:title={'center':'TSLA'}>, <AxesSubplot:>]],\n",
       "      dtype=object)"
      ]
     },
     "execution_count": 68,
     "metadata": {},
     "output_type": "execute_result"
    },
    {
     "data": {
      "image/png": "[encoded data removed]",
      "text/plain": [
       "<Figure size 720x576 with 4 Axes>"
      ]
     },
     "metadata": {
      "needs_background": "light"
     },
     "output_type": "display_data"
    }
   ],
   "source": [
    "data.hist(figsize=(10, 8), bins=50)"
   ]
  },
  {
   "cell_type": "markdown",
   "metadata": {},
   "source": [
    "## 2. Rendimientos diarios\n",
    "\n",
    "Para una sucesión de precios $\\{S_t\\}_{t=0}^{n}$, el rendimiento simple $R_t$ se define como el el cambio porcentual\n",
    "$$\n",
    "R_t=\\frac{S_t-S_{t-1}}{S_{t-1}}\n",
    "$$\n",
    "para $t=1,\\ldots,n$.\n",
    "\n",
    "Para el ejemplo en curso, ¿cómo calcular esto?"
   ]
  },
  {
   "cell_type": "code",
   "execution_count": 71,
   "metadata": {},
   "outputs": [
    {
     "data": {
      "text/html": [
       "<div>\n",
       "<style scoped>\n",
       "    .dataframe tbody tr th:only-of-type {\n",
       "        vertical-align: middle;\n",
       "    }\n",
       "\n",
       "    .dataframe tbody tr th {\n",
       "        vertical-align: top;\n",
       "    }\n",
       "\n",
       "    .dataframe thead th {\n",
       "        text-align: right;\n",
       "    }\n",
       "</style>\n",
       "<table border=\"1\" class=\"dataframe\">\n",
       "  <thead>\n",
       "    <tr style=\"text-align: right;\">\n",
       "      <th>Symbols</th>\n",
       "      <th>FB</th>\n",
       "      <th>NFLX</th>\n",
       "      <th>TSLA</th>\n",
       "    </tr>\n",
       "    <tr>\n",
       "      <th>Date</th>\n",
       "      <th></th>\n",
       "      <th></th>\n",
       "      <th></th>\n",
       "    </tr>\n",
       "  </thead>\n",
       "  <tbody>\n",
       "    <tr>\n",
       "      <th>2019-01-02</th>\n",
       "      <td>NaN</td>\n",
       "      <td>NaN</td>\n",
       "      <td>NaN</td>\n",
       "    </tr>\n",
       "    <tr>\n",
       "      <th>2019-01-03</th>\n",
       "      <td>135.679993</td>\n",
       "      <td>267.660004</td>\n",
       "      <td>62.023998</td>\n",
       "    </tr>\n",
       "    <tr>\n",
       "      <th>2019-01-04</th>\n",
       "      <td>131.740005</td>\n",
       "      <td>271.200012</td>\n",
       "      <td>60.071999</td>\n",
       "    </tr>\n",
       "    <tr>\n",
       "      <th>2019-01-07</th>\n",
       "      <td>137.949997</td>\n",
       "      <td>297.570007</td>\n",
       "      <td>63.537998</td>\n",
       "    </tr>\n",
       "    <tr>\n",
       "      <th>2019-01-08</th>\n",
       "      <td>138.050003</td>\n",
       "      <td>315.339996</td>\n",
       "      <td>66.991997</td>\n",
       "    </tr>\n",
       "  </tbody>\n",
       "</table>\n",
       "</div>"
      ],
      "text/plain": [
       "Symbols             FB        NFLX       TSLA\n",
       "Date                                         \n",
       "2019-01-02         NaN         NaN        NaN\n",
       "2019-01-03  135.679993  267.660004  62.023998\n",
       "2019-01-04  131.740005  271.200012  60.071999\n",
       "2019-01-07  137.949997  297.570007  63.537998\n",
       "2019-01-08  138.050003  315.339996  66.991997"
      ]
     },
     "execution_count": 71,
     "metadata": {},
     "output_type": "execute_result"
    }
   ],
   "source": [
    "S = data.shift()\n",
    "S.head()"
   ]
  },
  {
   "cell_type": "code",
   "execution_count": 72,
   "metadata": {},
   "outputs": [
    {
     "data": {
      "text/html": [
       "<div>\n",
       "<style scoped>\n",
       "    .dataframe tbody tr th:only-of-type {\n",
       "        vertical-align: middle;\n",
       "    }\n",
       "\n",
       "    .dataframe tbody tr th {\n",
       "        vertical-align: top;\n",
       "    }\n",
       "\n",
       "    .dataframe thead th {\n",
       "        text-align: right;\n",
       "    }\n",
       "</style>\n",
       "<table border=\"1\" class=\"dataframe\">\n",
       "  <thead>\n",
       "    <tr style=\"text-align: right;\">\n",
       "      <th>Symbols</th>\n",
       "      <th>FB</th>\n",
       "      <th>NFLX</th>\n",
       "      <th>TSLA</th>\n",
       "    </tr>\n",
       "    <tr>\n",
       "      <th>Date</th>\n",
       "      <th></th>\n",
       "      <th></th>\n",
       "      <th></th>\n",
       "    </tr>\n",
       "  </thead>\n",
       "  <tbody>\n",
       "    <tr>\n",
       "      <th>2019-01-02</th>\n",
       "      <td>135.679993</td>\n",
       "      <td>267.660004</td>\n",
       "      <td>62.023998</td>\n",
       "    </tr>\n",
       "    <tr>\n",
       "      <th>2019-01-03</th>\n",
       "      <td>131.740005</td>\n",
       "      <td>271.200012</td>\n",
       "      <td>60.071999</td>\n",
       "    </tr>\n",
       "    <tr>\n",
       "      <th>2019-01-04</th>\n",
       "      <td>137.949997</td>\n",
       "      <td>297.570007</td>\n",
       "      <td>63.537998</td>\n",
       "    </tr>\n",
       "    <tr>\n",
       "      <th>2019-01-07</th>\n",
       "      <td>138.050003</td>\n",
       "      <td>315.339996</td>\n",
       "      <td>66.991997</td>\n",
       "    </tr>\n",
       "    <tr>\n",
       "      <th>2019-01-08</th>\n",
       "      <td>142.529999</td>\n",
       "      <td>320.269989</td>\n",
       "      <td>67.070000</td>\n",
       "    </tr>\n",
       "  </tbody>\n",
       "</table>\n",
       "</div>"
      ],
      "text/plain": [
       "Symbols             FB        NFLX       TSLA\n",
       "Date                                         \n",
       "2019-01-02  135.679993  267.660004  62.023998\n",
       "2019-01-03  131.740005  271.200012  60.071999\n",
       "2019-01-04  137.949997  297.570007  63.537998\n",
       "2019-01-07  138.050003  315.339996  66.991997\n",
       "2019-01-08  142.529999  320.269989  67.070000"
      ]
     },
     "execution_count": 72,
     "metadata": {},
     "output_type": "execute_result"
    }
   ],
   "source": [
    "data.head()"
   ]
  },
  {
   "cell_type": "markdown",
   "metadata": {},
   "source": [
    "y la gráfica de los rendimientos se puede obtener como..."
   ]
  },
  {
   "cell_type": "code",
   "execution_count": 73,
   "metadata": {},
   "outputs": [
    {
     "data": {
      "text/html": [
       "<div>\n",
       "<style scoped>\n",
       "    .dataframe tbody tr th:only-of-type {\n",
       "        vertical-align: middle;\n",
       "    }\n",
       "\n",
       "    .dataframe tbody tr th {\n",
       "        vertical-align: top;\n",
       "    }\n",
       "\n",
       "    .dataframe thead th {\n",
       "        text-align: right;\n",
       "    }\n",
       "</style>\n",
       "<table border=\"1\" class=\"dataframe\">\n",
       "  <thead>\n",
       "    <tr style=\"text-align: right;\">\n",
       "      <th>Symbols</th>\n",
       "      <th>FB</th>\n",
       "      <th>NFLX</th>\n",
       "      <th>TSLA</th>\n",
       "    </tr>\n",
       "    <tr>\n",
       "      <th>Date</th>\n",
       "      <th></th>\n",
       "      <th></th>\n",
       "      <th></th>\n",
       "    </tr>\n",
       "  </thead>\n",
       "  <tbody>\n",
       "    <tr>\n",
       "      <th>2019-01-02</th>\n",
       "      <td>NaN</td>\n",
       "      <td>NaN</td>\n",
       "      <td>NaN</td>\n",
       "    </tr>\n",
       "    <tr>\n",
       "      <th>2019-01-03</th>\n",
       "      <td>-0.029039</td>\n",
       "      <td>0.013226</td>\n",
       "      <td>-0.031472</td>\n",
       "    </tr>\n",
       "    <tr>\n",
       "      <th>2019-01-04</th>\n",
       "      <td>0.047138</td>\n",
       "      <td>0.097234</td>\n",
       "      <td>0.057697</td>\n",
       "    </tr>\n",
       "    <tr>\n",
       "      <th>2019-01-07</th>\n",
       "      <td>0.000725</td>\n",
       "      <td>0.059717</td>\n",
       "      <td>0.054361</td>\n",
       "    </tr>\n",
       "    <tr>\n",
       "      <th>2019-01-08</th>\n",
       "      <td>0.032452</td>\n",
       "      <td>0.015634</td>\n",
       "      <td>0.001164</td>\n",
       "    </tr>\n",
       "  </tbody>\n",
       "</table>\n",
       "</div>"
      ],
      "text/plain": [
       "Symbols           FB      NFLX      TSLA\n",
       "Date                                    \n",
       "2019-01-02       NaN       NaN       NaN\n",
       "2019-01-03 -0.029039  0.013226 -0.031472\n",
       "2019-01-04  0.047138  0.097234  0.057697\n",
       "2019-01-07  0.000725  0.059717  0.054361\n",
       "2019-01-08  0.032452  0.015634  0.001164"
      ]
     },
     "execution_count": 73,
     "metadata": {},
     "output_type": "execute_result"
    }
   ],
   "source": [
    "R = (data - data.shift())/data.shift()\n",
    "R.head()"
   ]
  },
  {
   "cell_type": "code",
   "execution_count": 74,
   "metadata": {},
   "outputs": [
    {
     "data": {
      "text/html": [
       "<div>\n",
       "<style scoped>\n",
       "    .dataframe tbody tr th:only-of-type {\n",
       "        vertical-align: middle;\n",
       "    }\n",
       "\n",
       "    .dataframe tbody tr th {\n",
       "        vertical-align: top;\n",
       "    }\n",
       "\n",
       "    .dataframe thead th {\n",
       "        text-align: right;\n",
       "    }\n",
       "</style>\n",
       "<table border=\"1\" class=\"dataframe\">\n",
       "  <thead>\n",
       "    <tr style=\"text-align: right;\">\n",
       "      <th>Symbols</th>\n",
       "      <th>FB</th>\n",
       "      <th>NFLX</th>\n",
       "      <th>TSLA</th>\n",
       "    </tr>\n",
       "    <tr>\n",
       "      <th>Date</th>\n",
       "      <th></th>\n",
       "      <th></th>\n",
       "      <th></th>\n",
       "    </tr>\n",
       "  </thead>\n",
       "  <tbody>\n",
       "    <tr>\n",
       "      <th>2019-01-03</th>\n",
       "      <td>-0.029039</td>\n",
       "      <td>0.013226</td>\n",
       "      <td>-0.031472</td>\n",
       "    </tr>\n",
       "    <tr>\n",
       "      <th>2019-01-04</th>\n",
       "      <td>0.047138</td>\n",
       "      <td>0.097234</td>\n",
       "      <td>0.057697</td>\n",
       "    </tr>\n",
       "    <tr>\n",
       "      <th>2019-01-07</th>\n",
       "      <td>0.000725</td>\n",
       "      <td>0.059717</td>\n",
       "      <td>0.054361</td>\n",
       "    </tr>\n",
       "    <tr>\n",
       "      <th>2019-01-08</th>\n",
       "      <td>0.032452</td>\n",
       "      <td>0.015634</td>\n",
       "      <td>0.001164</td>\n",
       "    </tr>\n",
       "    <tr>\n",
       "      <th>2019-01-09</th>\n",
       "      <td>0.011927</td>\n",
       "      <td>-0.000968</td>\n",
       "      <td>0.009483</td>\n",
       "    </tr>\n",
       "  </tbody>\n",
       "</table>\n",
       "</div>"
      ],
      "text/plain": [
       "Symbols           FB      NFLX      TSLA\n",
       "Date                                    \n",
       "2019-01-03 -0.029039  0.013226 -0.031472\n",
       "2019-01-04  0.047138  0.097234  0.057697\n",
       "2019-01-07  0.000725  0.059717  0.054361\n",
       "2019-01-08  0.032452  0.015634  0.001164\n",
       "2019-01-09  0.011927 -0.000968  0.009483"
      ]
     },
     "execution_count": 74,
     "metadata": {},
     "output_type": "execute_result"
    }
   ],
   "source": [
    "R = R.dropna()\n",
    "R.head()"
   ]
  },
  {
   "cell_type": "code",
   "execution_count": 81,
   "metadata": {},
   "outputs": [
    {
     "data": {
      "text/plain": [
       "<AxesSubplot:xlabel='Date'>"
      ]
     },
     "execution_count": 81,
     "metadata": {},
     "output_type": "execute_result"
    },
    {
     "data": {
      "image/png": "[encoded data removed]",
      "text/plain": [
       "<Figure size 720x720 with 1 Axes>"
      ]
     },
     "metadata": {
      "needs_background": "light"
     },
     "output_type": "display_data"
    }
   ],
   "source": [
    "R[\"FB\"].plot(figsize=(10, 10), grid=True)"
   ]
  },
  {
   "cell_type": "code",
   "execution_count": 80,
   "metadata": {},
   "outputs": [
    {
     "data": {
      "text/html": [
       "<div>\n",
       "<style scoped>\n",
       "    .dataframe tbody tr th:only-of-type {\n",
       "        vertical-align: middle;\n",
       "    }\n",
       "\n",
       "    .dataframe tbody tr th {\n",
       "        vertical-align: top;\n",
       "    }\n",
       "\n",
       "    .dataframe thead th {\n",
       "        text-align: right;\n",
       "    }\n",
       "</style>\n",
       "<table border=\"1\" class=\"dataframe\">\n",
       "  <thead>\n",
       "    <tr style=\"text-align: right;\">\n",
       "      <th>Symbols</th>\n",
       "      <th>FB</th>\n",
       "      <th>NFLX</th>\n",
       "      <th>TSLA</th>\n",
       "    </tr>\n",
       "  </thead>\n",
       "  <tbody>\n",
       "    <tr>\n",
       "      <th>count</th>\n",
       "      <td>814.000000</td>\n",
       "      <td>814.000000</td>\n",
       "      <td>814.000000</td>\n",
       "    </tr>\n",
       "    <tr>\n",
       "      <th>mean</th>\n",
       "      <td>0.000913</td>\n",
       "      <td>0.000751</td>\n",
       "      <td>0.004329</td>\n",
       "    </tr>\n",
       "    <tr>\n",
       "      <th>std</th>\n",
       "      <td>0.024501</td>\n",
       "      <td>0.025994</td>\n",
       "      <td>0.042382</td>\n",
       "    </tr>\n",
       "    <tr>\n",
       "      <th>min</th>\n",
       "      <td>-0.263901</td>\n",
       "      <td>-0.217905</td>\n",
       "      <td>-0.210628</td>\n",
       "    </tr>\n",
       "    <tr>\n",
       "      <th>25%</th>\n",
       "      <td>-0.010863</td>\n",
       "      <td>-0.011849</td>\n",
       "      <td>-0.016537</td>\n",
       "    </tr>\n",
       "    <tr>\n",
       "      <th>50%</th>\n",
       "      <td>0.001026</td>\n",
       "      <td>0.000793</td>\n",
       "      <td>0.002627</td>\n",
       "    </tr>\n",
       "    <tr>\n",
       "      <th>75%</th>\n",
       "      <td>0.013999</td>\n",
       "      <td>0.013846</td>\n",
       "      <td>0.023685</td>\n",
       "    </tr>\n",
       "    <tr>\n",
       "      <th>max</th>\n",
       "      <td>0.108164</td>\n",
       "      <td>0.168543</td>\n",
       "      <td>0.198949</td>\n",
       "    </tr>\n",
       "  </tbody>\n",
       "</table>\n",
       "</div>"
      ],
      "text/plain": [
       "Symbols          FB        NFLX        TSLA\n",
       "count    814.000000  814.000000  814.000000\n",
       "mean       0.000913    0.000751    0.004329\n",
       "std        0.024501    0.025994    0.042382\n",
       "min       -0.263901   -0.217905   -0.210628\n",
       "25%       -0.010863   -0.011849   -0.016537\n",
       "50%        0.001026    0.000793    0.002627\n",
       "75%        0.013999    0.013846    0.023685\n",
       "max        0.108164    0.168543    0.198949"
      ]
     },
     "execution_count": 80,
     "metadata": {},
     "output_type": "execute_result"
    }
   ],
   "source": [
    "R.describe()"
   ]
  },
  {
   "cell_type": "markdown",
   "metadata": {},
   "source": [
    "Donde se observa que el rendimiento tiene una tendencia constante y, por tanto, se puede plantear la hipótesis de que se puede modelar usando un proceso estocástico estacionario en media."
   ]
  },
  {
   "cell_type": "markdown",
   "metadata": {},
   "source": [
    "Otro rendimiento usado con frecuencia es el rendimiento continuamente compuesto o rendimiento logaritmico. Éste, está definido como\n",
    "\n",
    "$$\n",
    "r_t=\\ln\\left(\\frac{S_t}{S_{t-1}}\\right).\n",
    "$$\n",
    "\n",
    "**Esta ecuación sólo es válida cuando se tienen periodos cortos de tiempo**\n",
    "Es fácil darse cuenta que $r_t=\\ln(1+R_t)$.\n",
    "\n",
    "**Nota:** ver gráficamente que si $0\\leq|x|\\ll 1$, entonces $\\ln(1+x)\\approx x$.\n",
    "\n",
    "Para este caso, la fórmula del rendimiento continuamente compuesto se translada facilmente a código Python (obtener, graficar y comparar)."
   ]
  },
  {
   "cell_type": "code",
   "execution_count": 82,
   "metadata": {},
   "outputs": [
    {
     "data": {
      "text/html": [
       "<div>\n",
       "<style scoped>\n",
       "    .dataframe tbody tr th:only-of-type {\n",
       "        vertical-align: middle;\n",
       "    }\n",
       "\n",
       "    .dataframe tbody tr th {\n",
       "        vertical-align: top;\n",
       "    }\n",
       "\n",
       "    .dataframe thead th {\n",
       "        text-align: right;\n",
       "    }\n",
       "</style>\n",
       "<table border=\"1\" class=\"dataframe\">\n",
       "  <thead>\n",
       "    <tr style=\"text-align: right;\">\n",
       "      <th>Symbols</th>\n",
       "      <th>FB</th>\n",
       "      <th>NFLX</th>\n",
       "      <th>TSLA</th>\n",
       "    </tr>\n",
       "    <tr>\n",
       "      <th>Date</th>\n",
       "      <th></th>\n",
       "      <th></th>\n",
       "      <th></th>\n",
       "    </tr>\n",
       "  </thead>\n",
       "  <tbody>\n",
       "    <tr>\n",
       "      <th>2019-01-03</th>\n",
       "      <td>-0.029469</td>\n",
       "      <td>0.013139</td>\n",
       "      <td>-0.031978</td>\n",
       "    </tr>\n",
       "    <tr>\n",
       "      <th>2019-01-04</th>\n",
       "      <td>0.046061</td>\n",
       "      <td>0.092793</td>\n",
       "      <td>0.056094</td>\n",
       "    </tr>\n",
       "    <tr>\n",
       "      <th>2019-01-07</th>\n",
       "      <td>0.000725</td>\n",
       "      <td>0.058002</td>\n",
       "      <td>0.052935</td>\n",
       "    </tr>\n",
       "    <tr>\n",
       "      <th>2019-01-08</th>\n",
       "      <td>0.031937</td>\n",
       "      <td>0.015513</td>\n",
       "      <td>0.001164</td>\n",
       "    </tr>\n",
       "    <tr>\n",
       "      <th>2019-01-09</th>\n",
       "      <td>0.011857</td>\n",
       "      <td>-0.000968</td>\n",
       "      <td>0.009438</td>\n",
       "    </tr>\n",
       "  </tbody>\n",
       "</table>\n",
       "</div>"
      ],
      "text/plain": [
       "Symbols           FB      NFLX      TSLA\n",
       "Date                                    \n",
       "2019-01-03 -0.029469  0.013139 -0.031978\n",
       "2019-01-04  0.046061  0.092793  0.056094\n",
       "2019-01-07  0.000725  0.058002  0.052935\n",
       "2019-01-08  0.031937  0.015513  0.001164\n",
       "2019-01-09  0.011857 -0.000968  0.009438"
      ]
     },
     "execution_count": 82,
     "metadata": {},
     "output_type": "execute_result"
    }
   ],
   "source": [
    "import numpy as np\n",
    "r = np.log(data/data.shift()).dropna()\n",
    "r.head()"
   ]
  },
  {
   "cell_type": "code",
   "execution_count": 85,
   "metadata": {},
   "outputs": [
    {
     "data": {
      "text/html": [
       "<div>\n",
       "<style scoped>\n",
       "    .dataframe tbody tr th:only-of-type {\n",
       "        vertical-align: middle;\n",
       "    }\n",
       "\n",
       "    .dataframe tbody tr th {\n",
       "        vertical-align: top;\n",
       "    }\n",
       "\n",
       "    .dataframe thead th {\n",
       "        text-align: right;\n",
       "    }\n",
       "</style>\n",
       "<table border=\"1\" class=\"dataframe\">\n",
       "  <thead>\n",
       "    <tr style=\"text-align: right;\">\n",
       "      <th>Symbols</th>\n",
       "      <th>FB</th>\n",
       "      <th>NFLX</th>\n",
       "      <th>TSLA</th>\n",
       "    </tr>\n",
       "    <tr>\n",
       "      <th>Date</th>\n",
       "      <th></th>\n",
       "      <th></th>\n",
       "      <th></th>\n",
       "    </tr>\n",
       "  </thead>\n",
       "  <tbody>\n",
       "    <tr>\n",
       "      <th>2019-01-03</th>\n",
       "      <td>-0.029469</td>\n",
       "      <td>0.013139</td>\n",
       "      <td>-0.031978</td>\n",
       "    </tr>\n",
       "    <tr>\n",
       "      <th>2019-01-04</th>\n",
       "      <td>0.046061</td>\n",
       "      <td>0.092793</td>\n",
       "      <td>0.056094</td>\n",
       "    </tr>\n",
       "    <tr>\n",
       "      <th>2019-01-07</th>\n",
       "      <td>0.000725</td>\n",
       "      <td>0.058002</td>\n",
       "      <td>0.052935</td>\n",
       "    </tr>\n",
       "    <tr>\n",
       "      <th>2019-01-08</th>\n",
       "      <td>0.031937</td>\n",
       "      <td>0.015513</td>\n",
       "      <td>0.001164</td>\n",
       "    </tr>\n",
       "    <tr>\n",
       "      <th>2019-01-09</th>\n",
       "      <td>0.011857</td>\n",
       "      <td>-0.000968</td>\n",
       "      <td>0.009438</td>\n",
       "    </tr>\n",
       "  </tbody>\n",
       "</table>\n",
       "</div>"
      ],
      "text/plain": [
       "Symbols           FB      NFLX      TSLA\n",
       "Date                                    \n",
       "2019-01-03 -0.029469  0.013139 -0.031978\n",
       "2019-01-04  0.046061  0.092793  0.056094\n",
       "2019-01-07  0.000725  0.058002  0.052935\n",
       "2019-01-08  0.031937  0.015513  0.001164\n",
       "2019-01-09  0.011857 -0.000968  0.009438"
      ]
     },
     "execution_count": 85,
     "metadata": {},
     "output_type": "execute_result"
    }
   ],
   "source": [
    "r = (np.log(data) - np.log(data.shift())).dropna()\n",
    "r.head()"
   ]
  },
  {
   "cell_type": "code",
   "execution_count": 86,
   "metadata": {},
   "outputs": [
    {
     "data": {
      "text/plain": [
       "<AxesSubplot:xlabel='Date'>"
      ]
     },
     "execution_count": 86,
     "metadata": {},
     "output_type": "execute_result"
    },
    {
     "data": {
      "image/png": "[encoded data removed]",
      "text/plain": [
       "<Figure size 720x720 with 1 Axes>"
      ]
     },
     "metadata": {
      "needs_background": "light"
     },
     "output_type": "display_data"
    }
   ],
   "source": [
    "r[\"FB\"].plot(figsize=(10, 10), grid=True)"
   ]
  },
  {
   "cell_type": "markdown",
   "metadata": {},
   "source": [
    "Donde se observa que el rendimiento tiene una tendencia constante y, por tanto, se puede plantear la hipótesis de que se puede modelar usando un proceso estocástico estacionario en media.\n",
    "\n",
    "Podemos incluso plantear la hipótesis de que los log rendimientos son normales..."
   ]
  },
  {
   "cell_type": "code",
   "execution_count": 88,
   "metadata": {},
   "outputs": [
    {
     "data": {
      "text/plain": [
       "array([[<AxesSubplot:title={'center':'FB'}>,\n",
       "        <AxesSubplot:title={'center':'NFLX'}>],\n",
       "       [<AxesSubplot:title={'center':'TSLA'}>, <AxesSubplot:>]],\n",
       "      dtype=object)"
      ]
     },
     "execution_count": 88,
     "metadata": {},
     "output_type": "execute_result"
    },
    {
     "data": {
      "image/png": "[encoded data removed]",
      "text/plain": [
       "<Figure size 432x288 with 4 Axes>"
      ]
     },
     "metadata": {
      "needs_background": "light"
     },
     "output_type": "display_data"
    }
   ],
   "source": [
    "r.hist(bins=50)"
   ]
  },
  {
   "cell_type": "markdown",
   "metadata": {},
   "source": [
    "___\n",
    "Recapitulando, hoy aprendimos a obtener datos con pandas-datareader directamente desde un archivo local ó fuentes remotas.\n",
    "\n",
    "Por otra parte, estudiamos los rendimientos diarios y dimos con la conclusión de que se podrían modelar como un proceso estocástico estacionario normal."
   ]
  },
  {
   "cell_type": "markdown",
   "metadata": {},
   "source": [
    "La siguiente clase veremos como simular escenarios de comportamiento de los precios futuros (no determinístico, no sabemos como se comporta, muchas posibilidades: montecarlo) a partir de datos de ingresos diarios.\n",
    "\n",
    "Luego, con esas predicciones veremos la probabilidad de que el precio de las acciones quede por encima (debajo) de cierto umbral y con ello tomar decisiones de vender (comprar) estas acciones."
   ]
  }
 ],
 "metadata": {
  "kernelspec": {
   "display_name": "Python 3",
   "language": "python",
   "name": "python3"
  },
  "language_info": {
   "codemirror_mode": {
    "name": "ipython",
    "version": 3
   },
   "file_extension": ".py",
   "mimetype": "text/x-python",
   "name": "python",
   "nbconvert_exporter": "python",
   "pygments_lexer": "ipython3",
   "version": "3.8.5"
  }
 },
 "nbformat": 4,
 "nbformat_minor": 2
}

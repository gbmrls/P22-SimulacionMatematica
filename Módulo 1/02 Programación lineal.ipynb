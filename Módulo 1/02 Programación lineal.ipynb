{
 "cells": [
  {
   "cell_type": "markdown",
   "metadata": {},
   "source": [
    "# Programación lineal"
   ]
  },
  {
   "cell_type": "markdown",
   "metadata": {},
   "source": [
    "> La programación lineal es el campo de la optimización matemática dedicado a maximizar o minimizar (optimizar) funciones lineales, denominada función objetivo, de tal forma que las variables de dicha función estén sujetas a una serie de restricciones expresadas mediante un sistema de ecuaciones o inecuaciones también lineales.\n",
    "\n",
    "\n",
    "<img style=\"float: right; margin: 0px 0px 15px 15px;\" src=\"https://upload.wikimedia.org/wikipedia/commons/thumb/0/0c/Linear_Programming_Feasible_Region.svg/2000px-Linear_Programming_Feasible_Region.svg.png\" width=\"400px\" height=\"125px\" />\n",
    "\n",
    "<img style=\"float: center\" src=\"https://upload.wikimedia.org/wikipedia/commons/thumb/e/ef/3dpoly.svg/220px-3dpoly.svg.png\" width=\"350px\" height=\"125px\" />\n",
    "\n",
    "\n",
    "**Referencias:**\n",
    "- https://es.wikipedia.org/wiki/Programaci%C3%B3n_lineal\n",
    "- https://docs.scipy.org/doc/scipy-0.18.1/reference/optimize.html\n",
    "- http://bdigital.unal.edu.co/5037/4/guillermojimenezlozano.2006_Parte1.pdf "
   ]
  },
  {
   "cell_type": "markdown",
   "metadata": {},
   "source": [
    "## 1. Apuntes históricos\n",
    "\n",
    "<img style=\"float: right\" src=\"https://upload.wikimedia.org/wikipedia/commons/5/5e/JohnvonNeumann-LosAlamos.gif\" width=\"200px\" height=\"125px\" />\n",
    "\n",
    "\n",
    "- 1826:\tJoseph Fourier anticipa la programación lineal. Carl Friedrich Gauss resuelve ecuaciones lineales por eliminación \"gaussiana\".\n",
    "- 1902:\tGyula Farkas concibe un método para resolver sistemas de inecuaciones.\n",
    "- Es hasta la Segunda Guerra Mundial que se plantea la programación lineal como un modelo matemático para planificar gastos y retornos, de modo que se reduzcan costos de guerra y aumentar pérdidas del enemigo. Secreto hasta 1947 (posguerra).\n",
    "- 1947:\tGeorge Dantzig publica el algoritmo simplex y John von Neumann desarrolló la teoría de la dualidad. Se sabe que Leonid Kantoróvich también formuló la teoría en forma independiente.\n",
    "- Fue usado por muchas industrias en la planificación diaria.\n",
    "\n",
    "**Hasta acá, tiempos exponenciales de solución. Lo siguiente, tiempo polinomial.**\n",
    "\n",
    "- 1979: Leonid Khachiyan, diseñó el llamado Algoritmo del elipsoide, a través del cual demostró que el problema de la programación lineal es resoluble de manera eficiente, es decir, en tiempo polinomial.\n",
    "- 1984: Narendra Karmarkar introduce el método del punto interior para resolver problemas de programación lineal.\n",
    "\n",
    "<img style=\"float: center\" src=\"https://upload.wikimedia.org/wikipedia/commons/thumb/e/ef/Simplex-description-en.svg/240px-Simplex-description-en.svg.png\" width=\"200px\" height=\"125px\" />"
   ]
  },
  {
   "cell_type": "markdown",
   "metadata": {},
   "source": [
    " $$ y \\geq 3x + 4 $$"
   ]
  },
  {
   "cell_type": "markdown",
   "metadata": {},
   "source": [
    "## 2. Problemas de programación lineal\n",
    "\n",
    "### 2.1. Ejemplo básico\n",
    "Una multinacional farmacéutica desea fabricar un compuesto nutritivo a base de dos productos A y B.  El producto A contiene  $30\\%$ de proteínas,  un $1\\%$ de grasas y un  $10\\%$ de azúcares.  El producto B  contiene  un  $5\\%$  de proteínas,  un  $7\\%$ de grasas  y un  $10\\%$  de  azúcares.\n",
    "\n",
    "El compuesto debe de tener,  al menos, $25g$ de proteínas,  $6g$ de grasas y $30g$ de azúcares.  El coste del producto A es de $0.6$ u.m./g  y el de B es de $0.2$  u.m./g\n",
    "\n",
    "Se desea encontrar la cantidad en gramos de cada producto para que el coste total sea mínimo.\n",
    "\n",
    "Formular el problema de decidir cuánto hacer de cada producto como un problema de programación lineal."
   ]
  },
  {
   "cell_type": "markdown",
   "metadata": {},
   "source": [
    "#### Solución\n",
    "\n",
    "Sean:\n",
    "- $x_A$: la cantidad de gramos de A a ser producidas, y\n",
    "- $x_B$: la cantidad de gramos de B a ser producidas en la semana.\n",
    "\n",
    "Notar que lo que se quiere es minimizar $0.6x_A+0.2x_B = costo$.\n",
    "\n",
    "Restricciones:\n",
    "1. El compuesto debe tener **al menos** $25 g$ de proteína: $30\\%x_A+5\\%x_B\\geq 25 \\Rightarrow 0.3x_A+0.05x_B\\geq 25$.\n",
    "2. El compuesto debe tener **al menos** $6 g$ de grasa: $1\\%x_A+7\\%x_B\\geq 6 \\Rightarrow 0.01x_A+0.07x_B\\geq 6$.\n",
    "3. El compuesto debe tener **al menos** $30 g$ de azúcares: $10\\%x_A+10\\%x_B\\geq 30 \\Rightarrow 0.1x_A+0.1x_B\\geq 30$.\n",
    "\n",
    "Finalmente, el problema puede ser expresado en la forma explicada como:\n",
    "\\begin{equation}\n",
    "\\begin{array}{ll}\n",
    "\\min_{x_A,x_B} & 0.6x_A+0.2x_B \\\\\n",
    "\\text{s. a. }  & -0.3x_A-0.05x_B\\leq -25 \\\\\n",
    "               & -0.01x_A-0.07x_B\\leq -6 \\\\\n",
    "               & -0.1x_A-0.1x_B\\leq -30,\n",
    "\\end{array}\n",
    "\\end{equation}\n",
    "\n",
    "o, eqivalentemente \n",
    "\\begin{equation}\n",
    "\\begin{array}{ll}\n",
    "\\min_{\\boldsymbol{x}} & \\boldsymbol{c}^\\top\\boldsymbol{x} \\\\\n",
    "\\text{s. a. }        & \\boldsymbol{A}_{eq}\\boldsymbol{x}=\\boldsymbol{b}_{eq} \\\\\n",
    "                     & \\boldsymbol{A}\\boldsymbol{x}\\leq\\boldsymbol{b},\n",
    "\\end{array}\n",
    "\\end{equation}\n",
    "con\n",
    "- $\\boldsymbol{c}=\\left[0.6 \\quad 0.2\\right]^\\top$,\n",
    "- $\\boldsymbol{A}=\\left[\\begin{array}{cc}-0.3 & -0.05 \\\\ -0.01 & -0.07\\\\ -0.1 & -0.1\\end{array}\\right]$, y\n",
    "- $\\boldsymbol{b}=\\left[-25 \\quad -6\\quad -30\\right]^\\top$.\n",
    "- $\\boldsymbol{x}=\\left[x_A \\quad x_B\\right]^\\top$.\n",
    "\n",
    "\n",
    "Preferiremos, en adelante, la notación vectorial/matricial."
   ]
  },
  {
   "cell_type": "markdown",
   "metadata": {},
   "source": [
    "Solución gráfica:"
   ]
  },
  {
   "cell_type": "markdown",
   "metadata": {},
   "source": [
    "### Primera restricción\n",
    "\n",
    "$$ -0.3 x_A - 0.05 x_B = - 25 $$\n",
    "\n",
    "$$ -0.3 x_A = -25 + 0.05 x_B $$\n",
    "\n",
    "$$ 25 - 0.3 x_A = 0.05 x_B $$\n",
    "\n",
    "$$ x_B = \\frac{25 - 0.3 x_A}{0.05} $$\n",
    "\n",
    "$\\frac{arriba}{abajo}$"
   ]
  },
  {
   "cell_type": "markdown",
   "metadata": {},
   "source": [
    "### Segunda restricción\n",
    "\n",
    "$$ -0.01 x_A- 0.07 x_B = -6 $$\n",
    "\n",
    "$$ x_B = \\frac{6 - 0.01 x_A}{0.07} $$"
   ]
  },
  {
   "cell_type": "markdown",
   "metadata": {},
   "source": [
    "## Tercera restricción\n",
    "\n",
    "$$ -0.1 x_A- 0.1 x_B = -30 $$\n",
    "\n",
    "$$ x_B = \\frac{30 - 0.1 x_A}{0.1} $$"
   ]
  },
  {
   "cell_type": "code",
   "execution_count": 1,
   "metadata": {},
   "outputs": [],
   "source": [
    "import numpy as np\n",
    "import matplotlib.pyplot as plt\n",
    "%matplotlib inline"
   ]
  },
  {
   "cell_type": "code",
   "execution_count": 3,
   "metadata": {},
   "outputs": [],
   "source": [
    "xA = np.linspace(start=-1,\n",
    "                 stop=300,\n",
    "                 num=5000)\n",
    "\n",
    "def r1(xA) : # proteína\n",
    "    xB = (25 - 0.3*xA)/0.05\n",
    "    return xB\n",
    "\n",
    "def r2(xA) : # grasa\n",
    "    xB = (6 - 0.01*xA)/0.07\n",
    "    return xB\n",
    "\n",
    "def r3(xA) : # azúcar\n",
    "    xB = (30 - 0.1*xA)/0.1\n",
    "    return xB"
   ]
  },
  {
   "cell_type": "code",
   "execution_count": 8,
   "metadata": {
    "scrolled": true
   },
   "outputs": [
    {
     "data": {
      "image/png": "[encoded data removed]",
      "text/plain": [
       "<Figure size 432x288 with 1 Axes>"
      ]
     },
     "metadata": {
      "needs_background": "light"
     },
     "output_type": "display_data"
    }
   ],
   "source": [
    "plt.figure()\n",
    "plt.plot(xA, r1(xA), \"r\", label=\"Proteina\")\n",
    "plt.plot(xA, r2(xA), \"g\", label=\"Grasa\")\n",
    "plt.plot(xA, r3(xA), \"b\", label=\"Azucar\")\n",
    "plt.legend(loc=\"best\")\n",
    "plt.ylim([0, 310])\n",
    "plt.grid()"
   ]
  },
  {
   "cell_type": "markdown",
   "metadata": {},
   "source": [
    "3 ecuaciones y 2 incógnitas. 3 soluciones."
   ]
  },
  {
   "cell_type": "markdown",
   "metadata": {},
   "source": [
    "$$ \\frac{25 - 0.3 x_A}{0.05} = \\frac{30 - 0.1 x_A}{0.1} $$\n",
    "\n",
    "\n",
    "$$ \\frac{25 - 0.3 x_A}{0.05} - \\frac{30 - 0.1 x_A}{0.1} = 0 $$\n"
   ]
  },
  {
   "cell_type": "code",
   "execution_count": 15,
   "metadata": {},
   "outputs": [
    {
     "data": {
      "text/latex": [
       "$\\displaystyle 200.0 - 5.0 x$"
      ],
      "text/plain": [
       "200.0 - 5.0*x"
      ]
     },
     "execution_count": 15,
     "metadata": {},
     "output_type": "execute_result"
    }
   ],
   "source": [
    "import sympy as sp\n",
    "x = sp.var(\"x\")\n",
    "ecuacion = r1(x) - r3(x)\n",
    "ecuacion"
   ]
  },
  {
   "cell_type": "code",
   "execution_count": 17,
   "metadata": {},
   "outputs": [
    {
     "data": {
      "text/plain": [
       "[40.0000000000000]"
      ]
     },
     "execution_count": 17,
     "metadata": {},
     "output_type": "execute_result"
    }
   ],
   "source": [
    "sp.solve(ecuacion, x)"
   ]
  },
  {
   "cell_type": "code",
   "execution_count": 18,
   "metadata": {},
   "outputs": [
    {
     "data": {
      "text/latex": [
       "$\\displaystyle 0.857142857142857 x - 214.285714285714$"
      ],
      "text/plain": [
       "0.857142857142857*x - 214.285714285714"
      ]
     },
     "execution_count": 18,
     "metadata": {},
     "output_type": "execute_result"
    }
   ],
   "source": [
    "ecuacion = r2(x) - r3(x)\n",
    "ecuacion"
   ]
  },
  {
   "cell_type": "code",
   "execution_count": 19,
   "metadata": {},
   "outputs": [
    {
     "data": {
      "text/plain": [
       "[250.000000000000]"
      ]
     },
     "execution_count": 19,
     "metadata": {},
     "output_type": "execute_result"
    }
   ],
   "source": [
    "sp.solve(ecuacion, x)"
   ]
  },
  {
   "cell_type": "code",
   "execution_count": 20,
   "metadata": {},
   "outputs": [
    {
     "data": {
      "text/plain": [
       "[70.7317073170731]"
      ]
     },
     "execution_count": 20,
     "metadata": {},
     "output_type": "execute_result"
    }
   ],
   "source": [
    "ecuacion = r1(x) - r2(x)\n",
    "sp.solve(ecuacion, x)"
   ]
  },
  {
   "cell_type": "code",
   "execution_count": 26,
   "metadata": {},
   "outputs": [
    {
     "data": {
      "text/plain": [
       "array([  260.   , -1000.   ,    75.614])"
      ]
     },
     "execution_count": 26,
     "metadata": {},
     "output_type": "execute_result"
    }
   ],
   "source": [
    "soluciones_A = np.array([40, 250, 70.731])\n",
    "r1(soluciones_A)"
   ]
  },
  {
   "cell_type": "code",
   "execution_count": 27,
   "metadata": {},
   "outputs": [
    {
     "data": {
      "text/plain": [
       "array([80.        , 50.        , 75.60985714])"
      ]
     },
     "execution_count": 27,
     "metadata": {},
     "output_type": "execute_result"
    }
   ],
   "source": [
    "r2(soluciones_A)"
   ]
  },
  {
   "cell_type": "code",
   "execution_count": 28,
   "metadata": {},
   "outputs": [
    {
     "data": {
      "text/plain": [
       "array([260.   ,  50.   , 229.269])"
      ]
     },
     "execution_count": 28,
     "metadata": {},
     "output_type": "execute_result"
    }
   ],
   "source": [
    "r3(soluciones_A)"
   ]
  },
  {
   "cell_type": "code",
   "execution_count": 30,
   "metadata": {},
   "outputs": [],
   "source": [
    "xA1 = 40\n",
    "xA2 = 250\n",
    "xA3 = 70.731\n",
    "\n",
    "xB1 = 260\n",
    "xB2 = 50\n",
    "xB3 = 75.61"
   ]
  },
  {
   "cell_type": "code",
   "execution_count": 23,
   "metadata": {},
   "outputs": [],
   "source": [
    "def costo(xA, xB) :\n",
    "    return 0.6*xA + 0.2*xB"
   ]
  },
  {
   "cell_type": "code",
   "execution_count": 24,
   "metadata": {},
   "outputs": [
    {
     "data": {
      "text/plain": [
       "76.0"
      ]
     },
     "execution_count": 24,
     "metadata": {},
     "output_type": "execute_result"
    }
   ],
   "source": [
    "costo(xA1, xB1)"
   ]
  },
  {
   "cell_type": "code",
   "execution_count": 31,
   "metadata": {},
   "outputs": [
    {
     "data": {
      "text/plain": [
       "160.0"
      ]
     },
     "execution_count": 31,
     "metadata": {},
     "output_type": "execute_result"
    }
   ],
   "source": [
    "costo(xA2, xB2)"
   ]
  },
  {
   "cell_type": "code",
   "execution_count": 32,
   "metadata": {},
   "outputs": [
    {
     "data": {
      "text/plain": [
       "57.560599999999994"
      ]
     },
     "execution_count": 32,
     "metadata": {},
     "output_type": "execute_result"
    }
   ],
   "source": [
    "costo(xA3, xB3) ###\n",
    "###\n",
    "###\n",
    "###\n",
    "###\n",
    "###\n",
    "###\n",
    "###\n",
    "###\n",
    "###\n",
    "###\n",
    "###\n",
    "###\n",
    "###"
   ]
  },
  {
   "cell_type": "code",
   "execution_count": null,
   "metadata": {},
   "outputs": [],
   "source": []
  },
  {
   "cell_type": "markdown",
   "metadata": {},
   "source": [
    "### 2.2. Ejemplo básico 2\n",
    "Una  fábrica  de  carrocerías  de  automóviles  y camiones  tiene  dos naves. \n",
    "\n",
    "+ En  la nave A,  para  hacer  la  carrocería  de  un  camión,  se  invierten  siete  días-operario,  para  fabricar  la  de  un  coche  se  precisan dos días-operario.\n",
    "\n",
    "+ En la nave B se invierten tres días operario tanto en carrocerías de camión como de coche. \n",
    "\n",
    "Por limitaciones de mano de obra y maquinaria, la nave A dispone de $300$ días operario, y la nave B de $270$ días-operario.\n",
    "\n",
    "Si los beneficios que se obtienen por cada camión son de $600$ u.m y por  cada  automóvil  $200$ u.m,  ¿cuántas  unidades  de  cada  uno  se deben  producir  para maximizar las  ganancias? \n",
    "\n",
    "**Nota:** el problema $\\max_{\\boldsymbol{x}}\\boldsymbol{g}(\\boldsymbol{x})$ es equivalente a $\\min_{\\boldsymbol{x}}-\\boldsymbol{g}(\\boldsymbol{x})$."
   ]
  },
  {
   "cell_type": "markdown",
   "metadata": {},
   "source": [
    "**Pasos a seguir\n",
    "\n",
    "1. Identificar el criterio de optimización\n",
    "> Maximizar las ganancias\n",
    "2. Identificar la información que nos permita escribir la función objetivo\n",
    "> Por cada carrocería de camión se obtienen 600. \n",
    ">\n",
    "> Por cada carrocería de automóvil se obtienen 200.\n",
    "3. Definir variables de optimización\n",
    "> $x_C$: carrocería de camión\n",
    ">\n",
    "> $x_A$: carrocería de auto\n",
    "\n",
    "Entonces nuestra función objetivo es:\n",
    "$$ Ganancia = 600 x_C + 200 x_A $$\n",
    "\n",
    "$$ \\max{600 x_C + 200 x_A} \\equiv \\min{-600 x_C - 200 x_A}$$\n",
    "\n",
    "4. Escribir el resto de la información en función de las variables. I.e. identificar las restricciones.\n",
    "> Nave A: $ 7 x_C + 2 x_A \\leq 300 $\n",
    ">\n",
    "> Nave B: $ 3 x_C + 3 x_A \\leq 270 $\n"
   ]
  },
  {
   "cell_type": "markdown",
   "metadata": {},
   "source": [
    "### Restricción de Nave A\n",
    "\n",
    "$$ 7 x_C + 2 x_A = 300 $$\n",
    "\n",
    "$$ 2 x_A = 300 - 7 x_C $$\n",
    "\n",
    "$$ x_A = \\frac{300 - 7 x_C}{2} $$"
   ]
  },
  {
   "cell_type": "code",
   "execution_count": 33,
   "metadata": {},
   "outputs": [],
   "source": [
    "def rA(xC) :\n",
    "    xA = (300 - 7*xC)/2\n",
    "    return xA\n",
    "\n",
    "def rB(xC) :\n",
    "    xA = (270 - 3*xC)/3\n",
    "    return xA"
   ]
  },
  {
   "cell_type": "code",
   "execution_count": 49,
   "metadata": {
    "scrolled": true
   },
   "outputs": [
    {
     "data": {
      "image/png": "[encoded data removed]",
      "text/plain": [
       "<Figure size 432x288 with 1 Axes>"
      ]
     },
     "metadata": {
      "needs_background": "light"
     },
     "output_type": "display_data"
    }
   ],
   "source": [
    "xC = np.linspace(20, 25, 5000)\n",
    "plt.figure()\n",
    "plt.plot(xC, rA(xC), \"r\", label=\"Restricción Nave A\")\n",
    "plt.plot(xC, rB(xC), \"b\", label=\"Restricción Nave B\")\n",
    "plt.legend(loc=\"best\")\n",
    "plt.ylim([60, 70])\n",
    "plt.grid()"
   ]
  },
  {
   "cell_type": "code",
   "execution_count": 37,
   "metadata": {},
   "outputs": [
    {
     "data": {
      "text/plain": [
       "[24]"
      ]
     },
     "execution_count": 37,
     "metadata": {},
     "output_type": "execute_result"
    }
   ],
   "source": [
    "sp.solve(rA(x) - rB(x), x)"
   ]
  },
  {
   "cell_type": "code",
   "execution_count": 40,
   "metadata": {},
   "outputs": [
    {
     "data": {
      "text/plain": [
       "66.0"
      ]
     },
     "execution_count": 40,
     "metadata": {},
     "output_type": "execute_result"
    }
   ],
   "source": [
    "rA(24)"
   ]
  },
  {
   "cell_type": "code",
   "execution_count": 41,
   "metadata": {},
   "outputs": [
    {
     "data": {
      "text/plain": [
       "66.0"
      ]
     },
     "execution_count": 41,
     "metadata": {},
     "output_type": "execute_result"
    }
   ],
   "source": [
    "rB(24)"
   ]
  },
  {
   "cell_type": "code",
   "execution_count": 42,
   "metadata": {},
   "outputs": [
    {
     "data": {
      "text/plain": [
       "27600"
      ]
     },
     "execution_count": 42,
     "metadata": {},
     "output_type": "execute_result"
    }
   ],
   "source": [
    "def ganancia(xC, xA) :\n",
    "    return 600*xC + 200*xA\n",
    "ganancia(24, 66)"
   ]
  },
  {
   "cell_type": "markdown",
   "metadata": {},
   "source": [
    "La ganancia óptima se consigue fabricando 66 carrocerías de automóvil y 24 carrocerías de camión."
   ]
  },
  {
   "cell_type": "markdown",
   "metadata": {},
   "source": [
    "---\n",
    "\n",
    "\n",
    "#### Bueno, y una vez planteado, ¿cómo se resuelve el problema?\n",
    "\n",
    "\n",
    "\n",
    "Este problema está sencillo pues solo es en dos variables. La solución gráfica es válida."
   ]
  },
  {
   "cell_type": "markdown",
   "metadata": {},
   "source": [
    "Resolviendo el problema 2 (Maximización de utilidad en carros y camiones), con la función `linprog`"
   ]
  },
  {
   "cell_type": "markdown",
   "metadata": {},
   "source": [
    "## 3. ¿Cómo se resuelve en python?\n",
    "\n",
    "### 3.1 Librería `SciPy`\n",
    "\n",
    "<img style=\"float: right; margin: 0px 0px 15px 15px;\" src=\"https://scipy.org/_static/images/scipy_med.png\" width=\"200px\" height=\"75px\" />\n",
    "\n",
    "`SciPy` es un software de código abierto basado en `Python` para matemáticas, ciencia e ingeniería. \n",
    "\n",
    "La **Librería `SciPy`** es uno de los paquetes principales y provee varias rutinas numéricas eficientes. Entre ellas, para integración numérica y optimización.\n",
    "\n",
    "En esta clase, y en lo que resta del módulo, estaremos utilizando el módulo `optimize` de la librería `SciPy`.\n",
    "\n",
    "**Importémoslo**"
   ]
  },
  {
   "cell_type": "code",
   "execution_count": 2,
   "metadata": {},
   "outputs": [],
   "source": [
    "import scipy.optimize as opt"
   ]
  },
  {
   "cell_type": "markdown",
   "metadata": {},
   "source": [
    "# Importar el módulo optimize de la librería scipy"
   ]
  },
  {
   "cell_type": "markdown",
   "metadata": {},
   "source": [
    "El módulo `optimize` que acabamos de importar contiene varias funciones para optimización y búsqueda de raices. Entre ellas se encuentra la función `linprog`\n",
    "\n",
    "---"
   ]
  },
  {
   "cell_type": "code",
   "execution_count": 14,
   "metadata": {},
   "outputs": [],
   "source": [
    "opt.linprog?"
   ]
  },
  {
   "cell_type": "code",
   "execution_count": 4,
   "metadata": {},
   "outputs": [],
   "source": [
    "import numpy as np"
   ]
  },
  {
   "cell_type": "code",
   "execution_count": 12,
   "metadata": {},
   "outputs": [
    {
     "data": {
      "text/plain": [
       "     con: array([], dtype=float64)\n",
       "     fun: -27599.999999550844\n",
       " message: 'Optimization terminated successfully.'\n",
       "     nit: 5\n",
       "   slack: array([4.84840257e-09, 4.59630201e-09])\n",
       "  status: 0\n",
       " success: True\n",
       "       x: array([24., 66.])"
      ]
     },
     "execution_count": 12,
     "metadata": {},
     "output_type": "execute_result"
    }
   ],
   "source": [
    "c = np.array([-600, -200])\n",
    "A = np.array([[7, 2], [3, 3]])\n",
    "b = np.array([300, 270])\n",
    "\n",
    "opt.linprog(c, A, b)"
   ]
  },
  {
   "cell_type": "markdown",
   "metadata": {},
   "source": [
    "**Actividad.** Mónica hace aretes y cadenitas de joyería. Es tan buena, que todo lo que hace lo vende.\n",
    "\n",
    "Le toma 30 minutos hacer un par de aretes y una hora hacer una cadenita, y como Mónica también es estudihambre, solo dispone de 10 horas a la semana para hacer las joyas. Por otra parte, el material que compra solo le alcanza para hacer 15 unidades (el par de aretes cuenta como unidad) de joyas por semana.\n",
    "\n",
    "La utilidad que le deja la venta de las joyas es $\\$15$ en cada par de aretes y $\\$20$ en cada cadenita.\n",
    "\n",
    "¿Cuántos pares de aretes y cuántas cadenitas debería hacer Mónica para maximizar su utilidad?\n",
    "\n",
    "Formular el problema en la forma explicada y obtener la solución gráfica (puede ser a mano).\n",
    "\n",
    "**Diez minutos: quien primero lo haga, comparte pantalla para explicarlo y le subiré la nota de alguna tarea a 100.**"
   ]
  },
  {
   "cell_type": "markdown",
   "metadata": {},
   "source": [
    "Queremos maximizar ganancias = $15 a + 20 c$\n",
    "\n",
    "= $min -15 a - 20 c $"
   ]
  },
  {
   "cell_type": "markdown",
   "metadata": {},
   "source": [
    "Restricción 1: Tiempo\n",
    "\n",
    "$0.5 a + 1 c \\leq 10$\n",
    "\n",
    "Restricción 2: Material para unidades\n",
    "\n",
    "$ a + c \\leq 15 $\n"
   ]
  },
  {
   "cell_type": "code",
   "execution_count": 18,
   "metadata": {},
   "outputs": [
    {
     "data": {
      "text/plain": [
       "     con: array([], dtype=float64)\n",
       "     fun: -249.99999964496874\n",
       " message: 'Optimization terminated successfully.'\n",
       "     nit: 4\n",
       "   slack: array([1.37653036e-08, 2.17378222e-08])\n",
       "  status: 0\n",
       " success: True\n",
       "       x: array([9.99999998, 4.99999999])"
      ]
     },
     "execution_count": 18,
     "metadata": {},
     "output_type": "execute_result"
    }
   ],
   "source": [
    "vector_de_ecuacion_de_optimizacion = np.array([-15, -20]) # c\n",
    "matriz_de_coeficientes_de_restricciones = np.array([[0.5, 1], [1, 1]]) # A\n",
    "valores_de_restricciones = np.array([10, 15]) # b\n",
    "opt.linprog(vector_de_ecuacion_de_optimizacion, matriz_de_coeficientes_de_restricciones, valores_de_restricciones)"
   ]
  },
  {
   "cell_type": "code",
   "execution_count": 15,
   "metadata": {},
   "outputs": [],
   "source": [
    "opt.linprog?"
   ]
  },
  {
   "cell_type": "code",
   "execution_count": null,
   "metadata": {},
   "outputs": [],
   "source": []
  },
  {
   "cell_type": "code",
   "execution_count": null,
   "metadata": {},
   "outputs": [],
   "source": []
  },
  {
   "cell_type": "markdown",
   "metadata": {},
   "source": [
    "### 3.2 Solución del ejemplo básico con linprog\n",
    "Ya hicimos la solución gráfica. Contrastemos con la solución que nos da `linprog`\n",
    "\n",
    "- $\\boldsymbol{c}=\\left[0.6 \\quad 0.2\\right]^\\top$,\n",
    "- $\\boldsymbol{A}=\\left[\\begin{array}{cc}-0.3 & -0.05 \\\\ -0.01 & -0.07\\\\ -0.1 & -0.1\\end{array}\\right]$, y\n",
    "- $\\boldsymbol{b}=\\left[-25 \\quad -6\\quad -30\\right]^\\top$."
   ]
  },
  {
   "cell_type": "code",
   "execution_count": 19,
   "metadata": {},
   "outputs": [
    {
     "data": {
      "text/plain": [
       "     con: array([], dtype=float64)\n",
       "     fun: 76.00000000328902\n",
       " message: 'Optimization terminated successfully.'\n",
       "     nit: 6\n",
       "   slack: array([9.16756449e-10, 1.26000000e+01, 1.51850443e-09])\n",
       "  status: 0\n",
       " success: True\n",
       "       x: array([ 40.        , 260.00000001])"
      ]
     },
     "execution_count": 19,
     "metadata": {},
     "output_type": "execute_result"
    }
   ],
   "source": [
    "c = np.array([0.6, 0.2])\n",
    "A = np.array([[-0.3, -0.05], [-0.01, -0.07], [-0.1, -0.1]])\n",
    "b = np.array([-25, -6, -30])\n",
    "opt.linprog(c, A, b)"
   ]
  },
  {
   "cell_type": "markdown",
   "metadata": {},
   "source": [
    "## 4. Problema de transporte 1\n",
    "- **Referencia**: http://bdigital.unal.edu.co/5037/4/guillermojimenezlozano.2006_Parte1.pdf\n",
    "\n",
    "Una  empresa tiene dos fábricas A y B.  En ellas  se fabrica un determinado  producto, a razón de 500  y 400 unidades por día respectivamente.  El producto  ha  de  ser distribuido posteriormente  a  tres  centros  C,  D  y  E,  que  requieren,  respectivamente,  200,  300  y  400  unidades.  Los  costos  de  transportar cada unidad del producto desde cada fábrica a cada centro distribuidor son los  indicados  en la tabla  siguiente: \n",
    "\n",
    "Factoría|C|D|E|Fabricación (Unidades)\n",
    ":----|----|----|----|----\n",
    "A|  50 u.m|60 u.m|10 u.m|500 u\n",
    "B|  25 u.m|40 u.m|20 u.m|400 u\n",
    "Demanda|200|300|400|\n",
    "\n",
    "**¿De qué manera  deben  organizar  el transporte a fin de que los gastos sean mínimos?**\n",
    "\n",
    "\n",
    "Formulemos el problema para ser resuelto por la programación lineal con\n",
    "- $x_1$: unidades transportadas de la factoría \"A\" al centro \"C\"\n",
    "- $x_2$: unidades transportadas de la factoría \"A\" al centro \"D\"\n",
    "- $x_3$: unidades transportadas de la factoría \"A\" al centro \"E\"\n",
    "- $x_4$: unidades transportadas de la factoría \"B\" al centro \"C\"\n",
    "- $x_5$: unidades transportadas de la factoría \"B\" al centro \"D\"\n",
    "- $x_6$: unidades transportadas de la factoría \"B\" al centro \"E\"\n",
    "\n",
    "se tienen las siguientes ecuaciones:\n",
    "\n",
    "Restricciones de la producción:\n",
    "\n",
    "- $x_{AC} + x_{AD} + x_{AE} \\leq 500$\n",
    "- $x_{BC} + x_{BD} + x_{BE} \\leq 400$\n",
    "\n",
    "Restricciones del consumo:\n",
    "\n",
    "- $x_{AC} + x_{BC} \\geq 200$\n",
    "- $x_{AD} + x_{BD} \\geq 300$\n",
    "- $x_{AE} + x_{BE} \\geq 400$\n",
    "\n",
    "La función objetivo será:\n",
    "\n",
    "$$\\min_{x_1,\\dots,x_6}50x_{AC} + 60x_{AD} + 10x_{AE} + 25x_{BC} + 40x_{BD} + 20x_{BE}$$\n",
    "\n",
    "Resolver con `linprog`"
   ]
  },
  {
   "cell_type": "code",
   "execution_count": 5,
   "metadata": {
    "scrolled": true
   },
   "outputs": [],
   "source": [
    "import numpy as np\n",
    "import scipy.optimize as opt\n",
    "\n",
    "c = np.array([50,\n",
    "              60,\n",
    "              10, \n",
    "              25,\n",
    "              40,\n",
    "              20])\n",
    "\n",
    "A=np.array([[ 1,  1,  1,  0,  0,  0], \n",
    "            [ 0,  0,  0,  1,  1,  1], \n",
    "            [-1,  0,  0, -1,  0,  0],\n",
    "            [ 0, -1,  0,  0, -1,  0],\n",
    "            [ 0,  0, -1,  0,  0, -1]])\n",
    "\n",
    "b = np.array([500,\n",
    "              400,\n",
    "             -200,\n",
    "             -300,\n",
    "             -400])\n",
    "respuesta = opt.linprog(c, A, b, method=\"simplex\")"
   ]
  },
  {
   "cell_type": "code",
   "execution_count": 6,
   "metadata": {},
   "outputs": [
    {
     "data": {
      "text/plain": [
       "array([  0., 100., 400., 200., 200.,   0.])"
      ]
     },
     "execution_count": 6,
     "metadata": {},
     "output_type": "execute_result"
    }
   ],
   "source": [
    "respuesta.x"
   ]
  },
  {
   "cell_type": "code",
   "execution_count": 7,
   "metadata": {},
   "outputs": [
    {
     "data": {
      "text/plain": [
       "23000.0"
      ]
     },
     "execution_count": 7,
     "metadata": {},
     "output_type": "execute_result"
    }
   ],
   "source": [
    "respuesta.fun"
   ]
  },
  {
   "cell_type": "code",
   "execution_count": 12,
   "metadata": {},
   "outputs": [
    {
     "data": {
      "text/plain": [
       "'Optimization terminated successfully.'"
      ]
     },
     "execution_count": 12,
     "metadata": {},
     "output_type": "execute_result"
    }
   ],
   "source": [
    "respuesta.message"
   ]
  },
  {
   "cell_type": "markdown",
   "metadata": {},
   "source": [
    "## 5. Optimización de inversión en bonos\n",
    "\n",
    "**Referencia:**"
   ]
  },
  {
   "cell_type": "code",
   "execution_count": 13,
   "metadata": {},
   "outputs": [
    {
     "data": {
      "image/jpeg": "[encoded data removed]",
      "text/html": [
       "\n",
       "        <iframe\n",
       "            width=\"400\"\n",
       "            height=\"300\"\n",
       "            src=\"https://www.youtube.com/embed/gukxBus8lOs\"\n",
       "            frameborder=\"0\"\n",
       "            allowfullscreen\n",
       "        ></iframe>\n",
       "        "
      ],
      "text/plain": [
       "<IPython.lib.display.YouTubeVideo at 0x17822884e20>"
      ]
     },
     "execution_count": 13,
     "metadata": {},
     "output_type": "execute_result"
    }
   ],
   "source": [
    "from IPython.display import YouTubeVideo\n",
    "YouTubeVideo('gukxBus8lOs')"
   ]
  },
  {
   "cell_type": "markdown",
   "metadata": {},
   "source": [
    "El objetivo de este problema es determinar la mejor estrategia de inversión, dados diferentes tipos de bono, la máxima cantidad que puede ser invertida en cada bono, el porcentaje de retorno y los años de madurez. También hay una cantidad fija de dinero disponible ($\\$750,000$). Por lo menos la mitad de este dinero debe ser invertido en bonos con 10 años o más para la madurez. Se puede invertir un máximo del $25\\%$ de esta cantidad en cada bono. Finalmente, hay otra restricción que no permite usar más de $35\\%$ en bonos de alto riesgo.\n",
    "\n",
    "Existen seis (6) opciones de inversión con las letras correspondientes $A_i$\n",
    "\n",
    "1. $A_1$:(Tasa de retorno=$8.65\\%$; Años para la madurez=11, Riesgo=Bajo)\n",
    "1. $A_2$:(Tasa de retorno=$9.50\\%$; Años para la madurez=10, Riesgo=Alto)\n",
    "1. $A_3$:(Tasa de retorno=$10.00\\%$; Años para la madurez=6, Riesgo=Alto)\n",
    "1. $A_4$:(Tasa de retorno=$8.75\\%$; Años para la madurez=10, Riesgo=Bajo)\n",
    "1. $A_5$:(Tasa de retorno=$9.25\\%$; Años para la madurez=7, Riesgo=Alto)\n",
    "1. $A_6$:(Tasa de retorno=$9.00\\%$; Años para la madurez=13, Riesgo=Bajo)\n",
    "\n",
    "Lo que se quiere entonces es maximizar el retorno que deja la inversión.\n",
    "\n",
    "Este problema puede ser resuelto con programación lineal. Formalmente, puede ser descrito como:\n",
    "\n",
    "$$\\max_{A_1,A_2,...,A_6}\\sum^{6}_{i=1} A_iR_i,$$\n",
    "\n",
    "donde $A_i$ representa la cantidad invertida en la opción, y $R_i$ representa la tasa de retorno respectiva."
   ]
  },
  {
   "cell_type": "code",
   "execution_count": null,
   "metadata": {},
   "outputs": [],
   "source": []
  }
 ],
 "metadata": {
  "kernelspec": {
   "display_name": "Python 3 (ipykernel)",
   "language": "python",
   "name": "python3"
  },
  "language_info": {
   "codemirror_mode": {
    "name": "ipython",
    "version": 3
   },
   "file_extension": ".py",
   "mimetype": "text/x-python",
   "name": "python",
   "nbconvert_exporter": "python",
   "pygments_lexer": "ipython3",
   "version": "3.8.11"
  }
 },
 "nbformat": 4,
 "nbformat_minor": 2
}

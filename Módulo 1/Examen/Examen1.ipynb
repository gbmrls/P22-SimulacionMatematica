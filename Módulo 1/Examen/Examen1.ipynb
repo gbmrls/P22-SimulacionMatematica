{
 "cells": [
  {
   "cell_type": "markdown",
   "metadata": {},
   "source": [
    "# Examen Módulo 1 - Optimización.\n",
    "\n",
    "**Lea cuidadosamente las siguientes indicaciones antes de comenzar el examen:**\n",
    "- Para resolver el examen edite este mismo archivo y renómbrelo de la siguiente manera: *Examen1_ApellidoNombre*, donde *ApellidoNombre* corresponde a su apellido paterno con la inicial en mayúscula, seguido de su primer nombre con la inicial en mayúscula **sin acentos**. Por ejemplo, en mi caso el nombre del archivo sería *Examen1_ArellanoCarlos*.\n",
    "- Resuelva los puntos en el espacio provisto. Si requiere agregar más celdas para código o escritura, hágalo (`Esc`,`B`) o (`Esc`,`A`).\n",
    "- Recuerde que también se está evaluando su capacidad de interpretar los resultados. Escriba sus interpretaciones/conclusiones en celdas utilizando *Markdown*.\n",
    "- El formato de presentación de todo el examen en general debe ser adecuado. Use tamaños de letra, colores, etiquetas, etcétera.\n",
    "- No se resuelven dudas de ningún tipo por los profesores de la asignatura. Por favor, absténgase de preguntar.\n",
    "- Revise bien el tipo de examen. Sólo se le calificará si realiza el tipo de examen asignado."
   ]
  },
  {
   "cell_type": "markdown",
   "metadata": {},
   "source": [
    "---\n",
    "# Primer punto. Optimización de funciones con `SymPy` (34 puntos)\n",
    "\n",
    "**Volumen máximo**. Considere un cono circular recto inscrito en una esfera de radio $r$:"
   ]
  },
  {
   "cell_type": "code",
   "execution_count": 1,
   "metadata": {},
   "outputs": [
    {
     "data": {
      "image/png": "[encoded data removed]",
      "text/plain": [
       "<Figure size 432x288 with 1 Axes>"
      ]
     },
     "metadata": {
      "needs_background": "light"
     },
     "output_type": "display_data"
    }
   ],
   "source": [
    "import numpy as np\n",
    "import matplotlib.pyplot as plt\n",
    "import matplotlib.patches as patches\n",
    "%matplotlib inline\n",
    "\n",
    "B1 = patches.Arc((0, -0.4), 1.8,0.3,theta2=180,fc='None',ls='--',color='k')\n",
    "B2 = patches.Arc((0, -0.4), 1.8,0.3,theta1=180,fc='None',color='k')\n",
    "C = patches.Circle((0, 0), 1,fc='None',lw=2,color='k');\n",
    "ax = plt.gca()\n",
    "ax.add_artist(B1)\n",
    "ax.add_artist(B2)\n",
    "ax.add_artist(C)\n",
    "\n",
    "plt.plot([0.9,0,-0.9],[-0.4,1,-0.4],'k')\n",
    "plt.plot([0,0],[-0.4,1],'--r')\n",
    "plt.plot([0,0],[-0.4,0],'ok')\n",
    "plt.plot([0,0.9],[0,-0.4],'--r')\n",
    "plt.plot([-0.2,0],[-0.4,-0.4],'--k')\n",
    "plt.plot([-0.2,0],[1,1],'--k')\n",
    "plt.plot([-0.14,-0.14],[-0.4,0.2],'--k')\n",
    "plt.plot([-0.14,-0.14],[0.4,1],'--k')\n",
    "\n",
    "plt.text(-0.18,0.26,'h')\n",
    "plt.text(0.4,-0.1,'$r$')\n",
    "plt.text(0.05,0.4,'$r$')\n",
    "\n",
    "plt.axis([-1.7,1.7,-1.1,1.1])\n",
    "plt.axis('off')\n",
    "plt.show()"
   ]
  },
  {
   "cell_type": "markdown",
   "metadata": {},
   "source": [
    "1. Escriba el volumen $V$ del cono como una función de la altura $h$ de éste. Realice este punto usando fórmulas de $\\LaTeX$, en celdas *Markdown*. (14 puntos)\n",
    "2. Determinar el valor de $h$ que maximiza el volumen para un radio $r=2$. (10 puntos)\n",
    "3. ¿Cuál es el volumen máximo del cono? (10 puntos)"
   ]
  },
  {
   "cell_type": "markdown",
   "metadata": {},
   "source": [
    "$$ V = \\frac{\\pi h r^2}{3} $$\n",
    "\n",
    "Teorema de la altura\n",
    "\n",
    "$$ \\frac{h}{r} = \\frac{r}{2R-h} $$\n",
    "\n",
    "$$ r^2 = h(2R-h) $$\n"
   ]
  },
  {
   "cell_type": "code",
   "execution_count": 1,
   "metadata": {},
   "outputs": [
    {
     "data": {
      "text/latex": [
       "$\\displaystyle \\frac{\\pi h^{2} \\left(2 R - h\\right)}{3}$"
      ],
      "text/plain": [
       "pi*h**2*(2*R - h)/3"
      ]
     },
     "execution_count": 1,
     "metadata": {},
     "output_type": "execute_result"
    }
   ],
   "source": [
    "import numpy as np\n",
    "import sympy as sp\n",
    "\n",
    "r = sp.var(\"r\")\n",
    "h = sp.var(\"h\")\n",
    "R = sp.var(\"R\")\n",
    "\n",
    "\n",
    "def r2(h) :\n",
    "    return h*(2*R - h)\n",
    "\n",
    "def V(h) :\n",
    "    return sp.pi*h*r2(h)/3\n",
    "\n",
    "V(h)"
   ]
  },
  {
   "cell_type": "markdown",
   "metadata": {},
   "source": [
    "Derivo mi expresión"
   ]
  },
  {
   "cell_type": "code",
   "execution_count": 3,
   "metadata": {},
   "outputs": [
    {
     "data": {
      "text/latex": [
       "$\\displaystyle - \\frac{\\pi h^{2}}{3} + \\frac{2 \\pi h \\left(2 R - h\\right)}{3}$"
      ],
      "text/plain": [
       "-pi*h**2/3 + 2*pi*h*(2*R - h)/3"
      ]
     },
     "execution_count": 3,
     "metadata": {},
     "output_type": "execute_result"
    }
   ],
   "source": [
    "dV = sp.diff(V(h), h)\n",
    "dV"
   ]
  },
  {
   "cell_type": "markdown",
   "metadata": {},
   "source": [
    "Resuelvo para punto crítico"
   ]
  },
  {
   "cell_type": "code",
   "execution_count": 5,
   "metadata": {},
   "outputs": [
    {
     "data": {
      "text/plain": [
       "[0, 4*R/3]"
      ]
     },
     "execution_count": 5,
     "metadata": {},
     "output_type": "execute_result"
    }
   ],
   "source": [
    "pc = sp.solve(dV, h)\n",
    "pc"
   ]
  },
  {
   "cell_type": "markdown",
   "metadata": {},
   "source": [
    "El punto crítico se encuentra cuando $ h = \\frac{4R}{3}$"
   ]
  },
  {
   "cell_type": "markdown",
   "metadata": {},
   "source": [
    "Sustitutyo ese valor de h en la expresión\n",
    "\n",
    "$$ r^2 = h(2R-h) $$\n",
    "\n",
    "Sabiendo que r=2\n",
    "\n",
    "$$ 2^2 = h(2R-h) $$"
   ]
  },
  {
   "cell_type": "code",
   "execution_count": 24,
   "metadata": {},
   "outputs": [
    {
     "data": {
      "text/latex": [
       "$\\displaystyle \\frac{8 R^{2}}{9} - 4$"
      ],
      "text/plain": [
       "8*R**2/9 - 4"
      ]
     },
     "execution_count": 24,
     "metadata": {},
     "output_type": "execute_result"
    }
   ],
   "source": [
    "(r2(h)-4).subs(h, pc[1])"
   ]
  },
  {
   "cell_type": "code",
   "execution_count": 22,
   "metadata": {},
   "outputs": [
    {
     "data": {
      "text/plain": [
       "[-3*sqrt(2)/2, 3*sqrt(2)/2]"
      ]
     },
     "execution_count": 22,
     "metadata": {},
     "output_type": "execute_result"
    }
   ],
   "source": [
    "pcR = sp.solve((r2(h)-4).subs(h, pc[1]), R)\n",
    "pcR"
   ]
  },
  {
   "cell_type": "code",
   "execution_count": 23,
   "metadata": {},
   "outputs": [
    {
     "data": {
      "text/plain": [
       "2.1213203435596424"
      ]
     },
     "execution_count": 23,
     "metadata": {},
     "output_type": "execute_result"
    }
   ],
   "source": [
    "float(pcR[1])"
   ]
  },
  {
   "cell_type": "code",
   "execution_count": 20,
   "metadata": {},
   "outputs": [
    {
     "data": {
      "text/plain": [
       "2.8284271247461903"
      ]
     },
     "execution_count": 20,
     "metadata": {},
     "output_type": "execute_result"
    }
   ],
   "source": [
    "hmax = (4*R/3).subs(R, pcR[1])\n",
    "float(hmax)"
   ]
  },
  {
   "cell_type": "code",
   "execution_count": 29,
   "metadata": {},
   "outputs": [
    {
     "data": {
      "text/plain": [
       "11.847687835088976"
      ]
     },
     "execution_count": 29,
     "metadata": {},
     "output_type": "execute_result"
    }
   ],
   "source": [
    "float((np.pi* 2**2 * hmax)/3)"
   ]
  },
  {
   "cell_type": "markdown",
   "metadata": {},
   "source": [
    "---\n",
    "# Segundo punto. Programación lineal (33 puntos)\n",
    "Una fábrica de confitería está interesada en mezclar tres de sus marcas principales de golosinas (M1, M2, M3) para obtener tres nuevos productos (P1, P2, P3), que desea vender al precio de 4,3,2 u.m. por caja, respectivamente.\n",
    "La empresa puede importar 2000 cajas de M1, 4000 de la M2 y 1000 de la M3, siendo el precio que debe pagar de 3,2 y 1 u.m. por cada tipo de caja.\n",
    "\n",
    "El proveedor solicita que el Producto 1 (P1) contenga como mínimo el 80% de M1 y como máximo el 20% de M3. El producto 2 (P2) deberá contener como mínimo el 20% de M1 y no más del 80% de M3. El producto 3 (P3) no podrá contener más del 70% de M3.\n",
    "\n",
    "Encuentre la combinación que le genere el **máximo** beneficio (precio de venta menos el costo).\n",
    "\n",
    "Use las variables $x_{ij}$: Como la cantidad de la marca $i$ en el producto $j$.\n",
    "\n",
    "1. Escriba la función objetivo a **minimizar** junto con las restricciones, explicando detalladamente cada paso (usando fórmulas de $\\LaTeX$, en celdas Markdown). Además escriba el problema en la forma \\begin{equation}\n",
    "\\begin{array}{ll}\n",
    "\\min_{\\boldsymbol{x}} & \\boldsymbol{c}^T\\boldsymbol{x} \\\\\n",
    "\\text{s. a. }        & \\boldsymbol{A}_{eq}\\boldsymbol{x}=\\boldsymbol{b}_{eq} \\\\\n",
    "                     & \\boldsymbol{A}\\boldsymbol{x}\\leq\\boldsymbol{b},\n",
    "\\end{array}\\qquad\\text{(23 puntos)}\n",
    "\\end{equation}\n",
    "2. Resuelva el problema utilizando la función `linprog`. ¿Cuál es la combinación óptima para cada producto?, ¿Cuál es el beneficio que se genera? (10 puntos)"
   ]
  },
  {
   "cell_type": "markdown",
   "metadata": {},
   "source": [
    "Venta --> $ 4P_1 + 3P_2 + 2P_3 $"
   ]
  },
  {
   "cell_type": "markdown",
   "metadata": {},
   "source": [
    "Costo --> $ 3M_1 + 2M_2 + M_3 $"
   ]
  },
  {
   "cell_type": "markdown",
   "metadata": {},
   "source": [
    "Función a optimizar\n",
    "\n",
    "$$\\min -4P_1 - 3P_2 - 2P_3 + 3M_1 + 2M_2 + M_3 $$\n",
    "\n",
    "\n",
    "$$\\min -4(x_{11} + x_{21} + x_{31}) - 3(x_{12} + x_{22} + x_{32}) - 2(x_{13} + x_{23} + x_{33}) + 3(x_{11} + x_{12} + x_{13}) + 2(x_{21} + x_{22} + x_{23}) + (x_{31} + x_{32} + x_{33}) $$\n"
   ]
  },
  {
   "cell_type": "markdown",
   "metadata": {},
   "source": [
    "$$ \\min -x_{11} - 2 x_{21} - 3x_{31} + 0x_{12} - x_{22} - 2x_{32} + x_{13} + 0x_{23} - x_{33} $$"
   ]
  },
  {
   "cell_type": "markdown",
   "metadata": {},
   "source": [
    "### Restricciones de P1\n",
    "\n",
    "$$ x_{11} + x_{21} + x_{31} \\geq 1 $$\n",
    "\n",
    "$$ \\frac{x_{11}}{x_{11} + x_{21} + x_{31}} \\geq 0.8 $$\n",
    "\n",
    "$ x_{11} - 0.8x_{11} - 0.8x_{21} - 0.8x_{31} \\geq 0 $\n",
    "\n",
    "$ 0.2x_{11} - 0.8x_{21} - 0.8x_{31} \\geq 0 $\n",
    "\n",
    "\n",
    "$$ \\frac{x_{31}}{x_{11} + x_{21} + x_{31}} \\leq 0.2 $$\n",
    "\n",
    "$ x_{31} - 0.2x_{11} - 0.2x_{21} - 0.2x_{31} \\leq 0 $\n",
    "\n",
    "$ - 0.2x_{11} - 0.2x_{21} + 0.8x_{31} \\leq 0 $\n",
    "\n",
    "\n"
   ]
  },
  {
   "cell_type": "markdown",
   "metadata": {},
   "source": [
    "### Restricciones de P2\n",
    "\n",
    "$$ x_{12} + x_{22} + x_{32} \\geq 1 $$\n",
    "\n",
    "$$ \\frac{x_{12}}{x_{12} + x_{22} + x_{32}} \\geq 0.2 $$\n",
    "\n",
    "$ x_{12} - 0.2x_{12} - 0.2x_{22} - 0.2x_{32} \\geq 0 $\n",
    "\n",
    "$ 0.8x_{12} - 0.2x_{22} - 0.2x_{32} \\geq 0 $\n",
    "\n",
    "\n",
    "$$ \\frac{x_{32}}{x_{12} + x_{22} + x_{32}} \\leq 0.8 $$\n",
    "\n",
    "$x_{32} - 0.8x_{12} - 0.8x_{22} - 0.8x_{32} \\leq 0$ \n",
    "\n",
    "$- 0.8x_{12} - 0.8x_{22} + 0.2x_{32} \\leq 0$ \n"
   ]
  },
  {
   "cell_type": "markdown",
   "metadata": {},
   "source": [
    "### Restricciones de P3\n",
    "\n",
    "$$ x_{13} + x_{23} + x_{33} \\geq 1 $$\n",
    "\n",
    "$$ \\frac{x_{33}}{x_{13} + x_{23} + x_{33}} \\leq 0.7 $$\n",
    "\n",
    "$ x_{33} - 0.7x_{13} - 0.7x_{23} - 0.7x_{33} \\leq 0 $\n",
    "\n",
    "$ -0.7x_{13} - 0.7x_{23} + 0.3x_{33} \\leq 0 $\n"
   ]
  },
  {
   "cell_type": "markdown",
   "metadata": {},
   "source": [
    "### Restricciones de importación\n",
    "\n",
    "$$ x_{11} + x_{12} + x_{13} <= 2000 $$\n",
    "$$ x_{21} + x_{22} + x_{23} <= 4000 $$\n",
    "$$ x_{31} + x_{32} + x_{33} <= 1000 $$\n"
   ]
  },
  {
   "cell_type": "code",
   "execution_count": 38,
   "metadata": {},
   "outputs": [],
   "source": [
    "opt.linprog?"
   ]
  },
  {
   "cell_type": "code",
   "execution_count": 56,
   "metadata": {},
   "outputs": [
    {
     "data": {
      "text/plain": [
       "     con: array([], dtype=float64)\n",
       "     fun: -10332.666666666668\n",
       " message: 'Optimization terminated successfully.'\n",
       "     nit: 15\n",
       "   slack: array([ 3.32666667e+02, -0.00000000e+00,  6.67333333e+01,  8.66433333e+03,\n",
       "        1.13686838e-13,  3.93296667e+03,  0.00000000e+00, -1.99840144e-17,\n",
       "        0.00000000e+00,  0.00000000e+00, -4.54747351e-13])\n",
       "  status: 0\n",
       " success: True\n",
       "       x: array([2.66933333e+02, 6.67333333e+01, 0.00000000e+00, 1.73306667e+03,\n",
       "       3.93296667e+03, 2.99930000e+03, 0.00000000e+00, 3.00000000e-01,\n",
       "       7.00000000e-01])"
      ]
     },
     "execution_count": 56,
     "metadata": {},
     "output_type": "execute_result"
    }
   ],
   "source": [
    "import numpy as np\n",
    "import scipy.optimize as opt\n",
    "\n",
    "c = np.array([-1, -2, -3,\n",
    "               0, -1, -2,\n",
    "               1,  0, -1])\n",
    "\n",
    "A=np.array([[-1.0, -1.0, -1.0,  0.0,  0.0,  0.0,  0.0,  0.0,  0.0], \n",
    "            [-0.2,  0.8,  0.8,  0.0,  0.0,  0.0,  0.0,  0.0,  0.0],\n",
    "            [-0.2, -0.2,  0.8,  0.0,  0.0,  0.0,  0.0,  0.0,  0.0],\n",
    "            [ 0.0,  0.0,  0.0, -1.0, -1.0, -1.0,  0.0,  0.0,  0.0], \n",
    "            [ 0.0,  0.0,  0.0, -0.8,  0.2,  0.2,  0.0,  0.0,  0.0],\n",
    "            [ 0.0,  0.0,  0.0, -0.8, -0.8,  0.2,  0.0,  0.0,  0.0],\n",
    "            [ 0.0,  0.0,  0.0,  0.0,  0.0,  0.0, -1.0, -1.0, -1.0],\n",
    "            [ 0.0,  0.0,  0.0,  0.0,  0.0,  0.0, -0.7, -0.7,  0.3],\n",
    "            [ 1.0,  0.0,  0.0,  1.0,  0.0,  0.0,  1.0,  0.0,  0.0],\n",
    "            [ 0.0,  1.0,  0.0,  0.0,  1.0,  0.0,  0.0,  1.0,  0.0],\n",
    "            [ 0.0,  0.0,  1.0,  0.0,  0.0,  1.0,  0.0,  0.0,  1.0]])\n",
    "            \n",
    "\n",
    "b = np.array([-1.0,\n",
    "              -0.0,\n",
    "               0.0,\n",
    "              -1.0,\n",
    "              -0.0,\n",
    "               0.0,\n",
    "              -1.0,\n",
    "               0.0,\n",
    "              2000,\n",
    "              4000,\n",
    "              3000])\n",
    "respuesta = opt.linprog(c, A, b, method=\"simplex\")\n",
    "respuesta"
   ]
  },
  {
   "cell_type": "code",
   "execution_count": 54,
   "metadata": {},
   "outputs": [
    {
     "data": {
      "text/plain": [
       "array([0.00000000e+00, 0.00000000e+00, 0.00000000e+00, 0.00000000e+00,\n",
       "       1.99840144e-17, 1.00000000e+00, 3.00000000e-01, 1.70000000e+00])"
      ]
     },
     "execution_count": 54,
     "metadata": {},
     "output_type": "execute_result"
    }
   ],
   "source": [
    "A @ respuesta.x "
   ]
  },
  {
   "cell_type": "code",
   "execution_count": 69,
   "metadata": {},
   "outputs": [
    {
     "data": {
      "text/plain": [
       "2000.0"
      ]
     },
     "execution_count": 69,
     "metadata": {},
     "output_type": "execute_result"
    }
   ],
   "source": [
    "(respuesta.x[0]+respuesta.x[3]+respuesta.x[6])"
   ]
  },
  {
   "cell_type": "markdown",
   "metadata": {},
   "source": [
    "---\n",
    "# Tercer punto. Ajuste de curvas (33 puntos)\n",
    "Los siguientes datos extraidos de Administrative Office of the U.S. Courts, representan el número de bancarrotas en miles entre los años 1988 y 2001."
   ]
  },
  {
   "cell_type": "code",
   "execution_count": 70,
   "metadata": {},
   "outputs": [],
   "source": [
    "y = np.array([594.6,643.0,725.5,880.4,972.5,918.7,845.3,858.1,\n",
    "                           1042.1,1317.0,1429.5,1392.0,1277.0,1386.6])\n",
    "x = np.arange(8,22)"
   ]
  },
  {
   "cell_type": "markdown",
   "metadata": {},
   "source": [
    "1. Ajuste las bancarrotas con polinomios de grado 1, 3 y 5. Muestre los errores de forma gráfica, ¿Qué polinómio se ajusta mejor? (23 puntos)\n",
    "2. Muestre en un gráfico los datos y el polinómio que mejor se ajuste (5 puntos)\n",
    "3. Usar el modelo para averiguar el número de bancarrotas a mediados de 1998 (es decir en 1998.5) y predecirlo para el año 2011. ¿Qué diferencias encuentra en cuanto a la interpolación y la extrapolación? (5 puntos)"
   ]
  },
  {
   "cell_type": "code",
   "execution_count": 106,
   "metadata": {},
   "outputs": [],
   "source": [
    "import numpy as np\n",
    "import scipy.optimize as opt\n",
    "m = x.shape[0]\n",
    "y = np.reshape(y, [m, -1])\n",
    "ones = np.ones([m, 1])\n",
    "x = np.reshape(x, [m, -1]) - np.min(x)\n",
    "x2 = x**2\n",
    "x3 = x**3\n",
    "x4 = x**4\n",
    "x5 = x**5\n"
   ]
  },
  {
   "cell_type": "code",
   "execution_count": 107,
   "metadata": {},
   "outputs": [],
   "source": [
    "def funcion_de_costo(theta, X, y) :\n",
    "    m, n = X.shape\n",
    "    theta = np.reshape(theta, [n, -1]) \n",
    "    prediccion = X @ theta\n",
    "    costo = (y - prediccion).T @ (y - prediccion)\n",
    "    return costo[0][0]\n",
    "\n",
    "X1 = np.hstack((ones, x))\n",
    "X3 = np.hstack((ones, x, x2, x3))\n",
    "X5 = np.hstack((ones, x, x2, x3, x4, x5))\n",
    "t1 = np.random.rand(2)\n",
    "t3 = np.random.rand(4)\n",
    "t5 = np.random.rand(6)\n",
    "\n",
    "sol1 = opt.minimize(funcion_de_costo, t1, args=(X1, y))\n",
    "sol3 = opt.minimize(funcion_de_costo, t3, args=(X3, y))\n",
    "sol5 = opt.minimize(funcion_de_costo, t5, args=(X5, y))\n"
   ]
  },
  {
   "cell_type": "markdown",
   "metadata": {},
   "source": [
    "## 1. Muestre errores de forma gráfica"
   ]
  },
  {
   "cell_type": "code",
   "execution_count": 108,
   "metadata": {},
   "outputs": [
    {
     "data": {
      "text/plain": [
       "<BarContainer object of 3 artists>"
      ]
     },
     "execution_count": 108,
     "metadata": {},
     "output_type": "execute_result"
    },
    {
     "data": {
      "image/png": "[encoded data removed]",
      "text/plain": [
       "<Figure size 432x288 with 1 Axes>"
      ]
     },
     "metadata": {
      "needs_background": "light"
     },
     "output_type": "display_data"
    }
   ],
   "source": [
    "costos = [sol1.fun, sol3.fun, sol5.fun]\n",
    "import matplotlib.pyplot as plt\n",
    "%matplotlib inline\n",
    "plt.figure()\n",
    "plt.bar([1, 3, 5], costos)"
   ]
  },
  {
   "cell_type": "markdown",
   "metadata": {},
   "source": [
    "## 2. Grafique los datos y el polinomio que mejor se ajuste"
   ]
  },
  {
   "cell_type": "code",
   "execution_count": 110,
   "metadata": {},
   "outputs": [
    {
     "data": {
      "image/png": "[encoded data removed]",
      "text/plain": [
       "<Figure size 432x288 with 1 Axes>"
      ]
     },
     "metadata": {
      "needs_background": "light"
     },
     "output_type": "display_data"
    }
   ],
   "source": [
    "plt.figure()\n",
    "plt.scatter(x + 1988, y)\n",
    "plt.plot(x + 1988, X5 @ sol5.x, label=\"Grado 5\")\n",
    "plt.legend(loc=\"best\")\n",
    "plt.grid()"
   ]
  },
  {
   "cell_type": "markdown",
   "metadata": {},
   "source": [
    "## 3. Diferencias entre interpolación y extrapolación"
   ]
  },
  {
   "cell_type": "code",
   "execution_count": 111,
   "metadata": {},
   "outputs": [
    {
     "data": {
      "text/plain": [
       "639.5311535234822"
      ]
     },
     "execution_count": 111,
     "metadata": {},
     "output_type": "execute_result"
    }
   ],
   "source": [
    "np.array([1, 0.5, 0.5**2, 0.5**3, 0.5**4, 0.5**5]) @ sol5.x"
   ]
  },
  {
   "cell_type": "code",
   "execution_count": 113,
   "metadata": {},
   "outputs": [
    {
     "data": {
      "text/plain": [
       "-31945.032428070375"
      ]
     },
     "execution_count": 113,
     "metadata": {},
     "output_type": "execute_result"
    }
   ],
   "source": [
    "np.array([1, 23, 23**2, 23**3, 23**4, 23**5]) @ sol5.x"
   ]
  },
  {
   "cell_type": "markdown",
   "metadata": {},
   "source": [
    "La interpolación de un modelo con sobreajute es buena, pero debido al sobreajuste no generaliza, entonces la extrapolación es mala."
   ]
  },
  {
   "cell_type": "code",
   "execution_count": null,
   "metadata": {},
   "outputs": [],
   "source": []
  }
 ],
 "metadata": {
  "kernelspec": {
   "display_name": "Python 3 (ipykernel)",
   "language": "python",
   "name": "python3"
  },
  "language_info": {
   "codemirror_mode": {
    "name": "ipython",
    "version": 3
   },
   "file_extension": ".py",
   "mimetype": "text/x-python",
   "name": "python",
   "nbconvert_exporter": "python",
   "pygments_lexer": "ipython3",
   "version": "3.8.11"
  }
 },
 "nbformat": 4,
 "nbformat_minor": 2
}

{
 "cells": [
  {
   "cell_type": "markdown",
   "metadata": {},
   "source": [
    "# Examen Módulo 1 - Optimización. <font color=blue>Tipo de examen 1</font>.\n",
    "\n",
    "**Lea cuidadosamente las siguientes indicaciones antes de comenzar el examen:**\n",
    "- Para resolver el examen edite este mismo archivo y renómbrelo de la siguiente manera: *Examen1_ApellidoNombre*, donde *ApellidoNombre* corresponde a su apellido paterno con la inicial en mayúscula, seguido de su primer nombre con la inicial en mayúscula **sin acentos**. Por ejemplo, en mi caso el nombre del archivo sería *Examen1_ArellanoCarlos*.\n",
    "- Resuelva los puntos en el espacio provisto. Si requiere agregar más celdas para código o escritura, hágalo (`Esc`+`B`) o (`Esc`+`A`).\n",
    "- Recuerde que también se está evaluando su capacidad de interpretar los resultados. Escriba sus interpretaciones/conclusiones en celdas utilizando *Markdown*.\n",
    "- El formato de presentación de todo el examen en general debe ser adecuado. Use tamaños de letra, colores, etiquetas, etcétera.\n",
    "- No se resuelven dudas de ningún tipo por los profesores de la asignatura. Por favor, absténgase de preguntar.\n",
    "- Revise bien el tipo de examen. Sólo se le calificará si realiza el tipo de examen asignado."
   ]
  },
  {
   "cell_type": "markdown",
   "metadata": {},
   "source": [
    "---\n",
    "# Primer punto. Optimización de funciones con `SymPy` (35 puntos)\n",
    "\n",
    "Considere una cruz simétrica inscrita en un círculo de radio $r$"
   ]
  },
  {
   "cell_type": "code",
   "execution_count": 1,
   "metadata": {},
   "outputs": [
    {
     "data": {
      "image/png": "[encoded data removed]",
      "text/plain": [
       "<Figure size 432x288 with 1 Axes>"
      ]
     },
     "metadata": {
      "needs_background": "light"
     },
     "output_type": "display_data"
    }
   ],
   "source": [
    "import numpy as np\n",
    "import matplotlib.pyplot as plt\n",
    "import matplotlib.patches as patches\n",
    "%matplotlib inline\n",
    "\n",
    "ct = np.cos(0.3)\n",
    "st = np.sin(0.3)\n",
    "x = np.linspace(-ct,ct,1000)\n",
    "y=np.zeros(np.shape(x))\n",
    "y[1:500] = [st if i < -st else ct for i in x[1:500]]\n",
    "y[500:999] = [st if i > st else ct for i in x[500:999]]\n",
    "\n",
    "p = patches.Circle((0, 0), 1,fc='w',lw=2,color='k')\n",
    "ax = plt.gca()\n",
    "ax.add_artist(p)\n",
    "plt.text(1.01,0,'$r$')\n",
    "\n",
    "plt.plot(x,y,'r')\n",
    "plt.plot(x,-y,'r')\n",
    "\n",
    "plt.plot([0,ct],[0,0],'k')\n",
    "plt.text(0.5,0.05,'$x$')\n",
    "\n",
    "plt.axis([-1,1,-1,1])\n",
    "plt.axis('equal')\n",
    "plt.axis('off')\n",
    "#plt.tight_layout()\n",
    "plt.show()"
   ]
  },
  {
   "cell_type": "markdown",
   "metadata": {},
   "source": [
    "1. Escribir el área $A$ de la cruz como una función de $x$. Realice este punto usando fórmulas de $\\LaTeX$, en celdas *Markdown*. (15 puntos)\n",
    "2. Determinar el valor de $x$ que maximiza el área para un radio $r=3$. (10 puntos)\n",
    "3. ¿Cuál es el área máxima de la cruz? (10 puntos)"
   ]
  },
  {
   "cell_type": "markdown",
   "metadata": {},
   "source": [
    "$$ r^2 = x^2 + y^2 $$\n",
    "\n",
    "$$ x^2 + y^2 = 9 $$\n",
    "\n",
    "$$ y^2 = 9 - x^2 $$\n",
    "\n",
    "$$ A = 4x(2y) - (2y)^2 $$"
   ]
  },
  {
   "cell_type": "code",
   "execution_count": 25,
   "metadata": {},
   "outputs": [
    {
     "data": {
      "text/latex": [
       "$\\displaystyle 4 x^{2} + 8 x \\sqrt{4 - x^{2}} - 16$"
      ],
      "text/plain": [
       "4*x**2 + 8*x*sqrt(4 - x**2) - 16"
      ]
     },
     "execution_count": 25,
     "metadata": {},
     "output_type": "execute_result"
    }
   ],
   "source": [
    "import numpy as np\n",
    "import sympy as sp\n",
    "x = sp.var(\"x\")\n",
    "r = 2\n",
    "\n",
    "def y(x) :\n",
    "    return sp.sqrt(r**2-x**2)\n",
    "\n",
    "def A(x) :\n",
    "    return 4*x*2*y(x) - (2*y(x))**2\n",
    "\n",
    "A(x)"
   ]
  },
  {
   "cell_type": "code",
   "execution_count": 26,
   "metadata": {},
   "outputs": [
    {
     "data": {
      "text/latex": [
       "$\\displaystyle - \\frac{8 x^{2}}{\\sqrt{4 - x^{2}}} + 8 x + 8 \\sqrt{4 - x^{2}}$"
      ],
      "text/plain": [
       "-8*x**2/sqrt(4 - x**2) + 8*x + 8*sqrt(4 - x**2)"
      ]
     },
     "execution_count": 26,
     "metadata": {},
     "output_type": "execute_result"
    }
   ],
   "source": [
    "dA = sp.diff(A(x), x)\n",
    "dA"
   ]
  },
  {
   "cell_type": "code",
   "execution_count": 27,
   "metadata": {},
   "outputs": [
    {
     "name": "stdout",
     "output_type": "stream",
     "text": [
      "-1.0514622242382672\n",
      "1.7013016167040798\n"
     ]
    }
   ],
   "source": [
    "pc = sp.solve(dA, x)\n",
    "for p in pc :\n",
    "    print(float(p))"
   ]
  },
  {
   "cell_type": "code",
   "execution_count": 28,
   "metadata": {},
   "outputs": [
    {
     "data": {
      "text/plain": [
       "9.888543819998318"
      ]
     },
     "execution_count": 28,
     "metadata": {},
     "output_type": "execute_result"
    }
   ],
   "source": [
    "float(A(pc[1]))"
   ]
  },
  {
   "cell_type": "code",
   "execution_count": null,
   "metadata": {},
   "outputs": [],
   "source": []
  },
  {
   "cell_type": "markdown",
   "metadata": {},
   "source": [
    "---\n",
    "# Segundo punto. Programación lineal (35 puntos)\n",
    "\n",
    "Una compañia de aceros produce dos tamaños de tubos: A, B que son vendidos, respectivamente en 10u.m. y 9u.m. por metro. Para fabricar cada metro del tubo A se requieren 0.5 minutos de tiempo de procesamiento sobre un tipo particular de maquina de modelado y cada metro del tubo B requiere 0.6 minutos. Después de la producción, cada metro de tubo, sin importar el tipo requiere 1 onza de material de soldar. El costo total se estima en 3u.m. y 4u.m. por metro de los tubos respectivamente. Para la siguiente semana, la compañía ha recibido pedidos excepcionalmente grandes que totalizan 2000 metros del tubo A y 5000 metros del tubo B. como solo se dispone de 30 horas de tiempo de maquina esta semana y solo se tienen en inventario 3500 onzas de material de soldar, el departamento de producción no podrá satisfacer esta demanda. Como no se espera que continúe esta demanda tan alta, la gerencia esta considerando la compra de algunos de estos tubos a proveedores de Japón a un costo de entrega de 6u.m. por metro del tubo A y 7u.m. por metro del tubo B.\n",
    "\n",
    "Se desea conocer la cantidad de producción de cada tipo de tubo y la cantidad de compra a Japón para satisfacer la demanda y **maximizar** las ganancias de la compañía (esto es, precio de venta menos costos). La siguiente tabla presenta la información correspondiente.\n",
    "\n",
    "<table>\n",
    "  <tr>\n",
    "      <th>Tubo</th>\n",
    "      <th>Precio de venta</th>\n",
    "      <th>Demanda</th>\n",
    "      <th>Tiempo de máquina</th>\n",
    "      <th>Material para soldar</th>\n",
    "      <th>Costo de producción</th>\n",
    "      <th>Costo de compra</th>\n",
    "  </tr>\n",
    "  <tr>\n",
    "      <th>Tipo A</th>\n",
    "      <td>10</td>\n",
    "      <td>2000</td>\n",
    "      <td>0.5 min</td>\n",
    "      <td>1 oz/m</td>\n",
    "      <td>3</td>\n",
    "      <td>6</td>\n",
    "  </tr>\n",
    "  <tr style=\"border-bottom: 1px solid #000;\">\n",
    "      <th>Tipo B</th>\n",
    "      <td>9</td>\n",
    "      <td>5000</td>\n",
    "      <td>0.6 min</td>\n",
    "      <td>1 oz/m</td>\n",
    "      <td>4</td>\n",
    "      <td>7</td>\n",
    "  </tr>\n",
    "  <tr>\n",
    "      <td>Disponibilidad</td>\n",
    "      <td></td>\n",
    "      <td></td>\n",
    "      <td>30 horas</td>\n",
    "      <td>3500 oz</td>\n",
    "      <td></td>\n",
    "      <td></td>\n",
    "  </tr>\n",
    "</table>\n",
    "\n",
    "1. Escriba la función a **minimizar** junto con las restricciones, explicando detalladamente cada paso (usando fórmulas en $\\LaTeX$, en celdas Markdown). Además escriba el problema en la forma \\begin{equation}\n",
    "\\begin{array}{ll}\n",
    "\\min_{\\boldsymbol{x}} & \\boldsymbol{c}^T\\boldsymbol{x} \\\\\n",
    "\\text{s. a. }        & \\boldsymbol{A}_{eq}\\boldsymbol{x}=\\boldsymbol{b}_{eq} \\\\\n",
    "                     & \\boldsymbol{A}\\boldsymbol{x}\\leq\\boldsymbol{b},\n",
    "\\end{array}\\qquad\\text{(25 puntos)}\n",
    "\\end{equation}\n",
    "2. Resuelva el problema utilizando la función `linprog`. ¿Cuántos tubos de cada tipo se deben producir?, ¿Cuántos se deben comprar?, ¿Cuál es la ganancia? (10 puntos)"
   ]
  },
  {
   "cell_type": "markdown",
   "metadata": {},
   "source": [
    "Función a maximizar\n",
    "\n",
    "$$ \\max{(10-3)x_1 + (9-4)x_2 + (10-6)x_3 + (9-7)x_4} $$\n",
    "\n",
    "Igual a \n",
    "\n",
    "$$ \\min{-7x_1 - 5x_2 - 4x_3  - 2x_4} $$\n",
    "\n",
    "\n",
    "Restricciones\n",
    "\n",
    "$ 0.5x_1 + 0.6x_2 \\leq 1800 $\n",
    "\n",
    "$ x_1 + x_2 \\leq 3500 $\n",
    "\n",
    "$ x_1 + x_3 \\geq 2000 $\n",
    "\n",
    "$ x_1 + x_3 \\leq 2000 $\n",
    "\n",
    "\n",
    "$ x_2 + x_4 \\geq 5000 $\n",
    "\n",
    "$ x_2 + x_4 \\leq 5000 $"
   ]
  },
  {
   "cell_type": "code",
   "execution_count": 29,
   "metadata": {},
   "outputs": [
    {
     "data": {
      "text/plain": [
       "     con: array([], dtype=float64)\n",
       "     fun: -28000.0\n",
       " message: 'Optimization terminated successfully.'\n",
       "     nit: 7\n",
       "   slack: array([  0.        , 166.66666667,   0.        ,   0.        ,\n",
       "         0.        ,   0.        ])\n",
       "  status: 0\n",
       " success: True\n",
       "       x: array([2000.        , 1333.33333333,    0.        , 3666.66666667])"
      ]
     },
     "execution_count": 29,
     "metadata": {},
     "output_type": "execute_result"
    }
   ],
   "source": [
    "import numpy as np\n",
    "import scipy.optimize as opt\n",
    "\n",
    "c = np.array([-7,\n",
    "              -5,\n",
    "              -4,\n",
    "              -2])\n",
    "A = np.array([[ 0.5,  0.6,  0.0,  0.0],\n",
    "              [ 1.0,  1.0,  0.0,  0.0],\n",
    "              [-1.0,  0.0, -1.0,  0.0],\n",
    "              [ 1.0,  0.0,  1.0,  0.0],\n",
    "              [ 0.0, -1.0,  0.0, -1.0],\n",
    "              [ 0.0,  1.0,  0.0,  1.0]])\n",
    "b = np.array([1800,\n",
    "              3500,\n",
    "             -2000,\n",
    "              2000,\n",
    "             -5000,\n",
    "              5000])\n",
    "\n",
    "opt.linprog(c, A, b, method=\"simplex\")"
   ]
  },
  {
   "cell_type": "markdown",
   "metadata": {},
   "source": [
    "---\n",
    "# Tercer punto. Ajuste de curvas (30 puntos)\n",
    "Los siguientes datos extraidos de la Federal Reserve Economic Data (FRED), son los salarios por empleado equivalente a tiempo completo en industrias privadas de EE.UU.: fondos, fideicomisos, etc. **entre los años 1998 y 2018**. \n",
    "\n",
    "https://www.quandl.com/data/FRED/N4461C0A052NBEA-Wage-and-salary-accruals-per-full-time-equivalent-employee-Domestic-private-industries-Funds-trusts-and-other-financial-vehicles"
   ]
  },
  {
   "cell_type": "code",
   "execution_count": 1,
   "metadata": {},
   "outputs": [],
   "source": [
    "import quandl\n",
    "\n",
    "quandl.ApiConfig.api_key = 'qoEdK2vzPsx-8ADhs71o'\n",
    "\n",
    "sal = quandl.get(\"FRED/N4461C0A052NBEA\")"
   ]
  },
  {
   "cell_type": "code",
   "execution_count": 8,
   "metadata": {},
   "outputs": [],
   "source": [
    "import numpy as np"
   ]
  },
  {
   "cell_type": "code",
   "execution_count": 32,
   "metadata": {},
   "outputs": [],
   "source": [
    "y=np.array([ 55887.,  59365.,  65435.,  68065.,  71918.,  77257.,  92036.,\n",
    "        92645.,  99857.,  74935.,  78597.,  83134.,  87372., 104196.,\n",
    "       112597., 133821., 129107., 138259., 139083., 143762., 147334.])\n",
    "x = np.arange(8,29)"
   ]
  },
  {
   "cell_type": "markdown",
   "metadata": {},
   "source": [
    "1. Ajuste los salarios con polinomios de grado 1 a 5 y muestre los errores de forma gráfica, ¿Qué polinómio se ajusta mejor? (20 puntos)\n",
    "2. Muestre en un gráfico los datos y el polinómio que mejor se ajuste (5 puntos)\n",
    "3. Use el modelo para averiguar el salario a mediados del año 2005 y para predecirlo en el año 2025. ¿Qué diferencias encuentra en cuanto a la interpolación y la extrapolación? (5 puntos)"
   ]
  },
  {
   "cell_type": "code",
   "execution_count": 33,
   "metadata": {},
   "outputs": [],
   "source": [
    "import numpy as np\n",
    "import scipy.optimize as opt\n",
    "m = x.shape[0]\n",
    "y = np.reshape(y, [m, -1])\n",
    "ones = np.ones([m, 1])\n",
    "x = np.reshape(x, [m, -1]) - np.min(x)\n",
    "x2 = x**2\n",
    "x3 = x**3\n",
    "x4 = x**4\n",
    "x5 = x**5\n",
    "\n",
    "def funcion_de_costo(theta, X, y) :\n",
    "    m, n = X.shape\n",
    "    theta = np.reshape(theta, [n, -1]) \n",
    "    prediccion = X @ theta\n",
    "    costo = (y - prediccion).T @ (y - prediccion)\n",
    "    return costo[0][0]\n",
    "\n",
    "X1 = np.hstack((ones, x))\n",
    "X2 = np.hstack((ones, x, x2))\n",
    "X3 = np.hstack((ones, x, x2, x3))\n",
    "X4 = np.hstack((ones, x, x2, x3, x4))\n",
    "X5 = np.hstack((ones, x, x2, x3, x4, x5))\n",
    "t1 = np.random.rand(2)\n",
    "t2 = np.random.rand(3)\n",
    "t3 = np.random.rand(4)\n",
    "t4 = np.random.rand(5)\n",
    "t5 = np.random.rand(6)\n",
    "\n",
    "sol1 = opt.minimize(funcion_de_costo, t1, args=(X1, y))\n",
    "sol2 = opt.minimize(funcion_de_costo, t2, args=(X2, y))\n",
    "sol3 = opt.minimize(funcion_de_costo, t3, args=(X3, y))\n",
    "sol4 = opt.minimize(funcion_de_costo, t4, args=(X4, y))\n",
    "sol5 = opt.minimize(funcion_de_costo, t5, args=(X5, y))"
   ]
  },
  {
   "cell_type": "code",
   "execution_count": 34,
   "metadata": {},
   "outputs": [
    {
     "data": {
      "text/plain": [
       "<BarContainer object of 5 artists>"
      ]
     },
     "execution_count": 34,
     "metadata": {},
     "output_type": "execute_result"
    },
    {
     "data": {
      "image/png": "[encoded data removed]",
      "text/plain": [
       "<Figure size 432x288 with 1 Axes>"
      ]
     },
     "metadata": {
      "needs_background": "light"
     },
     "output_type": "display_data"
    }
   ],
   "source": [
    "costos = [sol1.fun, sol2.fun, sol3.fun, sol4.fun, sol5.fun]\n",
    "import matplotlib.pyplot as plt\n",
    "%matplotlib inline\n",
    "plt.figure()\n",
    "plt.bar([1, 2, 3, 4, 5], costos)"
   ]
  },
  {
   "cell_type": "code",
   "execution_count": 35,
   "metadata": {},
   "outputs": [
    {
     "data": {
      "image/png": "[encoded data removed]",
      "text/plain": [
       "<Figure size 432x288 with 1 Axes>"
      ]
     },
     "metadata": {
      "needs_background": "light"
     },
     "output_type": "display_data"
    }
   ],
   "source": [
    "plt.figure()\n",
    "plt.scatter(x + 1998, y)\n",
    "plt.plot(x + 1998, X5 @ sol5.x, label=\"Grado 5\")\n",
    "plt.legend(loc=\"best\")\n",
    "plt.grid()"
   ]
  },
  {
   "cell_type": "code",
   "execution_count": 36,
   "metadata": {},
   "outputs": [
    {
     "data": {
      "text/plain": [
       "85365.58543569449"
      ]
     },
     "execution_count": 36,
     "metadata": {},
     "output_type": "execute_result"
    }
   ],
   "source": [
    "np.array([1, 7.5, 7.5**2, 7.5**3, 7.5**4, 7.5**5]) @ sol5.x"
   ]
  },
  {
   "cell_type": "code",
   "execution_count": 37,
   "metadata": {},
   "outputs": [
    {
     "data": {
      "text/plain": [
       "-849319.4088725679"
      ]
     },
     "execution_count": 37,
     "metadata": {},
     "output_type": "execute_result"
    }
   ],
   "source": [
    "np.array([1, 27.5, 27.5**2, 27.5**3, 27.5**4, 27.5**5]) @ sol5.x"
   ]
  },
  {
   "cell_type": "markdown",
   "metadata": {},
   "source": [
    "La interpolación de un modelo con sobreajute es buena, pero debido al sobreajuste no generaliza, entonces la extrapolación es mala."
   ]
  },
  {
   "cell_type": "code",
   "execution_count": null,
   "metadata": {},
   "outputs": [],
   "source": []
  }
 ],
 "metadata": {
  "kernelspec": {
   "display_name": "Python 3 (ipykernel)",
   "language": "python",
   "name": "python3"
  },
  "language_info": {
   "codemirror_mode": {
    "name": "ipython",
    "version": 3
   },
   "file_extension": ".py",
   "mimetype": "text/x-python",
   "name": "python",
   "nbconvert_exporter": "python",
   "pygments_lexer": "ipython3",
   "version": "3.8.11"
  }
 },
 "nbformat": 4,
 "nbformat_minor": 2
}

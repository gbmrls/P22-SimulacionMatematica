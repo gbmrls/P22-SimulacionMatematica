{
 "cells": [
  {
   "cell_type": "markdown",
   "metadata": {},
   "source": [
    "# Examen Módulo 1 - Optimización.\n",
    "\n",
    "**Lea cuidadosamente las siguientes indicaciones antes de comenzar el examen:**\n",
    "- Para resolver el examen edite este mismo archivo y renómbrelo de la siguiente manera: *Examen1_ApellidoNombre*, donde *ApellidoNombre* corresponde a su apellido paterno con la inicial en mayúscula, seguido de su primer nombre con la inicial en mayúscula **sin acentos**. Por ejemplo, en mi caso el nombre del archivo sería *Examen1_ArellanoCarlos*.\n",
    "- Resuelva los puntos en el espacio provisto. Si requiere agregar más celdas para código o escritura, hágalo (`Esc`+`B`) o (`Esc`+`A`).\n",
    "- Recuerde que también se está evaluando su capacidad de interpretar los resultados. Escriba sus interpretaciones/conclusiones en celdas utilizando *Markdown*.\n",
    "- El formato de presentación de todo el examen en general debe ser adecuado. Use tamaños de letra, colores, etiquetas, etcétera.\n",
    "- No se resuelven dudas de ningún tipo por los profesores de la asignatura. Por favor, absténgase de preguntar.\n",
    "- Revise bien el tipo de examen. Sólo se le calificará si realiza el tipo de examen asignado."
   ]
  },
  {
   "cell_type": "markdown",
   "metadata": {},
   "source": [
    "---\n",
    "# Primer punto. Optimización de funciones con `SymPy` (34 puntos)\n",
    "\n",
    "**Volumen mínimo**. Considere un cono circular recto circunscrito en una esfera de radio $r$:"
   ]
  },
  {
   "cell_type": "code",
   "execution_count": 2,
   "metadata": {},
   "outputs": [
    {
     "data": {
      "image/png": "[encoded data removed]",
      "text/plain": [
       "<Figure size 432x288 with 1 Axes>"
      ]
     },
     "metadata": {
      "needs_background": "light"
     },
     "output_type": "display_data"
    }
   ],
   "source": [
    "import numpy as np\n",
    "import matplotlib.pyplot as plt\n",
    "import matplotlib.patches as patches\n",
    "%matplotlib inline\n",
    "\n",
    "B1 = patches.Arc((0, 0), 2,0.3,theta2=180,fc='None',ls='--',color='k')\n",
    "B2 = patches.Arc((0, 0), 2,0.3,theta1=180,fc='None',color='k')\n",
    "C = patches.Circle((0, 0.6), 0.6,fc='None',lw=2,color='k');\n",
    "ax = plt.gca()\n",
    "ax.add_artist(B1)\n",
    "ax.add_artist(B2)\n",
    "ax.add_artist(C)\n",
    "\n",
    "plt.plot([1,0,-1],[0,2,0],'k')\n",
    "plt.plot([0,0],[0,2],'--r')\n",
    "plt.plot([-0.2,0],[0,0],'--k')\n",
    "plt.plot([-0.2,0],[2,2],'--k')\n",
    "plt.plot([-0.14,-0.14],[0,0.9],'--k')\n",
    "plt.plot([-0.14,-0.14],[1.1,2],'--k')\n",
    "plt.plot([0,0.55],[0.6,0.9],'--r')\n",
    "plt.scatter([0,0.55],[0.6,0.9],c='k')\n",
    "plt.plot([0,1],[0,0],'--k')\n",
    "\n",
    "plt.text(-0.18,0.95,'h')\n",
    "plt.text(0.2,0.8,'$r$')\n",
    "\n",
    "plt.axis([-2.1,2.1,-0.5,2.1])\n",
    "plt.axis('off')\n",
    "plt.show()"
   ]
  },
  {
   "cell_type": "markdown",
   "metadata": {},
   "source": [
    "1. Escriba el volumen $V$ del cono como una función de la altura $h$ de éste. Realice este punto usando fórmulas de $\\LaTeX$, en celdas *Markdown*. (14 puntos)\n",
    "2. Determinar el valor de $h$ que minimiza el volumen para un radio $r=2$. (10 puntos)\n",
    "3. ¿Cuál es el volumen mínimo del cono? (10 puntos)"
   ]
  },
  {
   "cell_type": "markdown",
   "metadata": {},
   "source": [
    "$$ V = \\frac{1}{3}\\pi R^2 h $$"
   ]
  },
  {
   "cell_type": "markdown",
   "metadata": {},
   "source": [
    "$$ \\frac{R}{r} = \\frac{h}{\\sqrt{(h-r)^2 - r^2}} $$"
   ]
  },
  {
   "cell_type": "markdown",
   "metadata": {},
   "source": [
    "$$ \\frac{R^2}{r^2} = \\frac{h^2}{(h-r)^2 - r^2} $$"
   ]
  },
  {
   "cell_type": "markdown",
   "metadata": {},
   "source": [
    "$$ V = \\frac{1}{3}\\pi \\frac{r^2 h^2}{(h-r)^2 - r^2} h $$"
   ]
  },
  {
   "cell_type": "markdown",
   "metadata": {},
   "source": [
    "$$ V(h) = \\frac{\\pi}{3} \\frac{r^2 h^2}{h - 2r} $$"
   ]
  },
  {
   "cell_type": "code",
   "execution_count": 21,
   "metadata": {},
   "outputs": [
    {
     "data": {
      "text/latex": [
       "$\\displaystyle \\frac{\\pi h^{2} r^{2}}{3 \\left(h - 2 r\\right)}$"
      ],
      "text/plain": [
       "pi*h**2*r**2/(3*(h - 2*r))"
      ]
     },
     "execution_count": 21,
     "metadata": {},
     "output_type": "execute_result"
    }
   ],
   "source": [
    "import numpy as np\n",
    "import sympy as sp\n",
    "def V(h) :\n",
    "    return (sp.pi/3) * (r**2 * h**2)/(h - 2*r)\n",
    "\n",
    "h = sp.var(\"h\")\n",
    "r = sp.var(\"r\")\n",
    "\n",
    "V(h)"
   ]
  },
  {
   "cell_type": "code",
   "execution_count": 26,
   "metadata": {},
   "outputs": [
    {
     "data": {
      "text/latex": [
       "$\\displaystyle - \\frac{4 \\pi h^{2}}{3 \\left(h - 4\\right)^{2}} + \\frac{8 \\pi h}{3 \\left(h - 4\\right)}$"
      ],
      "text/plain": [
       "-4*pi*h**2/(3*(h - 4)**2) + 8*pi*h/(3*(h - 4))"
      ]
     },
     "execution_count": 26,
     "metadata": {},
     "output_type": "execute_result"
    }
   ],
   "source": [
    "dV = sp.diff(V(h), h).subs(r, 2)\n",
    "dV"
   ]
  },
  {
   "cell_type": "code",
   "execution_count": 27,
   "metadata": {},
   "outputs": [
    {
     "data": {
      "text/plain": [
       "[0, 8]"
      ]
     },
     "execution_count": 27,
     "metadata": {},
     "output_type": "execute_result"
    }
   ],
   "source": [
    "sp.solve(dV, h)"
   ]
  },
  {
   "cell_type": "code",
   "execution_count": 28,
   "metadata": {},
   "outputs": [
    {
     "data": {
      "text/latex": [
       "$\\displaystyle 0$"
      ],
      "text/plain": [
       "0"
      ]
     },
     "execution_count": 28,
     "metadata": {},
     "output_type": "execute_result"
    }
   ],
   "source": [
    "V(0)"
   ]
  },
  {
   "cell_type": "code",
   "execution_count": 33,
   "metadata": {},
   "outputs": [
    {
     "data": {
      "text/plain": [
       "67.02064327658226"
      ]
     },
     "execution_count": 33,
     "metadata": {},
     "output_type": "execute_result"
    }
   ],
   "source": [
    "float(V(8).subs(r, 2))"
   ]
  },
  {
   "cell_type": "code",
   "execution_count": null,
   "metadata": {},
   "outputs": [],
   "source": []
  },
  {
   "cell_type": "code",
   "execution_count": null,
   "metadata": {},
   "outputs": [],
   "source": []
  },
  {
   "cell_type": "markdown",
   "metadata": {},
   "source": [
    "---\n",
    "# Segundo punto. Programación lineal (33 puntos)\n",
    "\n",
    "Una compañia de aceros produce dos tamaños de tubos: A, B que son vendidos, respectivamente en 10u.m. y 9u.m. por metro. \n",
    "\n",
    "Para fabricar cada metro del tubo A se requieren 0.5 minutos de tiempo de procesamiento sobre un tipo particular de maquina de modelado y cada metro del tubo B requiere 0.6 minutos. \n",
    "\n",
    "Después de la producción, cada metro de tubo, sin importar el tipo requiere 1 onza de material de soldar. \n",
    "\n",
    "El costo total se estima en 3u.m. y 4u.m. por metro de los tubos respectivamente. \n",
    "\n",
    "Para la siguiente semana, la compañía ha recibido pedidos excepcionalmente grandes que totalizan 2000 metros del tubo A y 5000 metros del tubo B. \n",
    "\n",
    "Como solo se dispone de 30 horas de tiempo de maquina esta semana y solo se tienen en inventario 3500 onzas de material de soldar, el departamento de producción no podrá satisfacer esta demanda. \n",
    "\n",
    "Como no se espera que continúe esta demanda tan alta, la gerencia esta considerando la compra de algunos de estos tubos a proveedores de Japón a un costo de entrega de 6u.m. por metro del tubo A y 7u.m. por metro del tubo B.\n",
    "\n",
    "Se desea conocer la cantidad de producción de cada tipo de tubo y la cantidad de compra a Japón para satisfacer la demanda y **maximizar** las ganancias de la compañía (esto es, precio de venta menos costos). La siguiente tabla presenta la información correspondiente.\n",
    "\n",
    "<table>\n",
    "  <tr>\n",
    "      <th>Tubo</th>\n",
    "      <th>Precio de venta</th>\n",
    "      <th>Demanda</th>\n",
    "      <th>Tiempo de máquina</th>\n",
    "      <th>Material para soldar</th>\n",
    "      <th>Costo de producción</th>\n",
    "      <th>Costo de compra</th>\n",
    "  </tr>\n",
    "  <tr>\n",
    "      <th>Tipo A</th>\n",
    "      <td>10</td>\n",
    "      <td>2000</td>\n",
    "      <td>0.5 min</td>\n",
    "      <td>1 oz/m</td>\n",
    "      <td>3</td>\n",
    "      <td>6</td>\n",
    "  </tr>\n",
    "  <tr style=\"border-bottom: 1px solid #000;\">\n",
    "      <th>Tipo B</th>\n",
    "      <td>9</td>\n",
    "      <td>5000</td>\n",
    "      <td>0.6 min</td>\n",
    "      <td>1 oz/m</td>\n",
    "      <td>4</td>\n",
    "      <td>7</td>\n",
    "  </tr>\n",
    "  <tr>\n",
    "      <td>Disponibilidad</td>\n",
    "      <td></td>\n",
    "      <td></td>\n",
    "      <td>30 horas</td>\n",
    "      <td>3500 oz</td>\n",
    "      <td></td>\n",
    "      <td></td>\n",
    "  </tr>\n",
    "</table>\n",
    "\n",
    "1. Escriba la función a **minimizar** junto con las restricciones, explicando detalladamente cada paso (usando fórmulas en $\\LaTeX$, en celdas Markdown). Además escriba el problema en la forma \\begin{equation}\n",
    "\\begin{array}{ll}\n",
    "\\min_{\\boldsymbol{x}} & \\boldsymbol{c}^T\\boldsymbol{x} \\\\\n",
    "\\text{s. a. }        & \\boldsymbol{A}_{eq}\\boldsymbol{x}=\\boldsymbol{b}_{eq} \\\\\n",
    "                     & \\boldsymbol{A}\\boldsymbol{x}\\leq\\boldsymbol{b},\n",
    "\\end{array}\\qquad\\text{(23 puntos)}\n",
    "\\end{equation}\n",
    "2. Resuelva el problema utilizando la función `linprog`. ¿Cuántos tubos de cada tipo se deben producir?, ¿Cuántos se deben comprar?, ¿Cuál es la ganancia? (10 puntos)"
   ]
  },
  {
   "cell_type": "markdown",
   "metadata": {},
   "source": [
    "Función a maximizar\n",
    "\n",
    "$$ \\max{(10-3)x_1 + (9-4)x_2 + (10-6)x_3 + (9-7)x_4} $$\n",
    "\n",
    "Igual a \n",
    "\n",
    "$$ \\min{-7x_1 - 5x_2 - 4x_3  - 2x_4} $$\n",
    "\n",
    "\n",
    "Restricciones\n",
    "\n",
    "$ 0.5x_1 + 0.6x_2 \\leq 1800 $\n",
    "\n",
    "$ x_1 + x_2 \\leq 3500 $\n",
    "\n",
    "$ x_1 + x_3 \\geq 2000 $\n",
    "\n",
    "$ x_1 + x_3 \\leq 2000 $\n",
    "\n",
    "\n",
    "$ x_2 + x_4 \\geq 5000 $\n",
    "\n",
    "$ x_2 + x_4 \\leq 5000 $"
   ]
  },
  {
   "cell_type": "code",
   "execution_count": 8,
   "metadata": {},
   "outputs": [
    {
     "data": {
      "text/plain": [
       "     con: array([], dtype=float64)\n",
       "     fun: -28000.0\n",
       " message: 'Optimization terminated successfully.'\n",
       "     nit: 7\n",
       "   slack: array([  0.        , 166.66666667,   0.        ,   0.        ,\n",
       "         0.        ,   0.        ])\n",
       "  status: 0\n",
       " success: True\n",
       "       x: array([2000.        , 1333.33333333,    0.        , 3666.66666667])"
      ]
     },
     "execution_count": 8,
     "metadata": {},
     "output_type": "execute_result"
    }
   ],
   "source": [
    "import numpy as np\n",
    "import scipy.optimize as opt\n",
    "\n",
    "c = np.array([-7,\n",
    "              -5,\n",
    "              -4,\n",
    "              -2])\n",
    "A = np.array([[ 0.5,  0.6,  0.0,  0.0],\n",
    "              [ 1.0,  1.0,  0.0,  0.0],\n",
    "              [-1.0,  0.0, -1.0,  0.0],\n",
    "              [ 1.0,  0.0,  1.0,  0.0],\n",
    "              [ 0.0, -1.0,  0.0, -1.0],\n",
    "              [ 0.0,  1.0,  0.0,  1.0]])\n",
    "b = np.array([1800,\n",
    "              3500,\n",
    "             -2000,\n",
    "              2000,\n",
    "             -5000,\n",
    "              5000])\n",
    "\n",
    "opt.linprog(c, A, b, method=\"simplex\")"
   ]
  },
  {
   "cell_type": "code",
   "execution_count": null,
   "metadata": {},
   "outputs": [],
   "source": []
  },
  {
   "cell_type": "code",
   "execution_count": null,
   "metadata": {},
   "outputs": [],
   "source": []
  },
  {
   "cell_type": "code",
   "execution_count": null,
   "metadata": {},
   "outputs": [],
   "source": []
  },
  {
   "cell_type": "markdown",
   "metadata": {},
   "source": [
    "---\n",
    "# Tercer punto. Ajuste de curvas (30 puntos)\n",
    "Los siguientes datos extraidos de la Federal Reserve Economic Data (FRED), son los salarios por empleado equivalente a tiempo completo en industrias privadas de EE.UU.: fondos, fideicomisos, etc. **entre los años 1998 y 2018**. \n",
    "\n",
    "https://www.quandl.com/data/FRED/N4461C0A052NBEA-Wage-and-salary-accruals-per-full-time-equivalent-employee-Domestic-private-industries-Funds-trusts-and-other-financial-vehicles "
   ]
  },
  {
   "cell_type": "code",
   "execution_count": 11,
   "metadata": {},
   "outputs": [],
   "source": [
    "import numpy as np\n",
    "import matplotlib.pyplot as plt\n",
    "y=np.array([ 55887.,  59365.,  65435.,  68065.,  71918.,  77257.,  92036.,\n",
    "        92645.,  99857.,  74935.,  78597.,  83134.,  87372., 104196.,\n",
    "       112597., 133821., 129107., 138259., 139083., 143762., 147334.])\n",
    "x=np.arange(8,29)"
   ]
  },
  {
   "cell_type": "code",
   "execution_count": 12,
   "metadata": {},
   "outputs": [
    {
     "data": {
      "image/png": "[encoded data removed]",
      "text/plain": [
       "<Figure size 432x288 with 1 Axes>"
      ]
     },
     "metadata": {
      "needs_background": "light"
     },
     "output_type": "display_data"
    }
   ],
   "source": [
    "plt.plot(x+1980,y)\n",
    "plt.grid()"
   ]
  },
  {
   "cell_type": "markdown",
   "metadata": {},
   "source": [
    "1. Ajuste los salarios con polinomios de grado 1 a 3 y muestre los errores de forma gráfica, ¿Qué polinómio se ajusta mejor? (23 puntos)\n",
    "2. Muestre en un gráfico los datos y el polinómio que mejor se ajuste (5 puntos)\n",
    "3. Use el modelo para averiguar el salario a mediados del año 2005 y para predecirlo en el año 2025. ¿Qué diferencias encuentra en cuanto a la interpolación (esto es, obtener un punto medio) y la extrapolación  (es decir, obtener un dato fuera del rango conocido)? (5 puntos)"
   ]
  },
  {
   "cell_type": "code",
   "execution_count": 13,
   "metadata": {},
   "outputs": [],
   "source": [
    "def funcion_de_costo(theta, X, y) :\n",
    "    m, n = X.shape\n",
    "    theta = np.reshape(theta, [n, -1]) \n",
    "    prediccion = X @ theta\n",
    "    costo = (y - prediccion).T @ (y - prediccion)\n",
    "    return costo[0][0]\n",
    "\n",
    "import numpy as np\n",
    "import scipy.optimize as opt\n",
    "m = x.shape[0]\n",
    "y = np.reshape(y, [m, -1])\n",
    "ones = np.ones([m, 1])\n",
    "x = np.reshape(x, [m, -1])\n",
    "x2 = x**2\n",
    "x3 = x**3\n",
    "x4 = x**4\n",
    "x5 = x**5\n",
    "\n",
    "X1 = np.hstack((ones, x))\n",
    "X2 = np.hstack((ones, x, x2))\n",
    "X3 = np.hstack((ones, x, x2, x3))\n",
    "X4 = np.hstack((ones, x, x2, x3, x4))\n",
    "X5 = np.hstack((ones, x, x2, x3, x4, x5))\n",
    "t1 = np.random.rand(2)\n",
    "t2 = np.random.rand(3)\n",
    "t3 = np.random.rand(4)\n",
    "t4 = np.random.rand(5)\n",
    "t5 = np.random.rand(6)\n",
    "\n",
    "sol1 = opt.minimize(funcion_de_costo, t1, args=(X1, y))\n",
    "sol2 = opt.minimize(funcion_de_costo, t2, args=(X2, y))\n",
    "sol3 = opt.minimize(funcion_de_costo, t3, args=(X3, y))\n",
    "sol4 = opt.minimize(funcion_de_costo, t4, args=(X4, y))\n",
    "sol5 = opt.minimize(funcion_de_costo, t5, args=(X5, y))"
   ]
  },
  {
   "cell_type": "code",
   "execution_count": 14,
   "metadata": {},
   "outputs": [
    {
     "data": {
      "text/plain": [
       "<BarContainer object of 5 artists>"
      ]
     },
     "execution_count": 14,
     "metadata": {},
     "output_type": "execute_result"
    },
    {
     "data": {
      "image/png": "[encoded data removed]",
      "text/plain": [
       "<Figure size 432x288 with 1 Axes>"
      ]
     },
     "metadata": {
      "needs_background": "light"
     },
     "output_type": "display_data"
    }
   ],
   "source": [
    "costos = [sol1.fun, sol2.fun, sol3.fun, sol4.fun, sol5.fun]\n",
    "import matplotlib.pyplot as plt\n",
    "%matplotlib inline\n",
    "plt.figure()\n",
    "plt.bar([1, 2, 3, 4, 5], costos)"
   ]
  },
  {
   "cell_type": "code",
   "execution_count": 20,
   "metadata": {},
   "outputs": [
    {
     "data": {
      "image/png": "[encoded data removed]",
      "text/plain": [
       "<Figure size 432x288 with 1 Axes>"
      ]
     },
     "metadata": {
      "needs_background": "light"
     },
     "output_type": "display_data"
    }
   ],
   "source": [
    "plt.figure()\n",
    "plt.scatter(x + 1980, y)\n",
    "plt.plot(x + 1980, X3 @ sol3.x, label=\"Grado 3\")\n",
    "plt.legend(loc=\"best\")\n",
    "plt.grid()"
   ]
  },
  {
   "cell_type": "code",
   "execution_count": 16,
   "metadata": {},
   "outputs": [
    {
     "data": {
      "text/plain": [
       "133683.98775469573"
      ]
     },
     "execution_count": 16,
     "metadata": {},
     "output_type": "execute_result"
    }
   ],
   "source": [
    "np.array([1, 25.5, 25.5**2, 25.5**3]) @ sol3.x"
   ]
  },
  {
   "cell_type": "code",
   "execution_count": 18,
   "metadata": {},
   "outputs": [
    {
     "data": {
      "text/plain": [
       "525515.822897593"
      ]
     },
     "execution_count": 18,
     "metadata": {},
     "output_type": "execute_result"
    }
   ],
   "source": [
    "np.array([1, 45.5, 45.5**2, 45.5**3]) @ sol3.x"
   ]
  },
  {
   "cell_type": "markdown",
   "metadata": {},
   "source": [
    "El modelo no está sobreajustado. El valor para 2025 podría ser correcto de acuerdo a la tendencia que se ve de alza."
   ]
  }
 ],
 "metadata": {
  "kernelspec": {
   "display_name": "Python 3 (ipykernel)",
   "language": "python",
   "name": "python3"
  },
  "language_info": {
   "codemirror_mode": {
    "name": "ipython",
    "version": 3
   },
   "file_extension": ".py",
   "mimetype": "text/x-python",
   "name": "python",
   "nbconvert_exporter": "python",
   "pygments_lexer": "ipython3",
   "version": "3.8.11"
  }
 },
 "nbformat": 4,
 "nbformat_minor": 2
}

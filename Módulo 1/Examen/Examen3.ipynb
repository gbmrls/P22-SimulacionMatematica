{
 "cells": [
  {
   "cell_type": "markdown",
   "metadata": {},
   "source": [
    "# Examen Módulo 1 - Optimización. <font color=blue>Tipo de examen 2</font>.\n",
    "\n",
    "**Lea cuidadosamente las siguientes indicaciones antes de comenzar el examen:**\n",
    "- Para resolver el examen edite este mismo archivo y renómbrelo de la siguiente manera: *Examen1_ApellidoNombre*, donde *ApellidoNombre* corresponde a su apellido paterno con la inicial en mayúscula, seguido de su primer nombre con la inicial en mayúscula **sin acentos**. Por ejemplo, en mi caso el nombre del archivo sería *Examen1_ArellanoCarlos*.\n",
    "- Resuelva los puntos en el espacio provisto. Si requiere agregar más celdas para código o escritura, hágalo (`Esc`+`B`) o (`Esc`+`A`).\n",
    "- Recuerde que también se está evaluando su capacidad de interpretar los resultados. Escriba sus interpretaciones/conclusiones en celdas utilizando *Markdown*.\n",
    "- El formato de presentación de todo el examen en general debe ser adecuado. Use tamaños de letra, colores, etiquetas, etcétera.\n",
    "- No se resuelven dudas de ningún tipo por los profesores de la asignatura. Por favor, absténgase de preguntar.\n",
    "- Revise bien el tipo de examen. Sólo se le calificará si realiza el tipo de examen asignado."
   ]
  },
  {
   "cell_type": "markdown",
   "metadata": {},
   "source": [
    "---\n",
    "# Primer punto. Optimización de funciones con `SymPy` (35 puntos)\n",
    "\n",
    "Considere una cruz simétrica inscrita en un círculo de radio $r$"
   ]
  },
  {
   "cell_type": "code",
   "execution_count": 12,
   "metadata": {},
   "outputs": [
    {
     "data": {
      "image/png": "[encoded data removed]",
      "text/plain": [
       "<Figure size 432x288 with 1 Axes>"
      ]
     },
     "metadata": {
      "needs_background": "light"
     },
     "output_type": "display_data"
    }
   ],
   "source": [
    "import numpy as np\n",
    "import matplotlib.pyplot as plt\n",
    "import matplotlib.patches as patches\n",
    "%matplotlib inline\n",
    "\n",
    "ct = np.cos(0.3)\n",
    "st = np.sin(0.3)\n",
    "x = np.linspace(-ct,ct,1000)\n",
    "y = np.zeros(np.shape(x))\n",
    "y[1:500] = [st if i < -st else ct for i in x[1:500]]\n",
    "y[500:999] = [st if i > st else ct for i in x[500:999]]\n",
    "\n",
    "p = patches.Circle((0, 0), 1,fc='w',lw=2,color='k')\n",
    "ax = plt.gca()\n",
    "ax.add_artist(p)\n",
    "plt.text(0.1,0.6,'$r$')\n",
    "\n",
    "plt.plot(x,y,'r')\n",
    "plt.plot(x,-y,'r')\n",
    "\n",
    "plt.plot([-st,0,st],[ct,0,ct],'k--')\n",
    "plt.text(-0.04,0.4,r'$\\theta$')\n",
    "a = patches.Arc((0, 0),0.7,0.7,90,theta1=-0.3*180/np.pi,theta2=0.3*180/np.pi,\n",
    "                fc='w',color='k',ls='--')\n",
    "ax.add_artist(a)\n",
    "\n",
    "plt.axis([-1,1,-1,1])\n",
    "plt.axis('equal')\n",
    "plt.axis('off')\n",
    "#plt.tight_layout()\n",
    "plt.show()"
   ]
  },
  {
   "cell_type": "markdown",
   "metadata": {},
   "source": [
    "1. Escribir el área $A$ de la cruz como una función de $\\theta$. Realice este punto usando fórmulas de $\\LaTeX$, en celdas *Markdown*. (15 puntos)\n",
    "2. Determinar el valor de $\\theta$ que maximiza el área para un radio $r=2$. (10 puntos)\n",
    "3. ¿Cuál es el área máxima de la cruz? (10 puntos)"
   ]
  },
  {
   "cell_type": "markdown",
   "metadata": {},
   "source": [
    "**Pista:** Divida la cruz en cuatro partes iguales determinadas por los ejes $x$ y $y$. El resto es trigonometría básica."
   ]
  },
  {
   "cell_type": "code",
   "execution_count": null,
   "metadata": {},
   "outputs": [],
   "source": []
  },
  {
   "cell_type": "markdown",
   "metadata": {},
   "source": [
    "---\n",
    "# Segundo punto. Programación lineal (35 puntos)\n",
    "\n",
    "Un empresario pretende fabricar dos tipos de congeladores denominados A y B. Cada uno de ellos debe pasar por tres operaciones antes de su comercialización: \n",
    "<table>\n",
    "  <tr>\n",
    "      <th></th>\n",
    "      <th>Ensamblaje</th>\n",
    "      <th>Pintura</th>\n",
    "      <th>Calidad</th>\n",
    "  </tr>\n",
    "  <tr>\n",
    "      <th>Congeladores tipo A</th>\n",
    "      <td>2.5 horas</td>\n",
    "      <td>3 kg</td>\n",
    "      <td>14 horas</td>\n",
    "  </tr>\n",
    "  <tr style=\"border-bottom: 1px solid #000;\">\n",
    "      <th>Congeladores tipo B</th>\n",
    "      <td>3 horas</td>\n",
    "      <td>6 kg</td>\n",
    "      <td>10 horas</td>\n",
    "  </tr>\n",
    "  <tr>\n",
    "      <td>Disponibilidad</td>\n",
    "      <td>4500 horas</td>\n",
    "      <td>8400 kg</td>\n",
    "      <td>20000 horas</td>\n",
    "  </tr>\n",
    "</table>\n",
    "\n",
    "El empresario dispone semanalmente de:\n",
    "\n",
    "* Máximo 4500 horas para ensamblaje\n",
    "* Máximo 8400 Kg. de esmalte\n",
    "* 20000 horas máximo, para control de calidad\n",
    "\n",
    "Los costos totales de fabricación por unidad son, respectivamente, 30 y 28, y los precios de venta 52 y 48, todos ellos en miles de pesos. Además, los estudios de mercado muestran que la demanda semanal de congeladores no supera las 1700 unidades y que, en particular, la de tipo A es de, al menos 600 unidades.\n",
    "\n",
    "<table>\n",
    "  <tr>\n",
    "      <th></th>\n",
    "      <th>Costo</th>\n",
    "      <th>Precio de venta</th>\n",
    "  </tr>\n",
    "  <tr>\n",
    "      <th>Congeladores tipo A</th>\n",
    "      <td>30</td>\n",
    "      <td>52</td>\n",
    "  </tr>\n",
    "  <tr>\n",
    "      <th>Congeladores tipo B</th>\n",
    "      <td>28</td>\n",
    "      <td>48</td>\n",
    "  </tr>\n",
    "</table>\n",
    "\n",
    "Se desea conocer las unidades necesarias para **maximizar** la utilidad.\n",
    "\n",
    "1. Escriba la función a **minimizar** junto con las restricciones, explicando detalladamente cada paso (usando fórmulas en $\\LaTeX$, en celdas Markdown). Además escriba el problema en la forma \\begin{equation}\n",
    "\\begin{array}{ll}\n",
    "\\min_{\\boldsymbol{x}} & \\boldsymbol{c}^T\\boldsymbol{x} \\\\\n",
    "\\text{s. a. }        & \\boldsymbol{A}_{eq}\\boldsymbol{x}=\\boldsymbol{b}_{eq} \\\\\n",
    "                     & \\boldsymbol{A}\\boldsymbol{x}\\leq\\boldsymbol{b},\n",
    "\\end{array}\\qquad\\text{(25 puntos)}\n",
    "\\end{equation}\n",
    "2. Resuelva el problema utilizando la función `linprog`. ¿Cuántos congeladores de cada tipo se deben producir (valores enteros)?, ¿Cuál es la ganancia? (10 puntos)"
   ]
  },
  {
   "cell_type": "code",
   "execution_count": null,
   "metadata": {},
   "outputs": [],
   "source": []
  },
  {
   "cell_type": "markdown",
   "metadata": {},
   "source": [
    "---\n",
    "# Tercer punto. Ajuste de curvas (30 puntos)\n",
    "Los siguientes datos extraidos de Administrative Office of the U.S. Courts, representan el número de bancarrotas en miles entre los años 1988 y 2001. "
   ]
  },
  {
   "cell_type": "code",
   "execution_count": 2,
   "metadata": {},
   "outputs": [],
   "source": [
    "import pandas as pd\n",
    "\n",
    "date_rng=pd.date_range(start='1/1/1988', end='31/12/2001', freq='Y')\n",
    "ban=pd.DataFrame(date_rng, columns=['date'])\n",
    "ban = ban.set_index('date')\n",
    "ban['values'] = np.array([594.6,643.0,725.5,880.4,972.5,918.7,845.3,858.1,\n",
    "                           1042.1,1317.0,1429.5,1392.0,1277.0,1386.6])"
   ]
  },
  {
   "cell_type": "markdown",
   "metadata": {},
   "source": [
    "1. Ajuste los salarios con polinomios de grado 1 a 5 y muestre los errores de forma gráfica, ¿Qué polinómio se ajusta mejor? (20 puntos)\n",
    "2. Muestre en un gráfico los datos y el polinómio que mejor se ajuste (5 puntos)\n",
    "3. Usar el modelo para averiguar el número de bancarrotas a mdiados de 1995 y predecirlo para el año 2020. ¿Qué diferencias encuentra en cuanto a la interpolación y la extrapolación? (5 puntos)"
   ]
  },
  {
   "cell_type": "code",
   "execution_count": null,
   "metadata": {},
   "outputs": [],
   "source": []
  }
 ],
 "metadata": {
  "kernelspec": {
   "display_name": "Python 3",
   "language": "python",
   "name": "python3"
  },
  "language_info": {
   "codemirror_mode": {
    "name": "ipython",
    "version": 3
   },
   "file_extension": ".py",
   "mimetype": "text/x-python",
   "name": "python",
   "nbconvert_exporter": "python",
   "pygments_lexer": "ipython3",
   "version": "3.8.8"
  }
 },
 "nbformat": 4,
 "nbformat_minor": 2
}
